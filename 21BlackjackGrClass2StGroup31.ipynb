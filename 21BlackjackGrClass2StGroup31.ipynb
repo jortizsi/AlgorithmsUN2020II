{
  "nbformat": 4,
  "nbformat_minor": 0,
  "metadata": {
    "colab": {
      "name": "21BlackjackGrClass2StGroup31.ipynb",
      "provenance": [],
      "collapsed_sections": []
    },
    "kernelspec": {
      "name": "python3",
      "display_name": "Python 3"
    }
  },
  "cells": [
    {
      "cell_type": "markdown",
      "metadata": {
        "id": "44NCbnb8eXoc"
      },
      "source": [
        "#**Laboratorio 4: Metodo de Montecarlo**\n",
        "#Grupo 31\n",
        "\n",
        "* Javier Alejandro Ortiz Silva.\n",
        "* Gustavo Alberto Puentes Romero\n",
        "* Cristian Daniel Ramirez Marin"
      ]
    },
    {
      "cell_type": "markdown",
      "metadata": {
        "id": "sFcSdNDPIU40"
      },
      "source": [
        "###Importacion de las librerias necearias"
      ]
    },
    {
      "cell_type": "code",
      "metadata": {
        "id": "7mUnmhfVryFo"
      },
      "source": [
        "import random\n",
        "import numpy as np\n",
        "import matplotlib.pyplot as plt"
      ],
      "execution_count": 40,
      "outputs": []
    },
    {
      "cell_type": "markdown",
      "metadata": {
        "id": "Lfr-OUGLjWnT"
      },
      "source": [
        "###Declaracion de barajas"
      ]
    },
    {
      "cell_type": "markdown",
      "metadata": {
        "id": "RzrW715_jac6"
      },
      "source": [
        "Para uso futuro, aqui se declararan los 4 tipos de barajas que se usaran en el laboratorio, y seran referenciadas en cada punto"
      ]
    },
    {
      "cell_type": "code",
      "metadata": {
        "id": "aM5meRyQjasS"
      },
      "source": [
        "  Baraja_completa_espanola_estandar =  [1,2,3,4,5,6,7,8,9, 10,11,12,\n",
        "                                        1,2,3,4,5,6,7,8,9, 10,11,12,\n",
        "                                        1,2,3,4,5,6,7,8,9, 10,11,12,\n",
        "                                        1,2,3,4,5,6,7,8,9, 10,11,12]\n",
        "\n",
        "Baraja_completa_espanola_regla_de_10 = [1,2,3,4,5,6,7,8,9,10,10,10,\n",
        "                                        1,2,3,4,5,6,7,8,9,10,10,10,\n",
        "                                        1,2,3,4,5,6,7,8,9,10,10,10,\n",
        "                                        1,2,3,4,5,6,7,8,9,10,10,10]\n",
        "\n",
        "\n",
        "Baraja_completa_poker_estandar = [1,2,3,4,5,6,7,8,9, 10,11,12,13,\n",
        "                                  1,2,3,4,5,6,7,8,9, 10,11,12,13,\n",
        "                                  1,2,3,4,5,6,7,8,9, 10,11,12,13,\n",
        "                                  1,2,3,4,5,6,7,8,9, 10,11,12,13] \n",
        "\n",
        "Baraja_completa_poker_regla_de_10 =[1,2,3,4,5,6,7,8,9,10,10,10,10,\n",
        "                                    1,2,3,4,5,6,7,8,9,10,10,10,10,\n",
        "                                    1,2,3,4,5,6,7,8,9,10,10,10,10,\n",
        "                                    1,2,3,4,5,6,7,8,9,10,10,10,10]\n"
      ],
      "execution_count": 41,
      "outputs": []
    },
    {
      "cell_type": "markdown",
      "metadata": {
        "id": "P225FOQoIpaV"
      },
      "source": [
        "##Funcion-procedimiento Montecarlo"
      ]
    },
    {
      "cell_type": "markdown",
      "metadata": {
        "id": "u6iKDPWvEUm2"
      },
      "source": [
        "\n",
        "Definimos la funcion generica de 'Montecarlo', la cual recibe como parametros la cantidad de experimentos (nexp), la baraja con la que se juega(Tipo_baraja),y que cartas ya tiene en la mano el jugador (Cartas_iniciales_jugador) \n",
        "\n",
        "La ejecucion de esta funcion imprime los valores de probabilidad, numero de cartas tomadas y su grafica de frecuencia en relacion a la probabilidad de sacar 21 segun los parametros ingresados.\n",
        "\n"
      ]
    },
    {
      "cell_type": "code",
      "metadata": {
        "id": "qRjzaI33sRD9"
      },
      "source": [
        "def Montecarlo(nexp,Tipo_de_baraja,Cartas_iniciales_jugador):\n",
        "\n",
        "  #Declaracion de variables auxiliares\n",
        "  numero_de_experimentos=nexp\n",
        "  Partidas_exitosas = 0\n",
        "\n",
        "  Acumulador_numero_de_cartas_partidas_exitosas = 0\n",
        "\n",
        "  Ocurrencia_numero_de_cartas_partidas_ganadas = []\n",
        "\n",
        "\n",
        "  #ITERAR EL NUMERO DE EXPERIMENTOS QUE SE INDICO\n",
        "  for i in range(numero_de_experimentos):\n",
        "\n",
        "    #Inicializar la baraja \n",
        "    Baraja_experimento_i = Tipo_de_baraja.copy()\n",
        "    #Inicializar las cartas del jugador\n",
        "    Cartas_del_jugador = Cartas_iniciales_jugador.copy()\n",
        "    #Inicializar el contador de cartas tomadas\n",
        "    Cartas_tomadas = len(Cartas_iniciales_jugador)\n",
        "                \n",
        "                \n",
        "                \n",
        "    #evaluar si el jugador ya se paso de 21, si no es asi, se seguira ejecutando el experimento i\n",
        "    while(sum(Cartas_del_jugador)<21):\n",
        "\n",
        "      #Elegir una carta aleatoria de la baraja \n",
        "      Carta_nueva = random.choice(Baraja_experimento_i)\n",
        "                  \n",
        "\n",
        "      #Quitar la carta de la baraja\n",
        "      Baraja_experimento_i.remove(Carta_nueva)\n",
        "                  \n",
        "\n",
        "      #Agregar la carta a la mano del jugador\n",
        "      Cartas_del_jugador.append( Carta_nueva)\n",
        "      Cartas_tomadas = Cartas_tomadas +1\n",
        "\n",
        "      #Si se obtiene 21 se actualizan los acumuladores y contadores\n",
        "      if (sum(Cartas_del_jugador) == 21):\n",
        "        Partidas_exitosas =  Partidas_exitosas +1\n",
        "        Acumulador_numero_de_cartas_partidas_exitosas = Acumulador_numero_de_cartas_partidas_exitosas +  Cartas_tomadas\n",
        "        Ocurrencia_numero_de_cartas_partidas_ganadas.append(Cartas_tomadas)\n",
        "\n",
        "\n",
        "  #Impresion de los resultados\n",
        "  print(\"Considerando\",numero_de_experimentos,\"experimentos, los resultados obtenidos son:\\n\",)\n",
        "\n",
        "  print(\"     Probabilidad de obtener 21 = \",Partidas_exitosas/numero_de_experimentos)\n",
        "\n",
        "\n",
        "  if(Partidas_exitosas>0):\n",
        "\n",
        "    print(\"     Promedio de cartas tomadas en las partidas exitosas = \",Acumulador_numero_de_cartas_partidas_exitosas / Partidas_exitosas,\"\\n\\n\\n\")\n",
        "\n",
        "    \n",
        "\n",
        "    #Dibujo de la grafica de la ocurrencia en el numero de cartas tomadas por el jugador cuando obtuvo 21\n",
        "    arreglo_ocurrencia = np.array(Ocurrencia_numero_de_cartas_partidas_ganadas)\n",
        "    plt.hist(arreglo_ocurrencia, bins=np.arange(arreglo_ocurrencia.min(),arreglo_ocurrencia.max()+3))\n"
      ],
      "execution_count": 42,
      "outputs": []
    },
    {
      "cell_type": "markdown",
      "metadata": {
        "id": "oYO48shk1DB9"
      },
      "source": [
        "#**Punto #1**"
      ]
    },
    {
      "cell_type": "markdown",
      "metadata": {
        "id": "KyjjenAGLz__"
      },
      "source": [
        "Estimate the probability of getting a 21, the average number of cards required to complete 21 and plot the experimental distribution of the number of card required to complete 21 drawing cards sequentially from a shuffled Spanish 48-card deck with card values [1,2,3,4,5,6,7,10,11,12,1,2,3,4,5,6,7,8,9,10,11,12,1,2,3,4,5,6,7,8,9,10,11,12,1,2,3,4,5,6,7,8,9,10,11,12] and from a shuffled Poker 52-card with card values [1,2,3,4,5,6,7,8,9,10,11,12,13,1,2,3,4,5,6,7,8,9,10,11,12,13,1,2,3,4,5,6,7,8,9,10,11,12,13,1,2,3,4,5,6,7,8,9,10,11,12,13] using Montecarlo with 10 millions simulations."
      ]
    },
    {
      "cell_type": "markdown",
      "metadata": {
        "id": "csj7R923MFwW"
      },
      "source": [
        "##Parte A: probabilidad de obtener 21 con Baraja completa espanola estandar"
      ]
    },
    {
      "cell_type": "markdown",
      "metadata": {
        "id": "AhPROjsnMhAu"
      },
      "source": [
        "Corremos el metodo de Montecarlo, definido previamente, indicando que se realizen 10M experimentos,se vayan retirando cartas de una baraja completa espanola estandar , y que el jugador inicia sin ninguna carta."
      ]
    },
    {
      "cell_type": "code",
      "metadata": {
        "id": "7Va3G8Zq5KyL",
        "outputId": "b8d75e02-2bd5-4288-beee-13bb6b8edef7",
        "colab": {
          "base_uri": "https://localhost:8080/",
          "height": 423
        }
      },
      "source": [
        "print(\"Baraja completa espanola: \\n\")\n",
        "Montecarlo(10000000,Baraja_completa_espanola_estandar,[])"
      ],
      "execution_count": 43,
      "outputs": [
        {
          "output_type": "stream",
          "text": [
            "Baraja completa espanola: \n",
            "\n",
            "Considerando 10000000 experimentos, los resultados obtenidos son:\n",
            "\n",
            "     Probabilidad de obtener 21 =  0.1579155\n",
            "     Promedio de cartas tomadas en las partidas exitosas =  3.4150580531993375 \n",
            "\n",
            "\n",
            "\n"
          ],
          "name": "stdout"
        },
        {
          "output_type": "display_data",
          "data": {
            "image/png": "[encoded data removed]",
            "text/plain": [
              "<Figure size 432x288 with 1 Axes>"
            ]
          },
          "metadata": {
            "tags": [],
            "needs_background": "light"
          }
        }
      ]
    },
    {
      "cell_type": "markdown",
      "metadata": {
        "id": "_yjyaAcpNjLo"
      },
      "source": [
        "##Parte B: probabilidad de obtener 21 con una baraja completa de poker estandar "
      ]
    },
    {
      "cell_type": "markdown",
      "metadata": {
        "id": "yzP4RCHmNjtt"
      },
      "source": [
        "Corremos el metodo de Montecarlo, definido previamente, indicando que se realizen 10M experimentos,se vayan retirando cartas de una baraja completa de poker estandar , y que el jugador inicia sin ninguna carta."
      ]
    },
    {
      "cell_type": "code",
      "metadata": {
        "id": "2MmKRZYmnmKM",
        "outputId": "af300528-142a-4243-ce9a-c6eae0b1affd",
        "colab": {
          "base_uri": "https://localhost:8080/",
          "height": 423
        }
      },
      "source": [
        "print(\"Baraja completa Poker: \\n\")\n",
        "Montecarlo(10000000,Baraja_completa_poker_estandar,[])"
      ],
      "execution_count": 44,
      "outputs": [
        {
          "output_type": "stream",
          "text": [
            "Baraja completa Poker: \n",
            "\n",
            "Considerando 10000000 experimentos, los resultados obtenidos son:\n",
            "\n",
            "     Probabilidad de obtener 21 =  0.144813\n",
            "     Promedio de cartas tomadas en las partidas exitosas =  3.2156919613570607 \n",
            "\n",
            "\n",
            "\n"
          ],
          "name": "stdout"
        },
        {
          "output_type": "display_data",
          "data": {
            "image/png": "[encoded data removed]",
            "text/plain": [
              "<Figure size 432x288 with 1 Axes>"
            ]
          },
          "metadata": {
            "tags": [],
            "needs_background": "light"
          }
        }
      ]
    },
    {
      "cell_type": "markdown",
      "metadata": {
        "id": "TFe3lNJ51gMu"
      },
      "source": [
        "#**Punto #2**"
      ]
    },
    {
      "cell_type": "markdown",
      "metadata": {
        "id": "qbfCHZqWOKTT"
      },
      "source": [
        "Estimate the probability of getting a 21, the average number of cards required to complete 21 and plot the experimental distribution of the number of card required to complete 21 drawing cards sequentially from a shuffled Spanish 48-card deck with card values [1,2,3,4,5,6,7,8,9,10,10,10,1,2,3,4,5,6,7,8,9,10,10,10,1,2,3,4,5,6,7,8,9,10,10,10,1,2,3,4,5,6,7,8,9,10,10,10] and from a shuffled Poker 52-card deck with card values [1,2,3,4,5,6,7,8,9,10,11,12,13,1,2,3,4,5,6,7,8,9,10,10,10,10,1,2,3,4,5,6,7,8,9,10,10,10,10,1,2,3,4,5,6,7,8,9,10,10,10,10] using Montecarlo with 10 millions simulations."
      ]
    },
    {
      "cell_type": "markdown",
      "metadata": {
        "id": "CQX2u6dXOTj4"
      },
      "source": [
        "##Parte A: probabilidad de obtener 21 con una baraja completa espanola usando regla de 10"
      ]
    },
    {
      "cell_type": "markdown",
      "metadata": {
        "id": "PlvMLHxdOqvx"
      },
      "source": [
        "Corremos el metodo de Montecarlo, definido previamente, indicando que se realizen 10M experimentos,se vayan retirando cartas de una baraja completa espanola donde se aplica regla de 10, y que el jugador inicia sin ninguna carta."
      ]
    },
    {
      "cell_type": "code",
      "metadata": {
        "id": "WWbAkPZW2CU0",
        "outputId": "7e276c09-4d00-4021-f4d9-dcf184d36e52",
        "colab": {
          "base_uri": "https://localhost:8080/",
          "height": 423
        }
      },
      "source": [
        "print(\"Baraja espanola version regla de 10: \\n\")\n",
        "Montecarlo(10000000,Baraja_completa_espanola_regla_de_10,[])"
      ],
      "execution_count": 45,
      "outputs": [
        {
          "output_type": "stream",
          "text": [
            "Baraja espanola version regla de 10: \n",
            "\n",
            "Considerando 10000000 experimentos, los resultados obtenidos son:\n",
            "\n",
            "     Probabilidad de obtener 21 =  0.1496386\n",
            "     Promedio de cartas tomadas en las partidas exitosas =  3.6999337069445986 \n",
            "\n",
            "\n",
            "\n"
          ],
          "name": "stdout"
        },
        {
          "output_type": "display_data",
          "data": {
            "image/png": "[encoded data removed]",
            "text/plain": [
              "<Figure size 432x288 with 1 Axes>"
            ]
          },
          "metadata": {
            "tags": [],
            "needs_background": "light"
          }
        }
      ]
    },
    {
      "cell_type": "markdown",
      "metadata": {
        "id": "Q61_LIhZOi4x"
      },
      "source": [
        "##Parte B: probabilidad de obtener 21 con una baraja completa de poker usando regla de 10"
      ]
    },
    {
      "cell_type": "markdown",
      "metadata": {
        "id": "DYJptSRXPCHA"
      },
      "source": [
        "Corremos el metodo de Montecarlo, definido previamente, indicando que se realizen 10M experimentos,se vayan retirando cartas de una baraja completa de poker donde se aplica regla de 10, y que el jugador inicia sin ninguna carta."
      ]
    },
    {
      "cell_type": "code",
      "metadata": {
        "id": "AhRSifHX_mYX",
        "outputId": "23ae7ba0-9a76-4506-e83b-f5dd1ee8b97d",
        "colab": {
          "base_uri": "https://localhost:8080/",
          "height": 458
        }
      },
      "source": [
        "print(\"\\n\\nBaraja de poker version regla de 10: \\n\")\n",
        "Montecarlo(10000000,Baraja_completa_poker_regla_de_10,[])"
      ],
      "execution_count": 46,
      "outputs": [
        {
          "output_type": "stream",
          "text": [
            "\n",
            "\n",
            "Baraja de poker version regla de 10: \n",
            "\n",
            "Considerando 10000000 experimentos, los resultados obtenidos son:\n",
            "\n",
            "     Probabilidad de obtener 21 =  0.1401191\n",
            "     Promedio de cartas tomadas en las partidas exitosas =  3.5784100811381174 \n",
            "\n",
            "\n",
            "\n"
          ],
          "name": "stdout"
        },
        {
          "output_type": "display_data",
          "data": {
            "image/png": "[encoded data removed]",
            "text/plain": [
              "<Figure size 432x288 with 1 Axes>"
            ]
          },
          "metadata": {
            "tags": [],
            "needs_background": "light"
          }
        }
      ]
    },
    {
      "cell_type": "markdown",
      "metadata": {
        "id": "xbEEb_AwV_hW"
      },
      "source": [
        "#**Punto #3**"
      ]
    },
    {
      "cell_type": "markdown",
      "metadata": {
        "id": "fG3m47QwV1yj"
      },
      "source": [
        "Para este punto crearemos algunas funciones auxiliares y luego mediante estas y el Metodo Montecarlo declarado al inicio del notebook realizaremos la solucion.\n",
        "\n",
        "Despues de una seccion donde se explican estas funciones auxiliares, se encuentra el enunciado del problema y la solucion."
      ]
    },
    {
      "cell_type": "markdown",
      "metadata": {
        "id": "d4YUNsBLVO8F"
      },
      "source": [
        "##||||||||||||||||||||||||||||||||||||||||||||||||||||||||||||||||||||||||||||||||"
      ]
    },
    {
      "cell_type": "markdown",
      "metadata": {
        "id": "wuwEeMZuUCRr"
      },
      "source": [
        "##Funciones auxiliares"
      ]
    },
    {
      "cell_type": "markdown",
      "metadata": {
        "id": "x2OF0jh2Zvz_"
      },
      "source": [
        "Para el punto 3 es necesario establecer algunas funciones auxiliares para hacer la simulacion correctamente. Esto debido a que necesitamos generar una baraja con n/2 cartas (es decir con 24 o 26 cartas segun el tipo de baraja) a partir de una baraja completa de donde el jugador ya retiro 7,7 y 5.\n"
      ]
    },
    {
      "cell_type": "markdown",
      "metadata": {
        "id": "hP13JXXGDxIP"
      },
      "source": [
        "\n",
        "\n",
        "*   eliminar_cartas_jugador: como su nombre especifica, dada una baraja,le elimina las cartas que el jugador ya tenga\n",
        "\n",
        "*   eliminar_n_cartas: elimina una cantidad especifica de cartas de la baraja de manera aleatoria\n",
        "\n",
        "* armar_media_baraja: dado un tipo de baraja que completa tendria n cartas, se genera una baraja donde hayan n/2 cartas y no esten las cartas que el jugador ya retiro.\n"
      ]
    },
    {
      "cell_type": "markdown",
      "metadata": {
        "id": "dhw1MsVzUS9u"
      },
      "source": [
        "Gracias a agregar estas funciones podemos seguir haciendo uso del Metodo Montecarlo definido desde el principio."
      ]
    },
    {
      "cell_type": "markdown",
      "metadata": {
        "id": "QcNh7QnRiHVE"
      },
      "source": [
        "###eliminar_cartas_jugador:"
      ]
    },
    {
      "cell_type": "code",
      "metadata": {
        "id": "_OH8MXDMDv0S"
      },
      "source": [
        "#funcion auxiliar para eliminar las cartas que tenga el jugador\n",
        "def eliminar_cartas_jugador(cartas_jugador,Baraja):\n",
        "  \n",
        "  #variables auiliares con las que se eliminara los valores deseados\n",
        "  baraja_aux=Baraja.copy()\n",
        "  cartas_jugador_aux=cartas_jugador.copy()\n",
        "\n",
        "  #se recorre la baraja de cartas del jugador, eliminando cada una de la baraja principal\n",
        "  for i in range(len(cartas_jugador_aux)):\n",
        "    baraja_aux.remove(cartas_jugador[i])\n",
        "  return baraja_aux"
      ],
      "execution_count": 47,
      "outputs": []
    },
    {
      "cell_type": "code",
      "metadata": {
        "id": "NJZjRF05n7Xq",
        "outputId": "400166aa-c4e1-4f64-ae07-c49fde63771e",
        "colab": {
          "base_uri": "https://localhost:8080/",
          "height": 34
        }
      },
      "source": [
        "#Ejemplo\n",
        "print(\"Con una lista de enteros de 1 a 10, si quitamos los pares quedan\",eliminar_cartas_jugador([2,4,6,8,10],[1,2,3,4,5,6,7,8,9,10]))"
      ],
      "execution_count": 48,
      "outputs": [
        {
          "output_type": "stream",
          "text": [
            "Con una lista de enteros de 1 a 10, si quitamos los pares quedan [1, 3, 5, 7, 9]\n"
          ],
          "name": "stdout"
        }
      ]
    },
    {
      "cell_type": "markdown",
      "metadata": {
        "id": "0JujmzkFiNz8"
      },
      "source": [
        "###eliminar_n_cartas:"
      ]
    },
    {
      "cell_type": "code",
      "metadata": {
        "id": "-lXUNzr3iSeO"
      },
      "source": [
        "def eliminar_n_cartas(n,baraja):\n",
        "  baraja_aux=baraja.copy()\n",
        "  for i in range(n):\n",
        "    baraja_aux.remove(random.choice(baraja_aux))\n",
        "  return baraja_aux"
      ],
      "execution_count": 49,
      "outputs": []
    },
    {
      "cell_type": "code",
      "metadata": {
        "id": "vHnt21oeoaDm",
        "outputId": "f6c568a8-6da1-4758-c9d0-c72409792dea",
        "colab": {
          "base_uri": "https://localhost:8080/",
          "height": 52
        }
      },
      "source": [
        "#Ejemplo\n",
        "Baraja_ejemplo_borrado = [1,2,3,4,5,6,7,8,9,10]\n",
        "print(\"La baraja tenia un numero de cartas igual a\",len(Baraja_ejemplo_borrado))\n",
        "print(\"Despues de quitar 5 quedan en total\",len(eliminar_n_cartas(5,[1,2,3,4,5,6,7,8,9,10])))"
      ],
      "execution_count": 50,
      "outputs": [
        {
          "output_type": "stream",
          "text": [
            "La baraja tenia un numero de cartas igual a 10\n",
            "Despues de quitar 5 quedan en total 5\n"
          ],
          "name": "stdout"
        }
      ]
    },
    {
      "cell_type": "markdown",
      "metadata": {
        "id": "gc_j6SfPuCiz"
      },
      "source": [
        "###Armar media baraja:"
      ]
    },
    {
      "cell_type": "code",
      "metadata": {
        "id": "gdNNSKfbj277"
      },
      "source": [
        "#Armar media baraja\n",
        "def armar_media_baraja(tipo_de_baraja, cartas_no_disponibles):\n",
        "  \n",
        "  #eliminar de la baraja las cartas que ya posea el jugador\n",
        "  Media_baraja = eliminar_cartas_jugador(cartas_no_disponibles,tipo_de_baraja)\n",
        "\n",
        "  #Generar una baraja de n/2 cartas. El jugador ya quito m <= n/2, entonces basta quitar (m/2)-m para que quede la otra mitad\n",
        "  n_medios = len(tipo_de_baraja)/2\n",
        "  Media_baraja = eliminar_n_cartas(  ( int(n_medios)-len(cartas_no_disponibles) )  , Media_baraja)\n",
        "\n",
        "  return Media_baraja\n",
        "        "
      ],
      "execution_count": 51,
      "outputs": []
    },
    {
      "cell_type": "code",
      "metadata": {
        "id": "PHr2J5UdnMv-",
        "outputId": "4fc54128-301a-432a-8726-8ca1a2cd448a",
        "colab": {
          "base_uri": "https://localhost:8080/",
          "height": 70
        }
      },
      "source": [
        "#ejemplo\n",
        "print(\"Usando una baraja inicial\",[1,2,3,4,5,6,7,8,9,10,11,12],\"\\n\",\n",
        "      \"Si queremos obtener n/2 cartas, entre las cuales no pueden estar\",[1,2],\"\\n\",\n",
        "      \"una nueva baraja que podemos usar es\",armar_media_baraja([1,2,3,4,5,6,7,8,9,10,11,12],[1,2]))"
      ],
      "execution_count": 52,
      "outputs": [
        {
          "output_type": "stream",
          "text": [
            "Usando una baraja inicial [1, 2, 3, 4, 5, 6, 7, 8, 9, 10, 11, 12] \n",
            " Si queremos obtener n/2 cartas, entre las cuales no pueden estar [1, 2] \n",
            " una nueva baraja que podemos usar es [5, 6, 9, 10, 11, 12]\n"
          ],
          "name": "stdout"
        }
      ]
    },
    {
      "cell_type": "markdown",
      "metadata": {
        "id": "WaL4SNljVmBz"
      },
      "source": [
        "##||||||||||||||||||||||||||||||||||||||||||||||||||||||||||||||||||||||||||||||||"
      ]
    },
    {
      "cell_type": "markdown",
      "metadata": {
        "id": "WmqwgV8JWfNV"
      },
      "source": [
        "**Enunciado del punto 3**"
      ]
    },
    {
      "cell_type": "markdown",
      "metadata": {
        "id": "nCazkXLtWQfE"
      },
      "source": [
        "Estimate the probability of getting a 21, the average total number of cards required to complete 21 (including the three that you start with) and plot the experimental distribution of the number of card required to complete 21 with drawing cards sequentially from a shuffled Spanish 48-card deck with 3 10’s and a shuffled Poker 52-card deck with 4 10’s, assuming that you have in your hand the cards [7,7,5]ae and the remaining deck has n/2 cards. You can pick the n/2 cards in the remaining deck in whatever way you choose but with restriction that this has maximum two 7s and three 5, you have to keep the remaining deck fixed through the simulations, use Montecarlo with 10 millions simulations."
      ]
    },
    {
      "cell_type": "markdown",
      "metadata": {
        "id": "ScW-cD2CCNdO"
      },
      "source": [
        "##Parte A: probabilidad de obtener 21 en una partida donde el jugador inicia con [7,7,5] y se toman cartas de una media baraja espanola usando regla de 10"
      ]
    },
    {
      "cell_type": "code",
      "metadata": {
        "id": "aJJLIG-Yq_GR",
        "outputId": "f92cbe66-8951-4674-f355-f188dcf6eb11",
        "colab": {
          "base_uri": "https://localhost:8080/",
          "height": 476
        }
      },
      "source": [
        "#Generamos una baraja de 24 cartas a partir de Baraja_completa_espanola_regla_de_10, con la restriccion de que a lo mas hayan dos 7 y tres 5\n",
        "Baraja_del_juego = armar_media_baraja(Baraja_completa_espanola_regla_de_10,[7,7,5])\n",
        "print(\"Media baraja usada =\",Baraja_del_juego,\"\\n\")\n",
        "\n",
        "#Calculamos la probabilidad teorica de obtener 21 si el jugador tiene tiene [7,7,5] de suma 19 y usando la media baraja generada.\n",
        "prob_teorica = Baraja_del_juego.count(2)/len(Baraja_del_juego) + Baraja_del_juego.count(1)*(Baraja_del_juego.count(1)-1)/(len(Baraja_del_juego)*(len(Baraja_del_juego)-1))\n",
        "print(\"Probabilidad teorica de obtener 21 =\",prob_teorica,\"\\n\\n\")\n",
        "\n",
        "\n",
        "#Corremos el metodo de montecarlo usando la media baraja generada e indicando las cartas iniciales del jugador\n",
        "Montecarlo(10000000,Baraja_del_juego,[7,7,5])"
      ],
      "execution_count": 53,
      "outputs": [
        {
          "output_type": "stream",
          "text": [
            "Media baraja usada = [1, 4, 1, 2, 3, 4, 5, 6, 7, 9, 10, 10, 10, 1, 2, 3, 4, 5, 6, 7, 9, 10, 10, 10] \n",
            "\n",
            "Probabilidad teorica de obtener 21 = 0.09420289855072464 \n",
            "\n",
            "\n",
            "Considerando 10000000 experimentos, los resultados obtenidos son:\n",
            "\n",
            "     Probabilidad de obtener 21 =  0.0942048\n",
            "     Promedio de cartas tomadas en las partidas exitosas =  4.115707479873637 \n",
            "\n",
            "\n",
            "\n"
          ],
          "name": "stdout"
        },
        {
          "output_type": "display_data",
          "data": {
            "image/png": "[encoded data removed]",
            "text/plain": [
              "<Figure size 432x288 with 1 Axes>"
            ]
          },
          "metadata": {
            "tags": [],
            "needs_background": "light"
          }
        }
      ]
    },
    {
      "cell_type": "markdown",
      "metadata": {
        "id": "k_qHYD2LVEyr"
      },
      "source": [
        "##Parte B: probabilidad de obtener 21 en una partida donde el jugador inicia con [7,7,5] y se toman cartas de una media baraja de poker usando regla de 10"
      ]
    },
    {
      "cell_type": "code",
      "metadata": {
        "id": "oD2bRcBJGDtX",
        "outputId": "41ce9263-067a-4f88-8137-2c4b30969568",
        "colab": {
          "base_uri": "https://localhost:8080/",
          "height": 478
        }
      },
      "source": [
        "#Generamos una baraja de 26 cartas a partir de Baraja_completa_poker_regla_de_10, con la restriccion de que a lo mas hayan dos 7 y tres 5\n",
        "Baraja_del_juego = armar_media_baraja(Baraja_completa_poker_regla_de_10,[7,7,5])\n",
        "print(\"Media baraja usada =\",Baraja_del_juego,\"\\n\")\n",
        "\n",
        "#Calculamos la probabilidad teorica de obtener 21 si el jugador tiene tiene [7,7,5] de suma 19 y usando la media baraja generada.\n",
        "prob_teorica = Baraja_del_juego.count(2)/len(Baraja_del_juego) + Baraja_del_juego.count(1)*(Baraja_del_juego.count(1)-1)/(len(Baraja_del_juego)*(len(Baraja_del_juego)-1))\n",
        "print(\"Probabilidad teorica de obtener 21 =\",prob_teorica,\"\\n\\n\")\n",
        "\n",
        "\n",
        "#Corremos el metodo de montecarlo usando la media baraja generada e indicando las cartas iniciales del jugador\n",
        "Montecarlo(10000000,Baraja_del_juego,[7,7,5])"
      ],
      "execution_count": 54,
      "outputs": [
        {
          "output_type": "stream",
          "text": [
            "Media baraja usada = [9, 6, 9, 1, 3, 5, 6, 8, 9, 10, 10, 10, 10, 1, 2, 3, 4, 5, 6, 7, 8, 9, 10, 10, 10, 10] \n",
            "\n",
            "Probabilidad teorica de obtener 21 = 0.04153846153846154 \n",
            "\n",
            "\n",
            "Considerando 10000000 experimentos, los resultados obtenidos son:\n",
            "\n",
            "     Probabilidad de obtener 21 =  0.0414655\n",
            "     Promedio de cartas tomadas en las partidas exitosas =  4.07343213032521 \n",
            "\n",
            "\n",
            "\n"
          ],
          "name": "stdout"
        },
        {
          "output_type": "display_data",
          "data": {
            "image/png": "[encoded data removed]",
            "text/plain": [
              "<Figure size 432x288 with 1 Axes>"
            ]
          },
          "metadata": {
            "tags": [],
            "needs_background": "light"
          }
        }
      ]
    },
    {
      "cell_type": "markdown",
      "metadata": {
        "id": "eFzeS5A-dj8y"
      },
      "source": [
        "##**Punto #4**"
      ]
    },
    {
      "cell_type": "markdown",
      "metadata": {
        "id": "UnghAFBVZ0cS"
      },
      "source": [
        "Find two remaining decks with 12 cards for Alg Gr 1 9-11 and with 10 cards for Alg Gr 2 11-1 s; for a Spanish 48-card deck with 3 10’s and for a Poker 52-card deck with 4 10’s; one remaining deck with 8 cards that has the highest probability of getting 21 (hot deck) and the other remaining deck with 8 cards that has the lowest probability of getting 21(cold deck). Assuming that you have in your hand the cards [7,7,5], calculate analytically the probabilities of getting a 21 for both the hot an cold deck, estimate this probabilities of getting a 21, the average total number of cards required to complete 21 (including the three that you start with) and plot the experimental distribution of the total number of card required to complete 21 (including the three that you start with) using Montecarlo with 10 millions simulations.\n",
        "\n",
        "\n",
        "\n",
        "\n"
      ]
    },
    {
      "cell_type": "markdown",
      "metadata": {
        "id": "KLHSxeMoaPRX"
      },
      "source": [
        "##Decks especiales"
      ]
    },
    {
      "cell_type": "markdown",
      "metadata": {
        "id": "HWbA1DnSqEh2"
      },
      "source": [
        "Para este punto, es necesario usar el metodo de Montecarlo con unos Decks predefinidos.\n",
        "\n",
        "Esto es posible ya que el criterio para que que un Deck sea caliente es que simplemente debe tener todos los 1 y todos los 2. El motivo de esto es que el jugador tiene [7,7,5] cuya suma es 19 y por tanto solo sacar uno o dos lleva a obtener 21.\n",
        "\n",
        "Como Deck frio se considera cualquier Deck que no tenga ni 1 ni 2, lo que intuitivamente es causa de que el jugador se sobrepase de 21.\n",
        "\n"
      ]
    },
    {
      "cell_type": "code",
      "metadata": {
        "id": "iQK0KgCNA0Q-"
      },
      "source": [
        "Hot_deck_8 = [1,1,1,1,\n",
        "              2,2,2,2]\n",
        "\n",
        "Hot_deck_10 = [1,1,1,1,\n",
        "               2,2,2,2,\n",
        "               3,3]\n",
        "\n",
        "Hot_deck_12 = [1,1,1,1,\n",
        "               2,2,2,2,\n",
        "               3,3,3,3]\n",
        "\n",
        "\n",
        "Cold_deck_8 = [10,10,10,10,\n",
        "               9,9,9,9]\n",
        "\n",
        "Cold_deck_10 = [10,10,10,10,\n",
        "               9,9,9,9,\n",
        "               8,8]\n",
        "\n",
        "Cold_deck_12 = [10,10,10,10,\n",
        "               9,9,9,9,\n",
        "               8,8,8,8]"
      ],
      "execution_count": 55,
      "outputs": []
    },
    {
      "cell_type": "markdown",
      "metadata": {
        "id": "e0heUwMwfPph"
      },
      "source": [
        "#8 cartas restantes:"
      ]
    },
    {
      "cell_type": "code",
      "metadata": {
        "id": "lrrBoo50fSKl",
        "outputId": "7e83b8e5-e3e4-4030-bb7e-74341e10dd1c",
        "colab": {
          "base_uri": "https://localhost:8080/",
          "height": 34
        }
      },
      "source": [
        "#Probablidad analitica teniendo [7,7,5] y un Hot deck de 8 cartas de obtener 21\n",
        "\n",
        "#dos unos o un dos\n",
        "print(((4/8)*(3/7)) + (4/8))"
      ],
      "execution_count": 56,
      "outputs": [
        {
          "output_type": "stream",
          "text": [
            "0.7142857142857143\n"
          ],
          "name": "stdout"
        }
      ]
    },
    {
      "cell_type": "code",
      "metadata": {
        "id": "r1dJFlWmffGG",
        "outputId": "d368cee1-bb5e-4b08-fa29-1d156a9b47c0",
        "colab": {
          "base_uri": "https://localhost:8080/",
          "height": 399
        }
      },
      "source": [
        "Montecarlo(10000000,Hot_deck_8,[7,7,5])"
      ],
      "execution_count": 57,
      "outputs": [
        {
          "output_type": "stream",
          "text": [
            "Considerando 10000000 experimentos, los resultados obtenidos son:\n",
            "\n",
            "     Probabilidad de obtener 21 =  0.7142765\n",
            "     Promedio de cartas tomadas en las partidas exitosas =  4.300245353165056 \n",
            "\n",
            "\n",
            "\n"
          ],
          "name": "stdout"
        },
        {
          "output_type": "display_data",
          "data": {
            "image/png": "[encoded data removed]",
            "text/plain": [
              "<Figure size 432x288 with 1 Axes>"
            ]
          },
          "metadata": {
            "tags": [],
            "needs_background": "light"
          }
        }
      ]
    },
    {
      "cell_type": "code",
      "metadata": {
        "id": "V9-N4a46frYe",
        "outputId": "c921c3d7-9e84-4069-e0eb-d9bc269f9dc5",
        "colab": {
          "base_uri": "https://localhost:8080/",
          "height": 70
        }
      },
      "source": [
        "Montecarlo(10000000,Cold_deck_8,[7,7,5])"
      ],
      "execution_count": 58,
      "outputs": [
        {
          "output_type": "stream",
          "text": [
            "Considerando 10000000 experimentos, los resultados obtenidos son:\n",
            "\n",
            "     Probabilidad de obtener 21 =  0.0\n"
          ],
          "name": "stdout"
        }
      ]
    },
    {
      "cell_type": "markdown",
      "metadata": {
        "id": "oak1nIn3qwAr"
      },
      "source": [
        "#10 cartas restantes:"
      ]
    },
    {
      "cell_type": "code",
      "metadata": {
        "id": "a2XMfVqPGec-",
        "outputId": "238b62da-605a-47b0-b844-cbf5905d4c7b",
        "colab": {
          "base_uri": "https://localhost:8080/",
          "height": 34
        }
      },
      "source": [
        "#Probablidad analitica teniendo [7,7,5] y un Hot deck de 10 cartas de obtener 21\n",
        "\n",
        "#dos unos o un dos\n",
        "print(((4/10)*(3/9)) + (4/10))"
      ],
      "execution_count": 59,
      "outputs": [
        {
          "output_type": "stream",
          "text": [
            "0.5333333333333333\n"
          ],
          "name": "stdout"
        }
      ]
    },
    {
      "cell_type": "code",
      "metadata": {
        "id": "Rw5G8GKgbPm9",
        "outputId": "8d299aca-dc1c-474e-e855-3b313f827b48",
        "colab": {
          "base_uri": "https://localhost:8080/",
          "height": 399
        }
      },
      "source": [
        "Montecarlo(10000000,Hot_deck_10,[7,7,5])"
      ],
      "execution_count": 60,
      "outputs": [
        {
          "output_type": "stream",
          "text": [
            "Considerando 10000000 experimentos, los resultados obtenidos son:\n",
            "\n",
            "     Probabilidad de obtener 21 =  0.5335071\n",
            "     Promedio de cartas tomadas en las partidas exitosas =  4.250078583771425 \n",
            "\n",
            "\n",
            "\n"
          ],
          "name": "stdout"
        },
        {
          "output_type": "display_data",
          "data": {
            "image/png": "[encoded data removed]",
            "text/plain": [
              "<Figure size 432x288 with 1 Axes>"
            ]
          },
          "metadata": {
            "tags": [],
            "needs_background": "light"
          }
        }
      ]
    },
    {
      "cell_type": "code",
      "metadata": {
        "id": "2kWMedbQcVDS",
        "outputId": "1a4660eb-3017-49ea-c695-0b496d7f3225",
        "colab": {
          "base_uri": "https://localhost:8080/",
          "height": 70
        }
      },
      "source": [
        "Montecarlo(10000000,Cold_deck_10,[7,7,5])"
      ],
      "execution_count": 61,
      "outputs": [
        {
          "output_type": "stream",
          "text": [
            "Considerando 10000000 experimentos, los resultados obtenidos son:\n",
            "\n",
            "     Probabilidad de obtener 21 =  0.0\n"
          ],
          "name": "stdout"
        }
      ]
    },
    {
      "cell_type": "markdown",
      "metadata": {
        "id": "6E1dlK2O20y4"
      },
      "source": [
        "##**Punto #5**"
      ]
    },
    {
      "cell_type": "markdown",
      "metadata": {
        "id": "ghoLq7L33Hhg"
      },
      "source": [
        "Estimate the average amount of money (expected value) that Ben wins or losses on a weekend if Ben goes to Vegas every weekend (Friday, Saturday and Sunday), plays every weekend day 10 hours, each game takes 3 mins. \n",
        "\n",
        "Assume that for each game he gets two possibilities, in one he gets in his hand the cards [7,7,5] and a remaining hot deck cards with 12 cards for Alg Gr 1 9-11 and with 10 cards for Alg Gr 2 11-1 which case he bets 1000 this happens with probability 1/10; in the other one he gets no cards in his hand a complete shuffled deck in which case he bets 10, this happens with the remaining probability 9/10. \n",
        "\n",
        "Use 10000 Montecarlo simulations to estimated the expected amount of money that Ben wins or losses on a weekend for a Spanish 48-card deck with 3 10’s and for a Poker 52-card deck with 4 10’s.\n",
        "\n"
      ]
    },
    {
      "cell_type": "markdown",
      "metadata": {
        "id": "DClXqqx9F5_y"
      },
      "source": [
        "*   Función FindeSemana adaptada para el caso de Ben:\n",
        "\n"
      ]
    },
    {
      "cell_type": "code",
      "metadata": {
        "id": "sXx-JP4qDj8B"
      },
      "source": [
        "def FindeSemana(nexp, baraja):\n",
        "  \n",
        "  #Declaracion de variables auxiliares\n",
        "  total_dinero = 0\n",
        "  numero_de_experimentos=nexp\n",
        "  Partidas_exitosas = 0\n",
        "\n",
        "  Acumulador_numero_de_cartas_partidas_exitosas = 0\n",
        "\n",
        "  Ocurrencia_numero_de_cartas_partidas_ganadas = []\n",
        "\n",
        "  probabilidad_hot_deck = 1/10\n",
        "\n",
        "\n",
        "  #ITERAR EL NUMERO DE PARTIDAS QUE SE INDICO\n",
        "  for i in range(numero_de_experimentos):\n",
        "\n",
        "\n",
        "    #-----------------------------------------------------------------------\n",
        "    # Cálculo de probabilidad para el Hot Deck\n",
        "\n",
        "    #Se genera un numero aleatorio de 0 a 1. Mas adelante, si el numero es menor o igual a 0.1 entonces, el juego actual\n",
        "    #entra en el 10% de juegos en que salieron Hot decks\n",
        "\n",
        "    probabilidad  = random.random()\n",
        "\n",
        "    #------------------------------------------------------------------------\n",
        "\n",
        "\n",
        "\n",
        "\n",
        "\n",
        "#>>>>>>>>>>>>>>>>>>>>>>>>>>>>>>>>>>>>>>>>>>>>>>>>>>>>>>>>>>>>>>>>>>>>>>>>>>>>>>>>>>>>>>>>>>>>>>>>>>>>>>>>>>>.\n",
        "# Selección de barajas y cartas iniciales de acuerdo a la probabilidad calculada\n",
        "\n",
        "\n",
        "    #Caso HotDeck\n",
        "    if (probabilidad <= probabilidad_hot_deck):\n",
        "      Tipo_de_baraja = Hot_deck_10\n",
        "      Cartas_iniciales_jugador = [7,7,5]\n",
        "\n",
        "\n",
        "    else:\n",
        "       #Caso NO HotDeck con baraja de poker regla de 10 y mano vacia\n",
        "      if (baraja == \"poker\"):\n",
        "        Tipo_de_baraja = Baraja_completa_poker_regla_de_10\n",
        "        Cartas_iniciales_jugador = []\n",
        "      else:\n",
        "        #Caso NO HotDeck con baraja espanola regla de 10 y mano vacia\n",
        "        Tipo_de_baraja = Baraja_completa_espanola_regla_de_10\n",
        "        Cartas_iniciales_jugador = []\n",
        "\n",
        "\n",
        "\n",
        "\n",
        "\n",
        "#>>>>>>>>>>>>>>>>>>>>>>>>>>>>>>>>>>>>>>>>>>>>>>>>>>>>>>>>>>>>>>>>>>>>>>>>>>>>>>>>>>>>>>>>>>>>>>>>>>>>>>>>>>>\n",
        "#REALIZAMOS LA EJECUCION DE UNA PARTIDA\n",
        "\n",
        "\n",
        "    #Inicializar la baraja \n",
        "    Baraja_experimento_i = Tipo_de_baraja.copy()\n",
        "    #Inicializar las cartas del jugador\n",
        "    Cartas_del_jugador = Cartas_iniciales_jugador.copy()\n",
        "    #Inicializar el contador de cartas tomadas\n",
        "    Cartas_tomadas = len(Cartas_iniciales_jugador)  \n",
        "                \n",
        "    #evaluar si el jugador ya se paso de 21, si no es así, se seguira ejecutando el experimento i\n",
        "    while(sum(Cartas_del_jugador)<21):\n",
        "\n",
        "      #Elegir una carta aleatoria de la baraja \n",
        "      Carta_nueva = random.choice(Baraja_experimento_i)\n",
        "                  \n",
        "      #Quitar la carta de la baraja\n",
        "      Baraja_experimento_i.remove(Carta_nueva)         \n",
        "\n",
        "      #Agregar la carta a la mano del jugador\n",
        "      Cartas_del_jugador.append( Carta_nueva)\n",
        "      Cartas_tomadas = Cartas_tomadas +1\n",
        "\n",
        "\n",
        "\n",
        "#>>>>>>>>>>>>>>>>>>>>>>>>>>>>>>>>>>>>>>>>>>>>>>>>>>>>>>>>>>>>>>>>>>>>>>>>>>>>>>>>>>>>>>>>>>>>>>>>>>>>>>>>>>>.\n",
        "#ACTUALIZACION DE CONTADORES DESPUES DE FINALIZADA UNA PARTIDA\n",
        "\n",
        "\n",
        "      \n",
        "\n",
        "      if (sum(Cartas_del_jugador) == 21):\n",
        "        Partidas_exitosas =  Partidas_exitosas + 1\n",
        "\n",
        "        #Suma de dinero ya que gano la partida\n",
        "        if (probabilidad <= probabilidad_hot_deck):\n",
        "          total_dinero = total_dinero + 1000\n",
        "        else: \n",
        "          total_dinero = total_dinero + 10\n",
        "        Acumulador_numero_de_cartas_partidas_exitosas = Acumulador_numero_de_cartas_partidas_exitosas +  Cartas_tomadas\n",
        "        Ocurrencia_numero_de_cartas_partidas_ganadas.append(Cartas_tomadas)\n",
        "\n",
        "      elif (sum(Cartas_del_jugador) > 21):\n",
        "\n",
        "        #Resta de dinero ya que perdío la partida\n",
        "        if (probabilidad <= probabilidad_hot_deck):\n",
        "          total_dinero = total_dinero - 1000\n",
        "        else: \n",
        "          total_dinero = total_dinero - 10\n",
        "  \n",
        "\n",
        "#>>>>>>>>>>>>>>>>>>>>>>>>>>>>>>>>>>>>>>>>>>>>>>>>>>>>>>>>>>>>>>>>>>>>>>>>>>>>>>>>>>>>>>>>>>>>>>>>>>>>>>>>>>>.\n",
        "#SI FALTAN PARTIDAS, SE ITERA GRACIAS AL FOR INICIAL, Y SEGUIMOS SIMULANDO Y SUMANDO LAS GANACIAS Y PERDIDAS \n",
        "\n",
        "#>>>>>>>>>>>>>>>>>>>>>>>>>>>>>>>>>>>>>>>>>>>>>>>>>>>>>>>>>>>>>>>>>>>>>>>>>>>>>>>>>>>>>>>>>>>>>>>>>>>>>>>>>>>.\n",
        "\n",
        "\n",
        "  #Imprimimos Resultados\n",
        "  return total_dinero\n"
      ],
      "execution_count": 62,
      "outputs": []
    },
    {
      "cell_type": "markdown",
      "metadata": {
        "id": "nTSFcw6aGC6F"
      },
      "source": [
        "*   Simulación para el juego de fin de semana de Ben:\n",
        "\n"
      ]
    },
    {
      "cell_type": "code",
      "metadata": {
        "id": "oaBoZsVQQXdu",
        "outputId": "ec625389-a37b-48d0-eb7d-002a14cd5a3d",
        "colab": {
          "base_uri": "https://localhost:8080/",
          "height": 70
        }
      },
      "source": [
        "#Número de juegos realizados por Ben durante un fin de semana\n",
        "\n",
        "tiempo_cada_juego = 3\n",
        "dias = 3\n",
        "horas = 10\n",
        "\n",
        "juegos_por_hora = 60/ tiempo_cada_juego\n",
        "total_juegos = horas  * juegos_por_hora * dias\n",
        "\n",
        "print (\"Total de juegos realizados por Ben durante el fin de semana:\", total_juegos)\n",
        "\n",
        "\n",
        "\n",
        "\n",
        "\n",
        "\n",
        "total_dinero_poker = 0\n",
        "total_dinero_espanola = 0\n",
        "\n",
        "\n",
        "#Hacemos una estimacion tipo Montecarlo cuyo objetivo a estimar es el balance final de un fin de semana en que se hicieron 600 juegos\n",
        "#Hacemos 10.000 experimentos.\n",
        "\n",
        "\n",
        "#ITERAMOS N FINES DE SEMANA\n",
        "for n in range(10000):\n",
        "    dinero_poker = FindeSemana(600, \"poker\")   #CALCULAMOS EL BALANCE FINAL DE UN FIN DE SEMANA i\n",
        "    total_dinero_poker = total_dinero_poker + dinero_poker   #VAMOS ACUMULANDO LAS GANACIAS Y PERDIDAS DE TODOS LOS EXPERIMENTOS PARA LUEGO PROMEDIAR\n",
        "\n",
        "\n",
        "\n",
        "\n",
        "\n",
        "\n",
        "#Cantidad de dinero jugando con Baraja Espanola y Hot Deck de 10\n",
        "\n",
        "#ITERAMOS N FINES DE SEMANA\n",
        "for n in range(10000):\n",
        "    dinero_espanola = FindeSemana(600, \"espanola\")   #CALCULAMOS EL BALANCE FINAL DE UN FIN DE SEMANA i\n",
        "    total_dinero_espanola = total_dinero_espanola + dinero_espanola   #VAMOS ACUMULANDO LAS GANACIAS Y PERDIDAS DE TODOS LOS EXPERIMENTOS PARA LUEGO PROMEDIAR\n",
        "\n",
        "\n",
        "\n",
        "#Imprimimos los Resultados de la estimacion\n",
        "\n",
        "print (\"Cantidad de dinero ganado o perdido en un fin de semana jugando con la baraja de Poker con regla de 10 es = \", total_dinero_poker/10000)\n",
        "\n",
        "print (\"Cantidad de dinero ganado o perdido en un fin de semana jugando  la baraja española con regla de 10 es = \", total_dinero_espanola/10000)\n"
      ],
      "execution_count": 64,
      "outputs": [
        {
          "output_type": "stream",
          "text": [
            "Total de juegos realizados por Ben durante el fin de semana: 600.0\n",
            "Cantidad de dinero ganado o perdido en un fin de semana jugando con la baraja de Poker con regla de 10 es =  156.68\n",
            "Cantidad de dinero ganado o perdido en un fin de semana jugando  la baraja española con regla de 10 es =  251.447\n"
          ],
          "name": "stdout"
        }
      ]
    },
    {
      "cell_type": "code",
      "metadata": {
        "id": "LZbWg4s-BFGK"
      },
      "source": [
        ""
      ],
      "execution_count": 63,
      "outputs": []
    }
  ]
}