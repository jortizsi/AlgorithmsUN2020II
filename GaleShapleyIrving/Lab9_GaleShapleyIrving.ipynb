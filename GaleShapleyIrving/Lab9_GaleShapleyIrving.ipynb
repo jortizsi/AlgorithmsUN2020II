{
  "nbformat": 4,
  "nbformat_minor": 0,
  "metadata": {
    "colab": {
      "name": "Lab9_GaleShapleyIrving.ipynb",
      "provenance": [],
      "collapsed_sections": []
    },
    "kernelspec": {
      "name": "python3",
      "display_name": "Python 3"
    }
  },
  "cells": [
    {
      "cell_type": "markdown",
      "metadata": {
        "id": "TaG166OcMvFo"
      },
      "source": [
        "#**Lab 9: Gale-Shapley and Irving Algorithms**\n",
        "\n",
        "Javier Alejandro Ortiz Silva"
      ]
    },
    {
      "cell_type": "markdown",
      "metadata": {
        "id": "OwwXnEW3V5l8"
      },
      "source": [
        "***\n",
        "**Notas**\n",
        "* La implementacion del algoritmo Gale-Shapley se tomo de TowardsDataScience.\n",
        "* En esta entrega, por tiempo, finalmente no se utilizo el algotritmo de Irving.\n",
        "* Para el peor caso se consulto bibliografia en internet. Estas referencias se incluyen mas adelante.\n",
        "***"
      ]
    },
    {
      "cell_type": "markdown",
      "metadata": {
        "id": "HjP5my8hNnPO"
      },
      "source": [
        "***\n",
        "**Lab 9**\n",
        "\n",
        "1. Find the best and worst cases for the Gale-Shapley and Irving ( An Efficient Algorithm for the “Stable Roommates” Problem) Algorithms and run in Colab these algorithms for those cases for n=4 and 40.\n",
        "\n",
        "\n",
        "2. Run the Gale-Shapley Algorithm 100 times using random permutations as preference lists for n=4 and 40. Find the minimum, maximum and average number of iterations and plot the distribution of the number of iterations.\n",
        "\n",
        "***"
      ]
    },
    {
      "cell_type": "markdown",
      "metadata": {
        "id": "oeUYeHlPOY0G"
      },
      "source": [
        "***\n",
        "**Contenido**\n",
        "1. Implementacion de TowardsDataScience  https://towardsdatascience.com/gale-shapley-algorithm-simply-explained-caa344e643c2\n",
        "\n",
        "2. Ajustes para la entrada de la funcion\n",
        "\n",
        "3. Punto 1: desde la Celda 32 de codigo\n",
        "\n",
        "4. Punto 2:  desde la Celda 51 de codigo\n",
        "***"
      ]
    },
    {
      "cell_type": "markdown",
      "metadata": {
        "id": "WYNJlcA4M7qH"
      },
      "source": [
        "# **|||||||||||||||||||||||||||||||||||||||||||||||||||||||||||||||||||||||||||||||||||||||||||||||||||||||||||||||||||||||||||||||||||||||||||||**"
      ]
    },
    {
      "cell_type": "markdown",
      "metadata": {
        "id": "3l1K-NZNNhQC"
      },
      "source": [
        "# **|||||||||||||||||||||||||||||||||||||||||||||||||||||||||||||||||||||||||||||||||||||||||||||||||||||||||||||||||||||||||||||||||||||||||||||**"
      ]
    },
    {
      "cell_type": "markdown",
      "metadata": {
        "id": "byrt8oXSNhmk"
      },
      "source": [
        "# **|||||||||||||||||||||||||||||||||||||||||||||||||||||||||||||||||||||||||||||||||||||||||||||||||||||||||||||||||||||||||||||||||||||||||||||**"
      ]
    },
    {
      "cell_type": "markdown",
      "metadata": {
        "id": "sM-VM77ZP5uh"
      },
      "source": [
        "# **TowardsDataScience: Gale–Shapley algorithm simply explained**"
      ]
    },
    {
      "cell_type": "code",
      "metadata": {
        "colab": {
          "base_uri": "https://localhost:8080/"
        },
        "id": "AOx35BkdtQt9",
        "outputId": "12d57951-c113-407b-fc6a-9a0ac287be4c"
      },
      "source": [
        "%pylab inline\n",
        "import pandas as pd\n",
        "import numpy as np\n",
        "from collections import Counter\n",
        "from copy import copy"
      ],
      "execution_count": 1,
      "outputs": [
        {
          "output_type": "stream",
          "text": [
            "Populating the interactive namespace from numpy and matplotlib\n"
          ],
          "name": "stdout"
        }
      ]
    },
    {
      "cell_type": "code",
      "metadata": {
        "id": "5MGIpFnNt5YZ"
      },
      "source": [
        "man_list = ['a', 'b', 'c', 'd']\n",
        "women_list = ['A', 'B', 'C', 'D']"
      ],
      "execution_count": 2,
      "outputs": []
    },
    {
      "cell_type": "code",
      "metadata": {
        "id": "RtEYi8QpvKWg"
      },
      "source": [
        "women_df = pd.DataFrame({'A': [3,4,2,1], 'B': [3,1,4,2], 'C':[2,3,4,1], 'D':[3,2,1,4]})\n",
        "women_df.index = man_list"
      ],
      "execution_count": 3,
      "outputs": []
    },
    {
      "cell_type": "code",
      "metadata": {
        "id": "RYCMoQeMvNF7"
      },
      "source": [
        "man_df = pd.DataFrame({'A': [1,1,2,4], 'B': [2,4,1,2], 'C':[3,3,3,3], 'D':[4,2,4,1]})\n",
        "man_df.index = man_list"
      ],
      "execution_count": 4,
      "outputs": []
    },
    {
      "cell_type": "code",
      "metadata": {
        "colab": {
          "base_uri": "https://localhost:8080/",
          "height": 166
        },
        "id": "yv-GYmuJvP8m",
        "outputId": "9d6272ac-8834-43f9-a743-828386fd481d"
      },
      "source": [
        "women_df"
      ],
      "execution_count": 5,
      "outputs": [
        {
          "output_type": "execute_result",
          "data": {
            "text/html": [
              "<div>\n",
              "<style scoped>\n",
              "    .dataframe tbody tr th:only-of-type {\n",
              "        vertical-align: middle;\n",
              "    }\n",
              "\n",
              "    .dataframe tbody tr th {\n",
              "        vertical-align: top;\n",
              "    }\n",
              "\n",
              "    .dataframe thead th {\n",
              "        text-align: right;\n",
              "    }\n",
              "</style>\n",
              "<table border=\"1\" class=\"dataframe\">\n",
              "  <thead>\n",
              "    <tr style=\"text-align: right;\">\n",
              "      <th></th>\n",
              "      <th>A</th>\n",
              "      <th>B</th>\n",
              "      <th>C</th>\n",
              "      <th>D</th>\n",
              "    </tr>\n",
              "  </thead>\n",
              "  <tbody>\n",
              "    <tr>\n",
              "      <th>a</th>\n",
              "      <td>3</td>\n",
              "      <td>3</td>\n",
              "      <td>2</td>\n",
              "      <td>3</td>\n",
              "    </tr>\n",
              "    <tr>\n",
              "      <th>b</th>\n",
              "      <td>4</td>\n",
              "      <td>1</td>\n",
              "      <td>3</td>\n",
              "      <td>2</td>\n",
              "    </tr>\n",
              "    <tr>\n",
              "      <th>c</th>\n",
              "      <td>2</td>\n",
              "      <td>4</td>\n",
              "      <td>4</td>\n",
              "      <td>1</td>\n",
              "    </tr>\n",
              "    <tr>\n",
              "      <th>d</th>\n",
              "      <td>1</td>\n",
              "      <td>2</td>\n",
              "      <td>1</td>\n",
              "      <td>4</td>\n",
              "    </tr>\n",
              "  </tbody>\n",
              "</table>\n",
              "</div>"
            ],
            "text/plain": [
              "   A  B  C  D\n",
              "a  3  3  2  3\n",
              "b  4  1  3  2\n",
              "c  2  4  4  1\n",
              "d  1  2  1  4"
            ]
          },
          "metadata": {
            "tags": []
          },
          "execution_count": 5
        }
      ]
    },
    {
      "cell_type": "code",
      "metadata": {
        "colab": {
          "base_uri": "https://localhost:8080/",
          "height": 166
        },
        "id": "-I-dF3ulvSwN",
        "outputId": "e23f1a31-5c83-4683-ab1f-6cf28500b7ed"
      },
      "source": [
        "man_df"
      ],
      "execution_count": 6,
      "outputs": [
        {
          "output_type": "execute_result",
          "data": {
            "text/html": [
              "<div>\n",
              "<style scoped>\n",
              "    .dataframe tbody tr th:only-of-type {\n",
              "        vertical-align: middle;\n",
              "    }\n",
              "\n",
              "    .dataframe tbody tr th {\n",
              "        vertical-align: top;\n",
              "    }\n",
              "\n",
              "    .dataframe thead th {\n",
              "        text-align: right;\n",
              "    }\n",
              "</style>\n",
              "<table border=\"1\" class=\"dataframe\">\n",
              "  <thead>\n",
              "    <tr style=\"text-align: right;\">\n",
              "      <th></th>\n",
              "      <th>A</th>\n",
              "      <th>B</th>\n",
              "      <th>C</th>\n",
              "      <th>D</th>\n",
              "    </tr>\n",
              "  </thead>\n",
              "  <tbody>\n",
              "    <tr>\n",
              "      <th>a</th>\n",
              "      <td>1</td>\n",
              "      <td>2</td>\n",
              "      <td>3</td>\n",
              "      <td>4</td>\n",
              "    </tr>\n",
              "    <tr>\n",
              "      <th>b</th>\n",
              "      <td>1</td>\n",
              "      <td>4</td>\n",
              "      <td>3</td>\n",
              "      <td>2</td>\n",
              "    </tr>\n",
              "    <tr>\n",
              "      <th>c</th>\n",
              "      <td>2</td>\n",
              "      <td>1</td>\n",
              "      <td>3</td>\n",
              "      <td>4</td>\n",
              "    </tr>\n",
              "    <tr>\n",
              "      <th>d</th>\n",
              "      <td>4</td>\n",
              "      <td>2</td>\n",
              "      <td>3</td>\n",
              "      <td>1</td>\n",
              "    </tr>\n",
              "  </tbody>\n",
              "</table>\n",
              "</div>"
            ],
            "text/plain": [
              "   A  B  C  D\n",
              "a  1  2  3  4\n",
              "b  1  4  3  2\n",
              "c  2  1  3  4\n",
              "d  4  2  3  1"
            ]
          },
          "metadata": {
            "tags": []
          },
          "execution_count": 6
        }
      ]
    },
    {
      "cell_type": "code",
      "metadata": {
        "id": "Dew27-rxvf5i"
      },
      "source": [
        "# dict to control which women each man can make proposals\n",
        "women_available = {man:women_list for man in man_list}\n",
        "# waiting list of men that were able to create pair on each iteration\n",
        "waiting_list = []\n",
        "# dict to store created pairs\n",
        "proposals = {}\n",
        "# variable to count number of iterations\n",
        "count = 0"
      ],
      "execution_count": 7,
      "outputs": []
    },
    {
      "cell_type": "code",
      "metadata": {
        "id": "QyC42NZovkj9"
      },
      "source": [
        "# while not all men have pairs\n",
        "while len(waiting_list)<len(man_list):\n",
        "    # man makes proposals\n",
        "    for man in man_list:\n",
        "        if man not in waiting_list:\n",
        "            # each man make proposal to the top women from it's list\n",
        "            women = women_available[man]\n",
        "            best_choice = man_df.loc[man][man_df.loc[man].index.isin(women)].idxmin()\n",
        "            proposals[(man, best_choice)]=(man_df.loc[man][best_choice],\n",
        "                                                 women_df.loc[man][best_choice])\n",
        "    # if women have more than one proposals \n",
        "    # she will choose the best option\n",
        "    overlays = Counter([key[1] for key in proposals.keys()])\n",
        "    # cycle to choose the best options\n",
        "    for women in overlays.keys():\n",
        "        if overlays[women]>1:\n",
        "            # pairs to drop from proposals\n",
        "            pairs_to_drop = sorted({pair: proposals[pair] for pair in proposals.keys() \n",
        "                    if women in pair}.items(), \n",
        "                   key=lambda x: x[1][1]\n",
        "                  )[1:]\n",
        "            # if man was rejected by woman\n",
        "            # there is no pint for him to make proposal \n",
        "            # second time to the same woman\n",
        "            for p_to_drop in pairs_to_drop:\n",
        "                del proposals[p_to_drop[0]]\n",
        "                _women = copy(women_available[p_to_drop[0][0]])\n",
        "                _women.remove(p_to_drop[0][1])\n",
        "                women_available[p_to_drop[0][0]] = _women\n",
        "    # man who successfully created pairs must be added to the waiting list \n",
        "    waiting_list = [man[0] for man in proposals.keys()]\n",
        "    # update counter\n",
        "    count+=1"
      ],
      "execution_count": 8,
      "outputs": []
    },
    {
      "cell_type": "code",
      "metadata": {
        "colab": {
          "base_uri": "https://localhost:8080/"
        },
        "id": "lKlLKkr0voKy",
        "outputId": "5716d98b-1778-4c73-afd3-3af92ba1d752"
      },
      "source": [
        "proposals"
      ],
      "execution_count": 9,
      "outputs": [
        {
          "output_type": "execute_result",
          "data": {
            "text/plain": [
              "{('a', 'C'): (3, 2),\n",
              " ('b', 'D'): (2, 2),\n",
              " ('c', 'A'): (2, 2),\n",
              " ('d', 'B'): (2, 2)}"
            ]
          },
          "metadata": {
            "tags": []
          },
          "execution_count": 9
        }
      ]
    },
    {
      "cell_type": "code",
      "metadata": {
        "colab": {
          "base_uri": "https://localhost:8080/"
        },
        "id": "2qoRMDV_vrmj",
        "outputId": "373ec4bb-cf5d-42ba-c992-287bfd8eae9e"
      },
      "source": [
        "count"
      ],
      "execution_count": 10,
      "outputs": [
        {
          "output_type": "execute_result",
          "data": {
            "text/plain": [
              "6"
            ]
          },
          "metadata": {
            "tags": []
          },
          "execution_count": 10
        }
      ]
    },
    {
      "cell_type": "markdown",
      "metadata": {
        "id": "fcSDF43vNjYf"
      },
      "source": [
        "# **|||||||||||||||||||||||||||||||||||||||||||||||||||||||||||||||||||||||||||||||||||||||||||||||||||||||||||||||||||||||||||||||||||||||||||||**"
      ]
    },
    {
      "cell_type": "markdown",
      "metadata": {
        "id": "5EbwR-L8Njnp"
      },
      "source": [
        "# **|||||||||||||||||||||||||||||||||||||||||||||||||||||||||||||||||||||||||||||||||||||||||||||||||||||||||||||||||||||||||||||||||||||||||||||**"
      ]
    },
    {
      "cell_type": "markdown",
      "metadata": {
        "id": "LO-TpLa4Njwp"
      },
      "source": [
        "# **|||||||||||||||||||||||||||||||||||||||||||||||||||||||||||||||||||||||||||||||||||||||||||||||||||||||||||||||||||||||||||||||||||||||||||||**"
      ]
    },
    {
      "cell_type": "markdown",
      "metadata": {
        "id": "lqdOQZoTMUK7"
      },
      "source": [
        "# **Solucion del Lab**"
      ]
    },
    {
      "cell_type": "markdown",
      "metadata": {
        "id": "udiZv48vOkmU"
      },
      "source": [
        "***\n",
        "#**Ajustes para la entrada de la funcion**\n",
        "***"
      ]
    },
    {
      "cell_type": "markdown",
      "metadata": {
        "id": "jlsSEd9lRGGw"
      },
      "source": [
        "Importacion de librerias"
      ]
    },
    {
      "cell_type": "code",
      "metadata": {
        "colab": {
          "base_uri": "https://localhost:8080/"
        },
        "id": "DMMp8ciNw2Fu",
        "outputId": "f890f23c-220e-435c-8998-df9a4ff22f59"
      },
      "source": [
        "%pylab inline\n",
        "import pandas as pd\n",
        "import numpy as np\n",
        "from collections import Counter\n",
        "from copy import copy"
      ],
      "execution_count": 11,
      "outputs": [
        {
          "output_type": "stream",
          "text": [
            "Populating the interactive namespace from numpy and matplotlib\n"
          ],
          "name": "stdout"
        },
        {
          "output_type": "stream",
          "text": [
            "/usr/local/lib/python3.6/dist-packages/IPython/core/magics/pylab.py:161: UserWarning: pylab import has clobbered these variables: ['copy']\n",
            "`%matplotlib` prevents importing * from pylab and numpy\n",
            "  \"\\n`%matplotlib` prevents importing * from pylab and numpy\"\n"
          ],
          "name": "stderr"
        }
      ]
    },
    {
      "cell_type": "markdown",
      "metadata": {
        "id": "GiY8fvAg7IGi"
      },
      "source": [
        "#Metodo obtener labels de n hombres"
      ]
    },
    {
      "cell_type": "code",
      "metadata": {
        "id": "Vw62F9vm2eVy"
      },
      "source": [
        "def obtener_hombres(n):\n",
        "  lista = []\n",
        "  for i in range(1,n+1):\n",
        "    s = 'H'\n",
        "    Mi = s+ str(i)\n",
        "    lista.append(Mi)\n",
        "  return lista"
      ],
      "execution_count": 12,
      "outputs": []
    },
    {
      "cell_type": "markdown",
      "metadata": {
        "id": "AdPk9R8dQZTi"
      },
      "source": [
        "Ejemplo:"
      ]
    },
    {
      "cell_type": "code",
      "metadata": {
        "colab": {
          "base_uri": "https://localhost:8080/"
        },
        "id": "wbCxyGW23J2E",
        "outputId": "cfd44592-1661-4be6-b34a-a98f417c68d9"
      },
      "source": [
        "obtener_hombres(5)"
      ],
      "execution_count": 13,
      "outputs": [
        {
          "output_type": "execute_result",
          "data": {
            "text/plain": [
              "['H1', 'H2', 'H3', 'H4', 'H5']"
            ]
          },
          "metadata": {
            "tags": []
          },
          "execution_count": 13
        }
      ]
    },
    {
      "cell_type": "markdown",
      "metadata": {
        "id": "WzyWmYHi7NMW"
      },
      "source": [
        "#Metodo obtener labels de n mujeres"
      ]
    },
    {
      "cell_type": "code",
      "metadata": {
        "id": "s8rq3mY14fAU"
      },
      "source": [
        "def obtener_mujeres(n):\n",
        "  lista = []\n",
        "  for i in range(1,n+1):\n",
        "    s = 'M'\n",
        "    Mi = s+ str(i)\n",
        "    lista.append(Mi)\n",
        "  return lista"
      ],
      "execution_count": 14,
      "outputs": []
    },
    {
      "cell_type": "markdown",
      "metadata": {
        "id": "DF6ROzE3Qbkf"
      },
      "source": [
        "Ejemplo:"
      ]
    },
    {
      "cell_type": "code",
      "metadata": {
        "colab": {
          "base_uri": "https://localhost:8080/"
        },
        "id": "dlnkfkCY4iZl",
        "outputId": "6fc07a6e-bf49-4ca4-ca88-8e3c8fbfbcc4"
      },
      "source": [
        "obtener_mujeres(5)"
      ],
      "execution_count": 15,
      "outputs": [
        {
          "output_type": "execute_result",
          "data": {
            "text/plain": [
              "['M1', 'M2', 'M3', 'M4', 'M5']"
            ]
          },
          "metadata": {
            "tags": []
          },
          "execution_count": 15
        }
      ]
    },
    {
      "cell_type": "markdown",
      "metadata": {
        "id": "xcubzMjsI3xC"
      },
      "source": [
        "#Metodos crear diccionarios"
      ]
    },
    {
      "cell_type": "markdown",
      "metadata": {
        "id": "V6tZabdYS17q"
      },
      "source": [
        "* Funcion para obtener un diccionario que asocia el label de cada mujer con una lista que guarda la preferencia en que tiene a cada hombre. El indice (iniciando en 1) indica el hombre, y el valor la preferencia que tiene hacia el.\n",
        "\n",
        "  Por ejemplo `'M5': [3, 1, 2, 4, 5]` significaria que a la mujer 5 le gusta especialmente el hombre 2, depues 3, 1,4 y por ultimo 5."
      ]
    },
    {
      "cell_type": "code",
      "metadata": {
        "id": "Y6ypz_PE4swC"
      },
      "source": [
        "def diccionario_mujeres(n,listas):\n",
        "\n",
        "  women_list = obtener_mujeres(n)\n",
        "\n",
        "  d = {}\n",
        "  \n",
        "  for i in range(len(women_list)):\n",
        "    d[women_list[i]] = listas[i]\n",
        "  return d"
      ],
      "execution_count": 16,
      "outputs": []
    },
    {
      "cell_type": "markdown",
      "metadata": {
        "id": "T00430pdYVe4"
      },
      "source": [
        "Ejemplo:"
      ]
    },
    {
      "cell_type": "code",
      "metadata": {
        "colab": {
          "base_uri": "https://localhost:8080/"
        },
        "id": "IvyDowQRDZjr",
        "outputId": "e7fcdd98-4d62-45b9-9888-317282dba5c3"
      },
      "source": [
        "d1 = [[1,2,3],[1,3,2],[1,2,3]]\n",
        "diccionario_mujeres(3,d1)"
      ],
      "execution_count": 17,
      "outputs": [
        {
          "output_type": "execute_result",
          "data": {
            "text/plain": [
              "{'M1': [1, 2, 3], 'M2': [1, 3, 2], 'M3': [1, 2, 3]}"
            ]
          },
          "metadata": {
            "tags": []
          },
          "execution_count": 17
        }
      ]
    },
    {
      "cell_type": "markdown",
      "metadata": {
        "id": "RGfMcZqTV31n"
      },
      "source": [
        "* En el caso de los hombres el funcionamiento es similar y se tiene de entrada que cada hombre indica por cada mujer el interes que tiene en ella, sin embargo aqui el diccionario creado modela es el interes que en cada mujer tiene cada hombre. Esto es necesario para crear el dataframe por columnas."
      ]
    },
    {
      "cell_type": "code",
      "metadata": {
        "id": "7Zm2wVBaG9QY"
      },
      "source": [
        "def diccionario_hombres(n,listas):\n",
        "\n",
        "  #Trasponer laa lista de preferencia, pues es necesario para el dataframe\n",
        "  man_list = obtener_mujeres(n)\n",
        "\n",
        "  listas = list(map(list, zip(*listas)))\n",
        "  d = {}\n",
        "  \n",
        "  for i in range(len(man_list)):\n",
        "    d[man_list[i]] = listas[i]\n",
        "  return d"
      ],
      "execution_count": 18,
      "outputs": []
    },
    {
      "cell_type": "markdown",
      "metadata": {
        "id": "5uVJX-MIYWru"
      },
      "source": [
        "Ejemplo:"
      ]
    },
    {
      "cell_type": "code",
      "metadata": {
        "colab": {
          "base_uri": "https://localhost:8080/"
        },
        "id": "9Hss9c4bHHGs",
        "outputId": "83a5f77a-24f3-4378-ea4d-68de940a0d9b"
      },
      "source": [
        "d2 = [[1,2,3],[3,2,1],[2,1,3]]\n",
        "diccionario_hombres(3,d2)"
      ],
      "execution_count": 19,
      "outputs": [
        {
          "output_type": "execute_result",
          "data": {
            "text/plain": [
              "{'M1': [1, 3, 2], 'M2': [2, 2, 1], 'M3': [3, 1, 3]}"
            ]
          },
          "metadata": {
            "tags": []
          },
          "execution_count": 19
        }
      ]
    },
    {
      "cell_type": "markdown",
      "metadata": {
        "id": "XSnxGMHnI8jG"
      },
      "source": [
        "#Metodos crear dataframes"
      ]
    },
    {
      "cell_type": "markdown",
      "metadata": {
        "id": "2KqtGjKLW6-5"
      },
      "source": [
        "* El dataframe que construye esta funcion representa en que preferencia tiene cada mujer a cada hombre"
      ]
    },
    {
      "cell_type": "code",
      "metadata": {
        "id": "_FaRt_UPJCoW"
      },
      "source": [
        "def dataframe_mujeres(n,listas):\n",
        "  women_df = pd.DataFrame(diccionario_mujeres(n,listas))\n",
        "  man_list = obtener_hombres(n)\n",
        "  women_df.index = man_list\n",
        "  return women_df"
      ],
      "execution_count": 20,
      "outputs": []
    },
    {
      "cell_type": "markdown",
      "metadata": {
        "id": "vlV0sNn2YD1Q"
      },
      "source": [
        "Ejemplo:"
      ]
    },
    {
      "cell_type": "code",
      "metadata": {
        "colab": {
          "base_uri": "https://localhost:8080/",
          "height": 136
        },
        "id": "hxeTYrFdJ8wE",
        "outputId": "2b70a580-295b-4637-a808-d02b9a6409ec"
      },
      "source": [
        "d1 = [[1,2,3],[1,3,2],[1,2,3]]\n",
        "dataframe_mujeres(3,d1)"
      ],
      "execution_count": 21,
      "outputs": [
        {
          "output_type": "execute_result",
          "data": {
            "text/html": [
              "<div>\n",
              "<style scoped>\n",
              "    .dataframe tbody tr th:only-of-type {\n",
              "        vertical-align: middle;\n",
              "    }\n",
              "\n",
              "    .dataframe tbody tr th {\n",
              "        vertical-align: top;\n",
              "    }\n",
              "\n",
              "    .dataframe thead th {\n",
              "        text-align: right;\n",
              "    }\n",
              "</style>\n",
              "<table border=\"1\" class=\"dataframe\">\n",
              "  <thead>\n",
              "    <tr style=\"text-align: right;\">\n",
              "      <th></th>\n",
              "      <th>M1</th>\n",
              "      <th>M2</th>\n",
              "      <th>M3</th>\n",
              "    </tr>\n",
              "  </thead>\n",
              "  <tbody>\n",
              "    <tr>\n",
              "      <th>H1</th>\n",
              "      <td>1</td>\n",
              "      <td>1</td>\n",
              "      <td>1</td>\n",
              "    </tr>\n",
              "    <tr>\n",
              "      <th>H2</th>\n",
              "      <td>2</td>\n",
              "      <td>3</td>\n",
              "      <td>2</td>\n",
              "    </tr>\n",
              "    <tr>\n",
              "      <th>H3</th>\n",
              "      <td>3</td>\n",
              "      <td>2</td>\n",
              "      <td>3</td>\n",
              "    </tr>\n",
              "  </tbody>\n",
              "</table>\n",
              "</div>"
            ],
            "text/plain": [
              "    M1  M2  M3\n",
              "H1   1   1   1\n",
              "H2   2   3   2\n",
              "H3   3   2   3"
            ]
          },
          "metadata": {
            "tags": []
          },
          "execution_count": 21
        }
      ]
    },
    {
      "cell_type": "markdown",
      "metadata": {
        "id": "i4QoDEwlX9AF"
      },
      "source": [
        "* El dataframe que construye esta funcion representa en que preferencia tiene cada hombre a cada mujer"
      ]
    },
    {
      "cell_type": "code",
      "metadata": {
        "id": "OWD8Zvr8Lj2B"
      },
      "source": [
        "def dataframe_hombres(n,listas):\n",
        "  man_df = pd.DataFrame(diccionario_hombres(n,listas))\n",
        "  man_list = obtener_hombres(n)\n",
        "  man_df.index = man_list\n",
        "  return man_df"
      ],
      "execution_count": 22,
      "outputs": []
    },
    {
      "cell_type": "markdown",
      "metadata": {
        "id": "nE91kX_XYIwb"
      },
      "source": [
        "Ejemplo:"
      ]
    },
    {
      "cell_type": "code",
      "metadata": {
        "colab": {
          "base_uri": "https://localhost:8080/",
          "height": 136
        },
        "id": "j5qqFdkzMAO2",
        "outputId": "563c116f-8aa9-4dc4-fb5b-7a6bb1b51628"
      },
      "source": [
        "d1 = [[1,2,3],[3,2,1],[2,1,3]]\n",
        "dataframe_hombres(3,d1)"
      ],
      "execution_count": 23,
      "outputs": [
        {
          "output_type": "execute_result",
          "data": {
            "text/html": [
              "<div>\n",
              "<style scoped>\n",
              "    .dataframe tbody tr th:only-of-type {\n",
              "        vertical-align: middle;\n",
              "    }\n",
              "\n",
              "    .dataframe tbody tr th {\n",
              "        vertical-align: top;\n",
              "    }\n",
              "\n",
              "    .dataframe thead th {\n",
              "        text-align: right;\n",
              "    }\n",
              "</style>\n",
              "<table border=\"1\" class=\"dataframe\">\n",
              "  <thead>\n",
              "    <tr style=\"text-align: right;\">\n",
              "      <th></th>\n",
              "      <th>M1</th>\n",
              "      <th>M2</th>\n",
              "      <th>M3</th>\n",
              "    </tr>\n",
              "  </thead>\n",
              "  <tbody>\n",
              "    <tr>\n",
              "      <th>H1</th>\n",
              "      <td>1</td>\n",
              "      <td>2</td>\n",
              "      <td>3</td>\n",
              "    </tr>\n",
              "    <tr>\n",
              "      <th>H2</th>\n",
              "      <td>3</td>\n",
              "      <td>2</td>\n",
              "      <td>1</td>\n",
              "    </tr>\n",
              "    <tr>\n",
              "      <th>H3</th>\n",
              "      <td>2</td>\n",
              "      <td>1</td>\n",
              "      <td>3</td>\n",
              "    </tr>\n",
              "  </tbody>\n",
              "</table>\n",
              "</div>"
            ],
            "text/plain": [
              "    M1  M2  M3\n",
              "H1   1   2   3\n",
              "H2   3   2   1\n",
              "H3   2   1   3"
            ]
          },
          "metadata": {
            "tags": []
          },
          "execution_count": 23
        }
      ]
    },
    {
      "cell_type": "markdown",
      "metadata": {
        "id": "W8J0sDDG7W7a"
      },
      "source": [
        "#Metodo Gale-Shapley (Notacion interes por cada persona)"
      ]
    },
    {
      "cell_type": "markdown",
      "metadata": {
        "id": "SnLdbW_ibGJJ"
      },
      "source": [
        "Esta funcion surge de convertir en funcion el contenido del notebook TowardsDataScience, haciendo la gestion de tipos de dato, para que la entrada sean dos matrices y el valor n.\n"
      ]
    },
    {
      "cell_type": "markdown",
      "metadata": {
        "id": "A1sSzerCZjNm"
      },
      "source": [
        "Esta funcion recibe por cada hombre\n",
        "* [preferencia en que tiene a M1,preferencia en que tiene a M2, preferencia en que tiene a M3, ...]\n",
        "\n",
        "\n",
        "Esta funcion recibe por cada mujer\n",
        "* [preferencia en que tiene a H1,preferencia en que tiene a H2, preferencia en que tiene a H3, ...]\n",
        "\n",
        "se retorna\n",
        "* Emparejamiento estable y preferencia hacia la pareja de cada persona\n",
        "* Numero de iteraciones realizadas"
      ]
    },
    {
      "cell_type": "code",
      "metadata": {
        "id": "M3MNo6PPw2Fv"
      },
      "source": [
        "def Gale_Shapley(n, preferencias_mujeres, preferencias_hombres):\n",
        "\n",
        "  man_list = obtener_hombres(n)\n",
        "  women_list = obtener_mujeres(n)\n",
        "\n",
        "  women_df = dataframe_mujeres(n,preferencias_mujeres)\n",
        "  man_df = dataframe_hombres(n, preferencias_hombres)\n",
        "\n",
        "  # dict to control which women each man can make proposals\n",
        "  women_available = {man:women_list for man in man_list}\n",
        "  # waiting list of men that were able to create pair on each iteration\n",
        "  waiting_list = []\n",
        "  # dict to store created pairs\n",
        "  proposals = {}\n",
        "  # variable to count number of iterations\n",
        "  count = 0\n",
        "\n",
        "\n",
        "\n",
        "  # while not all men have pairs\n",
        "  while len(waiting_list)<len(man_list):\n",
        "      # man makes proposals\n",
        "      for man in man_list:\n",
        "          if man not in waiting_list:\n",
        "              # each man make proposal to the top women from it's list\n",
        "              women = women_available[man]\n",
        "              best_choice = man_df.loc[man][man_df.loc[man].index.isin(women)].idxmin()\n",
        "              proposals[(man, best_choice)]=(man_df.loc[man][best_choice],\n",
        "                                                  women_df.loc[man][best_choice])\n",
        "      # if women have more than one proposals \n",
        "      # she will choose the best option\n",
        "      overlays = Counter([key[1] for key in proposals.keys()])\n",
        "      # cycle to choose the best options\n",
        "      for women in overlays.keys():\n",
        "          if overlays[women]>1:\n",
        "              # pairs to drop from proposals\n",
        "              pairs_to_drop = sorted({pair: proposals[pair] for pair in proposals.keys() \n",
        "                      if women in pair}.items(), \n",
        "                    key=lambda x: x[1][1]\n",
        "                    )[1:]\n",
        "              # if man was rejected by woman\n",
        "              # there is no pint for him to make proposal \n",
        "              # second time to the same woman\n",
        "              for p_to_drop in pairs_to_drop:\n",
        "                  del proposals[p_to_drop[0]]\n",
        "                  _women = copy(women_available[p_to_drop[0][0]])\n",
        "                  _women.remove(p_to_drop[0][1])\n",
        "                  women_available[p_to_drop[0][0]] = _women\n",
        "      # man who successfully created pairs must be added to the waiting list \n",
        "      waiting_list = [man[0] for man in proposals.keys()]\n",
        "      # update counter\n",
        "      count+=1\n",
        "\n",
        "  #print(proposals)\n",
        "  #print(count)\n",
        "\n",
        "  return proposals, count\n",
        "    "
      ],
      "execution_count": 24,
      "outputs": []
    },
    {
      "cell_type": "markdown",
      "metadata": {
        "id": "QqaYTfJeauHs"
      },
      "source": [
        "Ejemplo:"
      ]
    },
    {
      "cell_type": "code",
      "metadata": {
        "colab": {
          "base_uri": "https://localhost:8080/"
        },
        "id": "CfyUwCNXNy24",
        "outputId": "38a7ddc7-91f7-4d47-a04b-5ca65ae0d6e0"
      },
      "source": [
        "pm = [[3,4,2,1],\n",
        "      [3,1,4,2],\n",
        "      [2,3,4,1],\n",
        "      [3,2,1,4]]\n",
        "\n",
        "ph = [[1,2,3,4],\n",
        "      [1,4,3,2],\n",
        "      [2,1,3,4],\n",
        "      [4,2,3,1]]\n",
        "\n",
        "p,c =Gale_Shapley(4,pm,ph)\n",
        "print(c)\n",
        "p"
      ],
      "execution_count": 25,
      "outputs": [
        {
          "output_type": "stream",
          "text": [
            "6\n"
          ],
          "name": "stdout"
        },
        {
          "output_type": "execute_result",
          "data": {
            "text/plain": [
              "{('H1', 'M3'): (3, 2),\n",
              " ('H2', 'M4'): (2, 2),\n",
              " ('H3', 'M1'): (2, 2),\n",
              " ('H4', 'M2'): (2, 2)}"
            ]
          },
          "metadata": {
            "tags": []
          },
          "execution_count": 25
        }
      ]
    },
    {
      "cell_type": "markdown",
      "metadata": {
        "id": "2U9zkVsJb5Pc"
      },
      "source": [
        "# Cambio de notacion de lista de preferencia a interes por persona"
      ]
    },
    {
      "cell_type": "markdown",
      "metadata": {
        "id": "ZQ-OS7BDcbdF"
      },
      "source": [
        "Funcion para que dada una lista de preferencia, donde cada numero representa una persona y estar mas a la izquierda representa un interes mayor, se obtenga una lista de interes por persona, donde cada indice empezando en 1 representa una persona y el valor guardado en ese indice representa el interes por esa persona."
      ]
    },
    {
      "cell_type": "code",
      "metadata": {
        "id": "dt1WAydyQfFf"
      },
      "source": [
        "def pasar_notacion(lista):\n",
        "  l = len(lista)\n",
        "  respuesta =[0]*l\n",
        "  for i in range(l):\n",
        "    respuesta[lista[i]-1]= i+1\n",
        "  return respuesta"
      ],
      "execution_count": 26,
      "outputs": []
    },
    {
      "cell_type": "markdown",
      "metadata": {
        "id": "pPvo6CDvdqQZ"
      },
      "source": [
        "Ejemplo:"
      ]
    },
    {
      "cell_type": "code",
      "metadata": {
        "colab": {
          "base_uri": "https://localhost:8080/"
        },
        "id": "3qorfN9GSWrW",
        "outputId": "e1905574-2fd1-4410-db7c-24013e5c13e1"
      },
      "source": [
        " pasar_notacion([1,3,4,2])"
      ],
      "execution_count": 27,
      "outputs": [
        {
          "output_type": "execute_result",
          "data": {
            "text/plain": [
              "[1, 4, 2, 3]"
            ]
          },
          "metadata": {
            "tags": []
          },
          "execution_count": 27
        }
      ]
    },
    {
      "cell_type": "markdown",
      "metadata": {
        "id": "hI71wj0bdh_D"
      },
      "source": [
        "Funcion que convierte la notacion en todas las filas de la matriz"
      ]
    },
    {
      "cell_type": "code",
      "metadata": {
        "id": "jrVg9_DkUjC3"
      },
      "source": [
        "def pasar_notaciones(listas):\n",
        "  l = len(listas)\n",
        "  for i in range(l):\n",
        "    listas[i] = pasar_notacion(listas[i])\n",
        "  return listas"
      ],
      "execution_count": 28,
      "outputs": []
    },
    {
      "cell_type": "markdown",
      "metadata": {
        "id": "5M5tGbBEdsOn"
      },
      "source": [
        "Ejemplo:"
      ]
    },
    {
      "cell_type": "code",
      "metadata": {
        "colab": {
          "base_uri": "https://localhost:8080/"
        },
        "id": "svtIWnjoU21t",
        "outputId": "1e315e4f-c321-40e0-8c78-0fd5e1e6db02"
      },
      "source": [
        "pasar_notaciones([[1,3,4,2],[1,3,4,2],[1,3,4,2]])"
      ],
      "execution_count": 29,
      "outputs": [
        {
          "output_type": "execute_result",
          "data": {
            "text/plain": [
              "[[1, 4, 2, 3], [1, 4, 2, 3], [1, 4, 2, 3]]"
            ]
          },
          "metadata": {
            "tags": []
          },
          "execution_count": 29
        }
      ]
    },
    {
      "cell_type": "markdown",
      "metadata": {
        "id": "yjeheZ12eH0U"
      },
      "source": [
        "#Metodo Gale-Shapley (Notacion Listas de preferencia)"
      ]
    },
    {
      "cell_type": "markdown",
      "metadata": {
        "id": "q9Lny72Ceg9F"
      },
      "source": [
        "Esta funcion recibe la matriz o lista de listas de preferencia de las mujeres y de los hombres, donde en cada fila cada numero representa una persona y estar mas a la izquierda representa un mayor interes en esa persona.\n",
        "\n",
        "Como retorno de la funcion estan:\n",
        "* Emparejamiento estable y preferencia hacia la pareja de cada persona\n",
        "* Numero de iteraciones realizadas"
      ]
    },
    {
      "cell_type": "code",
      "metadata": {
        "id": "ZUPSnhYwyDUz"
      },
      "source": [
        "def Gale_Shapley_match_preference_lists(n, preferencias_mujeres, preferencias_hombres):\n",
        "\n",
        "  pm = pasar_notaciones(preferencias_mujeres) \n",
        "  ph = pasar_notaciones(preferencias_hombres)\n",
        "  #print(ph)\n",
        "  #print(pm)\n",
        "  p,c = Gale_Shapley(n, pm, ph)\n",
        "  return p,c"
      ],
      "execution_count": 30,
      "outputs": []
    },
    {
      "cell_type": "markdown",
      "metadata": {
        "id": "ppEnta-2fWBh"
      },
      "source": [
        "Ejemplo:"
      ]
    },
    {
      "cell_type": "code",
      "metadata": {
        "colab": {
          "base_uri": "https://localhost:8080/"
        },
        "id": "ryrs90qFWYrc",
        "outputId": "fe152b62-ecd0-4b80-9e35-b0319a3a33a6"
      },
      "source": [
        "pmuj = [[4,3,1,2],\n",
        "        [2,4,1,3],\n",
        "        [4,1,2,3],\n",
        "        [3,2,1,4]]\n",
        "\n",
        "phom = [[1,2,3,4],\n",
        "        [1,4,3,2],\n",
        "        [2,1,3,4],\n",
        "        [4,2,3,1]]\n",
        "\n",
        "parejas, cuenta = Gale_Shapley_match_preference_lists(4,pmuj,phom)\n",
        "print(\"propuestas hechas: \", cuenta)\n",
        "parejas"
      ],
      "execution_count": 31,
      "outputs": [
        {
          "output_type": "stream",
          "text": [
            "propuestas hechas:  6\n"
          ],
          "name": "stdout"
        },
        {
          "output_type": "execute_result",
          "data": {
            "text/plain": [
              "{('H1', 'M3'): (3, 2),\n",
              " ('H2', 'M4'): (2, 2),\n",
              " ('H3', 'M1'): (2, 2),\n",
              " ('H4', 'M2'): (2, 2)}"
            ]
          },
          "metadata": {
            "tags": []
          },
          "execution_count": 31
        }
      ]
    },
    {
      "cell_type": "markdown",
      "metadata": {
        "id": "2YOg25MrN6LZ"
      },
      "source": [
        "***\n",
        "# **Punto 1**\n",
        "Find the best and worst cases for the Gale-Shapley and Irving ( An Efficient Algorithm for the “Stable Roommates” Problem) Algorithms and run in Colab these algorithms for those cases for n=4 and 40.\n",
        "***"
      ]
    },
    {
      "cell_type": "markdown",
      "metadata": {
        "id": "5tNfMN9jei85"
      },
      "source": [
        "#**Mejor caso**"
      ]
    },
    {
      "cell_type": "markdown",
      "metadata": {
        "id": "KuszwJghemOn"
      },
      "source": [
        "Cada hombre tiene como primera opcion a una mujer que lo tiene como primera opcion a el y todos los hombres tienen como primera opcion a una mujer diferente. En este caso el algoritmo termina despues de la primera iteracion.\n"
      ]
    },
    {
      "cell_type": "markdown",
      "metadata": {
        "id": "2bWVUMYnjNo2"
      },
      "source": [
        "**Funcion para generar listas de preferencia de un mejor caso**"
      ]
    },
    {
      "cell_type": "markdown",
      "metadata": {
        "id": "3G6Sl8qYjlDK"
      },
      "source": [
        "un mejor caso puede obtenerse usando una matriz donde la primera fila son los enteros de 1 a n, y cada fila es un corrimieno circular a la izquierda de la fila que tiene arriba. \n",
        "\n",
        "Notese que es posible tomar dos matrices iguales para hombres y mujeres a la hora de correr el algoritmo de emparejamiento."
      ]
    },
    {
      "cell_type": "code",
      "metadata": {
        "id": "9tpZgvrOg-EM"
      },
      "source": [
        "def obtener_lista_1_a_n(n):\n",
        "  return list(range(1,n+1))"
      ],
      "execution_count": 32,
      "outputs": []
    },
    {
      "cell_type": "code",
      "metadata": {
        "id": "RjlZwHLTirXu"
      },
      "source": [
        "def obtener_lista_i_a_n(i,n):\n",
        "  return list(range(i,n+1))"
      ],
      "execution_count": 33,
      "outputs": []
    },
    {
      "cell_type": "code",
      "metadata": {
        "id": "W3Cn-cDBf0gO"
      },
      "source": [
        "def mejor_caso(n):\n",
        "  \n",
        "  matriz =[]\n",
        "\n",
        "  #Construir n filas\n",
        "  for i in range(1,n+1):\n",
        "    corte1 = obtener_lista_i_a_n(i,n)\n",
        "    #print(corte1)\n",
        "    corte2 = obtener_lista_1_a_n(i-1)\n",
        "    #print(corte2)\n",
        "    fila = corte1 + corte2\n",
        "    matriz.append(fila)\n",
        "\n",
        "  #matriz[1] = matriz[0][0:3]+[n]\n",
        "  \n",
        "  return matriz"
      ],
      "execution_count": 34,
      "outputs": []
    },
    {
      "cell_type": "markdown",
      "metadata": {
        "id": "dFCk7JQOkdHk"
      },
      "source": [
        "Ejemplo:"
      ]
    },
    {
      "cell_type": "code",
      "metadata": {
        "colab": {
          "base_uri": "https://localhost:8080/"
        },
        "id": "m52Vtf7bkVkX",
        "outputId": "d4162e26-8874-4a62-b3e3-7ba92649f39e"
      },
      "source": [
        "mc3 = mejor_caso(3)\n",
        "for fila in mc3:\n",
        "    print(*fila)"
      ],
      "execution_count": 35,
      "outputs": [
        {
          "output_type": "stream",
          "text": [
            "1 2 3\n",
            "2 3 1\n",
            "3 1 2\n"
          ],
          "name": "stdout"
        }
      ]
    },
    {
      "cell_type": "markdown",
      "metadata": {
        "id": "-seDBSHPilCY"
      },
      "source": [
        "#**Minimo numero de iteraciones para n = 4 y 40**"
      ]
    },
    {
      "cell_type": "markdown",
      "metadata": {
        "id": "eW16EmYJiY_x"
      },
      "source": [
        "#**n = 4**"
      ]
    },
    {
      "cell_type": "code",
      "metadata": {
        "colab": {
          "base_uri": "https://localhost:8080/"
        },
        "id": "9oBNgyIWe9il",
        "outputId": "9c051cbb-f1ec-43f9-9d64-3bfef5e647bc"
      },
      "source": [
        "mc4 = mejor_caso(4)\n",
        "\n",
        "phom = mc4\n",
        "for fila in phom:\n",
        "    print(*fila)\n",
        "print(\"\\n\\n\")\n",
        "\n",
        "pmuj = mc4\n",
        "for fila in pmuj:\n",
        "    print(*fila)\n",
        "print(\"\\n\\n\")\n",
        "\n",
        "\n",
        "parejas, cuenta = Gale_Shapley_match_preference_lists(4,pmuj,phom)\n",
        "print(\"dias-iteraciones experimento: \", cuenta)\n",
        "print(\"\\nEmparejamiento estable\")\n",
        "parejas"
      ],
      "execution_count": 36,
      "outputs": [
        {
          "output_type": "stream",
          "text": [
            "1 2 3 4\n",
            "2 3 4 1\n",
            "3 4 1 2\n",
            "4 1 2 3\n",
            "\n",
            "\n",
            "\n",
            "1 2 3 4\n",
            "2 3 4 1\n",
            "3 4 1 2\n",
            "4 1 2 3\n",
            "\n",
            "\n",
            "\n",
            "dias-iteraciones experimento:  1\n",
            "\n",
            "Emparejamiento estable\n"
          ],
          "name": "stdout"
        },
        {
          "output_type": "execute_result",
          "data": {
            "text/plain": [
              "{('H1', 'M1'): (1, 1),\n",
              " ('H2', 'M4'): (1, 1),\n",
              " ('H3', 'M3'): (1, 1),\n",
              " ('H4', 'M2'): (1, 1)}"
            ]
          },
          "metadata": {
            "tags": []
          },
          "execution_count": 36
        }
      ]
    },
    {
      "cell_type": "markdown",
      "metadata": {
        "id": "fAbA5TwbicrK"
      },
      "source": [
        "#**n = 40**"
      ]
    },
    {
      "cell_type": "code",
      "metadata": {
        "colab": {
          "base_uri": "https://localhost:8080/"
        },
        "id": "XVELW59Fh5au",
        "outputId": "fbbf7eb3-3389-4d50-e067-939071adec68"
      },
      "source": [
        "mc40 = mejor_caso(40)\n",
        "\n",
        "phom = mc40\n",
        "for fila in phom:\n",
        "    print(*fila)\n",
        "print(\"\\n\\n\")\n",
        "\n",
        "pmuj = mc40\n",
        "for fila in pmuj:\n",
        "    print(*fila)\n",
        "print(\"\\n\\n\")\n",
        "\n",
        "\n",
        "parejas, cuenta = Gale_Shapley_match_preference_lists(40,pmuj,phom)\n",
        "print(\"dias-iteraciones experimento: \", cuenta)\n",
        "print(\"\\nEmparejamiento estable\")\n",
        "parejas"
      ],
      "execution_count": 37,
      "outputs": [
        {
          "output_type": "stream",
          "text": [
            "1 2 3 4 5 6 7 8 9 10 11 12 13 14 15 16 17 18 19 20 21 22 23 24 25 26 27 28 29 30 31 32 33 34 35 36 37 38 39 40\n",
            "2 3 4 5 6 7 8 9 10 11 12 13 14 15 16 17 18 19 20 21 22 23 24 25 26 27 28 29 30 31 32 33 34 35 36 37 38 39 40 1\n",
            "3 4 5 6 7 8 9 10 11 12 13 14 15 16 17 18 19 20 21 22 23 24 25 26 27 28 29 30 31 32 33 34 35 36 37 38 39 40 1 2\n",
            "4 5 6 7 8 9 10 11 12 13 14 15 16 17 18 19 20 21 22 23 24 25 26 27 28 29 30 31 32 33 34 35 36 37 38 39 40 1 2 3\n",
            "5 6 7 8 9 10 11 12 13 14 15 16 17 18 19 20 21 22 23 24 25 26 27 28 29 30 31 32 33 34 35 36 37 38 39 40 1 2 3 4\n",
            "6 7 8 9 10 11 12 13 14 15 16 17 18 19 20 21 22 23 24 25 26 27 28 29 30 31 32 33 34 35 36 37 38 39 40 1 2 3 4 5\n",
            "7 8 9 10 11 12 13 14 15 16 17 18 19 20 21 22 23 24 25 26 27 28 29 30 31 32 33 34 35 36 37 38 39 40 1 2 3 4 5 6\n",
            "8 9 10 11 12 13 14 15 16 17 18 19 20 21 22 23 24 25 26 27 28 29 30 31 32 33 34 35 36 37 38 39 40 1 2 3 4 5 6 7\n",
            "9 10 11 12 13 14 15 16 17 18 19 20 21 22 23 24 25 26 27 28 29 30 31 32 33 34 35 36 37 38 39 40 1 2 3 4 5 6 7 8\n",
            "10 11 12 13 14 15 16 17 18 19 20 21 22 23 24 25 26 27 28 29 30 31 32 33 34 35 36 37 38 39 40 1 2 3 4 5 6 7 8 9\n",
            "11 12 13 14 15 16 17 18 19 20 21 22 23 24 25 26 27 28 29 30 31 32 33 34 35 36 37 38 39 40 1 2 3 4 5 6 7 8 9 10\n",
            "12 13 14 15 16 17 18 19 20 21 22 23 24 25 26 27 28 29 30 31 32 33 34 35 36 37 38 39 40 1 2 3 4 5 6 7 8 9 10 11\n",
            "13 14 15 16 17 18 19 20 21 22 23 24 25 26 27 28 29 30 31 32 33 34 35 36 37 38 39 40 1 2 3 4 5 6 7 8 9 10 11 12\n",
            "14 15 16 17 18 19 20 21 22 23 24 25 26 27 28 29 30 31 32 33 34 35 36 37 38 39 40 1 2 3 4 5 6 7 8 9 10 11 12 13\n",
            "15 16 17 18 19 20 21 22 23 24 25 26 27 28 29 30 31 32 33 34 35 36 37 38 39 40 1 2 3 4 5 6 7 8 9 10 11 12 13 14\n",
            "16 17 18 19 20 21 22 23 24 25 26 27 28 29 30 31 32 33 34 35 36 37 38 39 40 1 2 3 4 5 6 7 8 9 10 11 12 13 14 15\n",
            "17 18 19 20 21 22 23 24 25 26 27 28 29 30 31 32 33 34 35 36 37 38 39 40 1 2 3 4 5 6 7 8 9 10 11 12 13 14 15 16\n",
            "18 19 20 21 22 23 24 25 26 27 28 29 30 31 32 33 34 35 36 37 38 39 40 1 2 3 4 5 6 7 8 9 10 11 12 13 14 15 16 17\n",
            "19 20 21 22 23 24 25 26 27 28 29 30 31 32 33 34 35 36 37 38 39 40 1 2 3 4 5 6 7 8 9 10 11 12 13 14 15 16 17 18\n",
            "20 21 22 23 24 25 26 27 28 29 30 31 32 33 34 35 36 37 38 39 40 1 2 3 4 5 6 7 8 9 10 11 12 13 14 15 16 17 18 19\n",
            "21 22 23 24 25 26 27 28 29 30 31 32 33 34 35 36 37 38 39 40 1 2 3 4 5 6 7 8 9 10 11 12 13 14 15 16 17 18 19 20\n",
            "22 23 24 25 26 27 28 29 30 31 32 33 34 35 36 37 38 39 40 1 2 3 4 5 6 7 8 9 10 11 12 13 14 15 16 17 18 19 20 21\n",
            "23 24 25 26 27 28 29 30 31 32 33 34 35 36 37 38 39 40 1 2 3 4 5 6 7 8 9 10 11 12 13 14 15 16 17 18 19 20 21 22\n",
            "24 25 26 27 28 29 30 31 32 33 34 35 36 37 38 39 40 1 2 3 4 5 6 7 8 9 10 11 12 13 14 15 16 17 18 19 20 21 22 23\n",
            "25 26 27 28 29 30 31 32 33 34 35 36 37 38 39 40 1 2 3 4 5 6 7 8 9 10 11 12 13 14 15 16 17 18 19 20 21 22 23 24\n",
            "26 27 28 29 30 31 32 33 34 35 36 37 38 39 40 1 2 3 4 5 6 7 8 9 10 11 12 13 14 15 16 17 18 19 20 21 22 23 24 25\n",
            "27 28 29 30 31 32 33 34 35 36 37 38 39 40 1 2 3 4 5 6 7 8 9 10 11 12 13 14 15 16 17 18 19 20 21 22 23 24 25 26\n",
            "28 29 30 31 32 33 34 35 36 37 38 39 40 1 2 3 4 5 6 7 8 9 10 11 12 13 14 15 16 17 18 19 20 21 22 23 24 25 26 27\n",
            "29 30 31 32 33 34 35 36 37 38 39 40 1 2 3 4 5 6 7 8 9 10 11 12 13 14 15 16 17 18 19 20 21 22 23 24 25 26 27 28\n",
            "30 31 32 33 34 35 36 37 38 39 40 1 2 3 4 5 6 7 8 9 10 11 12 13 14 15 16 17 18 19 20 21 22 23 24 25 26 27 28 29\n",
            "31 32 33 34 35 36 37 38 39 40 1 2 3 4 5 6 7 8 9 10 11 12 13 14 15 16 17 18 19 20 21 22 23 24 25 26 27 28 29 30\n",
            "32 33 34 35 36 37 38 39 40 1 2 3 4 5 6 7 8 9 10 11 12 13 14 15 16 17 18 19 20 21 22 23 24 25 26 27 28 29 30 31\n",
            "33 34 35 36 37 38 39 40 1 2 3 4 5 6 7 8 9 10 11 12 13 14 15 16 17 18 19 20 21 22 23 24 25 26 27 28 29 30 31 32\n",
            "34 35 36 37 38 39 40 1 2 3 4 5 6 7 8 9 10 11 12 13 14 15 16 17 18 19 20 21 22 23 24 25 26 27 28 29 30 31 32 33\n",
            "35 36 37 38 39 40 1 2 3 4 5 6 7 8 9 10 11 12 13 14 15 16 17 18 19 20 21 22 23 24 25 26 27 28 29 30 31 32 33 34\n",
            "36 37 38 39 40 1 2 3 4 5 6 7 8 9 10 11 12 13 14 15 16 17 18 19 20 21 22 23 24 25 26 27 28 29 30 31 32 33 34 35\n",
            "37 38 39 40 1 2 3 4 5 6 7 8 9 10 11 12 13 14 15 16 17 18 19 20 21 22 23 24 25 26 27 28 29 30 31 32 33 34 35 36\n",
            "38 39 40 1 2 3 4 5 6 7 8 9 10 11 12 13 14 15 16 17 18 19 20 21 22 23 24 25 26 27 28 29 30 31 32 33 34 35 36 37\n",
            "39 40 1 2 3 4 5 6 7 8 9 10 11 12 13 14 15 16 17 18 19 20 21 22 23 24 25 26 27 28 29 30 31 32 33 34 35 36 37 38\n",
            "40 1 2 3 4 5 6 7 8 9 10 11 12 13 14 15 16 17 18 19 20 21 22 23 24 25 26 27 28 29 30 31 32 33 34 35 36 37 38 39\n",
            "\n",
            "\n",
            "\n",
            "1 2 3 4 5 6 7 8 9 10 11 12 13 14 15 16 17 18 19 20 21 22 23 24 25 26 27 28 29 30 31 32 33 34 35 36 37 38 39 40\n",
            "2 3 4 5 6 7 8 9 10 11 12 13 14 15 16 17 18 19 20 21 22 23 24 25 26 27 28 29 30 31 32 33 34 35 36 37 38 39 40 1\n",
            "3 4 5 6 7 8 9 10 11 12 13 14 15 16 17 18 19 20 21 22 23 24 25 26 27 28 29 30 31 32 33 34 35 36 37 38 39 40 1 2\n",
            "4 5 6 7 8 9 10 11 12 13 14 15 16 17 18 19 20 21 22 23 24 25 26 27 28 29 30 31 32 33 34 35 36 37 38 39 40 1 2 3\n",
            "5 6 7 8 9 10 11 12 13 14 15 16 17 18 19 20 21 22 23 24 25 26 27 28 29 30 31 32 33 34 35 36 37 38 39 40 1 2 3 4\n",
            "6 7 8 9 10 11 12 13 14 15 16 17 18 19 20 21 22 23 24 25 26 27 28 29 30 31 32 33 34 35 36 37 38 39 40 1 2 3 4 5\n",
            "7 8 9 10 11 12 13 14 15 16 17 18 19 20 21 22 23 24 25 26 27 28 29 30 31 32 33 34 35 36 37 38 39 40 1 2 3 4 5 6\n",
            "8 9 10 11 12 13 14 15 16 17 18 19 20 21 22 23 24 25 26 27 28 29 30 31 32 33 34 35 36 37 38 39 40 1 2 3 4 5 6 7\n",
            "9 10 11 12 13 14 15 16 17 18 19 20 21 22 23 24 25 26 27 28 29 30 31 32 33 34 35 36 37 38 39 40 1 2 3 4 5 6 7 8\n",
            "10 11 12 13 14 15 16 17 18 19 20 21 22 23 24 25 26 27 28 29 30 31 32 33 34 35 36 37 38 39 40 1 2 3 4 5 6 7 8 9\n",
            "11 12 13 14 15 16 17 18 19 20 21 22 23 24 25 26 27 28 29 30 31 32 33 34 35 36 37 38 39 40 1 2 3 4 5 6 7 8 9 10\n",
            "12 13 14 15 16 17 18 19 20 21 22 23 24 25 26 27 28 29 30 31 32 33 34 35 36 37 38 39 40 1 2 3 4 5 6 7 8 9 10 11\n",
            "13 14 15 16 17 18 19 20 21 22 23 24 25 26 27 28 29 30 31 32 33 34 35 36 37 38 39 40 1 2 3 4 5 6 7 8 9 10 11 12\n",
            "14 15 16 17 18 19 20 21 22 23 24 25 26 27 28 29 30 31 32 33 34 35 36 37 38 39 40 1 2 3 4 5 6 7 8 9 10 11 12 13\n",
            "15 16 17 18 19 20 21 22 23 24 25 26 27 28 29 30 31 32 33 34 35 36 37 38 39 40 1 2 3 4 5 6 7 8 9 10 11 12 13 14\n",
            "16 17 18 19 20 21 22 23 24 25 26 27 28 29 30 31 32 33 34 35 36 37 38 39 40 1 2 3 4 5 6 7 8 9 10 11 12 13 14 15\n",
            "17 18 19 20 21 22 23 24 25 26 27 28 29 30 31 32 33 34 35 36 37 38 39 40 1 2 3 4 5 6 7 8 9 10 11 12 13 14 15 16\n",
            "18 19 20 21 22 23 24 25 26 27 28 29 30 31 32 33 34 35 36 37 38 39 40 1 2 3 4 5 6 7 8 9 10 11 12 13 14 15 16 17\n",
            "19 20 21 22 23 24 25 26 27 28 29 30 31 32 33 34 35 36 37 38 39 40 1 2 3 4 5 6 7 8 9 10 11 12 13 14 15 16 17 18\n",
            "20 21 22 23 24 25 26 27 28 29 30 31 32 33 34 35 36 37 38 39 40 1 2 3 4 5 6 7 8 9 10 11 12 13 14 15 16 17 18 19\n",
            "21 22 23 24 25 26 27 28 29 30 31 32 33 34 35 36 37 38 39 40 1 2 3 4 5 6 7 8 9 10 11 12 13 14 15 16 17 18 19 20\n",
            "22 23 24 25 26 27 28 29 30 31 32 33 34 35 36 37 38 39 40 1 2 3 4 5 6 7 8 9 10 11 12 13 14 15 16 17 18 19 20 21\n",
            "23 24 25 26 27 28 29 30 31 32 33 34 35 36 37 38 39 40 1 2 3 4 5 6 7 8 9 10 11 12 13 14 15 16 17 18 19 20 21 22\n",
            "24 25 26 27 28 29 30 31 32 33 34 35 36 37 38 39 40 1 2 3 4 5 6 7 8 9 10 11 12 13 14 15 16 17 18 19 20 21 22 23\n",
            "25 26 27 28 29 30 31 32 33 34 35 36 37 38 39 40 1 2 3 4 5 6 7 8 9 10 11 12 13 14 15 16 17 18 19 20 21 22 23 24\n",
            "26 27 28 29 30 31 32 33 34 35 36 37 38 39 40 1 2 3 4 5 6 7 8 9 10 11 12 13 14 15 16 17 18 19 20 21 22 23 24 25\n",
            "27 28 29 30 31 32 33 34 35 36 37 38 39 40 1 2 3 4 5 6 7 8 9 10 11 12 13 14 15 16 17 18 19 20 21 22 23 24 25 26\n",
            "28 29 30 31 32 33 34 35 36 37 38 39 40 1 2 3 4 5 6 7 8 9 10 11 12 13 14 15 16 17 18 19 20 21 22 23 24 25 26 27\n",
            "29 30 31 32 33 34 35 36 37 38 39 40 1 2 3 4 5 6 7 8 9 10 11 12 13 14 15 16 17 18 19 20 21 22 23 24 25 26 27 28\n",
            "30 31 32 33 34 35 36 37 38 39 40 1 2 3 4 5 6 7 8 9 10 11 12 13 14 15 16 17 18 19 20 21 22 23 24 25 26 27 28 29\n",
            "31 32 33 34 35 36 37 38 39 40 1 2 3 4 5 6 7 8 9 10 11 12 13 14 15 16 17 18 19 20 21 22 23 24 25 26 27 28 29 30\n",
            "32 33 34 35 36 37 38 39 40 1 2 3 4 5 6 7 8 9 10 11 12 13 14 15 16 17 18 19 20 21 22 23 24 25 26 27 28 29 30 31\n",
            "33 34 35 36 37 38 39 40 1 2 3 4 5 6 7 8 9 10 11 12 13 14 15 16 17 18 19 20 21 22 23 24 25 26 27 28 29 30 31 32\n",
            "34 35 36 37 38 39 40 1 2 3 4 5 6 7 8 9 10 11 12 13 14 15 16 17 18 19 20 21 22 23 24 25 26 27 28 29 30 31 32 33\n",
            "35 36 37 38 39 40 1 2 3 4 5 6 7 8 9 10 11 12 13 14 15 16 17 18 19 20 21 22 23 24 25 26 27 28 29 30 31 32 33 34\n",
            "36 37 38 39 40 1 2 3 4 5 6 7 8 9 10 11 12 13 14 15 16 17 18 19 20 21 22 23 24 25 26 27 28 29 30 31 32 33 34 35\n",
            "37 38 39 40 1 2 3 4 5 6 7 8 9 10 11 12 13 14 15 16 17 18 19 20 21 22 23 24 25 26 27 28 29 30 31 32 33 34 35 36\n",
            "38 39 40 1 2 3 4 5 6 7 8 9 10 11 12 13 14 15 16 17 18 19 20 21 22 23 24 25 26 27 28 29 30 31 32 33 34 35 36 37\n",
            "39 40 1 2 3 4 5 6 7 8 9 10 11 12 13 14 15 16 17 18 19 20 21 22 23 24 25 26 27 28 29 30 31 32 33 34 35 36 37 38\n",
            "40 1 2 3 4 5 6 7 8 9 10 11 12 13 14 15 16 17 18 19 20 21 22 23 24 25 26 27 28 29 30 31 32 33 34 35 36 37 38 39\n",
            "\n",
            "\n",
            "\n",
            "dias-iteraciones experimento:  1\n",
            "\n",
            "Emparejamiento estable\n"
          ],
          "name": "stdout"
        },
        {
          "output_type": "execute_result",
          "data": {
            "text/plain": [
              "{('H1', 'M1'): (1, 1),\n",
              " ('H10', 'M32'): (1, 1),\n",
              " ('H11', 'M31'): (1, 1),\n",
              " ('H12', 'M30'): (1, 1),\n",
              " ('H13', 'M29'): (1, 1),\n",
              " ('H14', 'M28'): (1, 1),\n",
              " ('H15', 'M27'): (1, 1),\n",
              " ('H16', 'M26'): (1, 1),\n",
              " ('H17', 'M25'): (1, 1),\n",
              " ('H18', 'M24'): (1, 1),\n",
              " ('H19', 'M23'): (1, 1),\n",
              " ('H2', 'M40'): (1, 1),\n",
              " ('H20', 'M22'): (1, 1),\n",
              " ('H21', 'M21'): (1, 1),\n",
              " ('H22', 'M20'): (1, 1),\n",
              " ('H23', 'M19'): (1, 1),\n",
              " ('H24', 'M18'): (1, 1),\n",
              " ('H25', 'M17'): (1, 1),\n",
              " ('H26', 'M16'): (1, 1),\n",
              " ('H27', 'M15'): (1, 1),\n",
              " ('H28', 'M14'): (1, 1),\n",
              " ('H29', 'M13'): (1, 1),\n",
              " ('H3', 'M39'): (1, 1),\n",
              " ('H30', 'M12'): (1, 1),\n",
              " ('H31', 'M11'): (1, 1),\n",
              " ('H32', 'M10'): (1, 1),\n",
              " ('H33', 'M9'): (1, 1),\n",
              " ('H34', 'M8'): (1, 1),\n",
              " ('H35', 'M7'): (1, 1),\n",
              " ('H36', 'M6'): (1, 1),\n",
              " ('H37', 'M5'): (1, 1),\n",
              " ('H38', 'M4'): (1, 1),\n",
              " ('H39', 'M3'): (1, 1),\n",
              " ('H4', 'M38'): (1, 1),\n",
              " ('H40', 'M2'): (1, 1),\n",
              " ('H5', 'M37'): (1, 1),\n",
              " ('H6', 'M36'): (1, 1),\n",
              " ('H7', 'M35'): (1, 1),\n",
              " ('H8', 'M34'): (1, 1),\n",
              " ('H9', 'M33'): (1, 1)}"
            ]
          },
          "metadata": {
            "tags": []
          },
          "execution_count": 37
        }
      ]
    },
    {
      "cell_type": "markdown",
      "metadata": {
        "id": "jlMirLQgfkN4"
      },
      "source": [
        "#**Peor caso**"
      ]
    },
    {
      "cell_type": "markdown",
      "metadata": {
        "id": "VxSOWT38jtyB"
      },
      "source": [
        "***\n",
        "Esta seccion se realizo teniendo como partida estas referencias:\n",
        "\n",
        "* Estructura de un peor caso\n",
        "\n",
        "  https://www.mdpi.com/1999-4893/6/2/371/htm#B2-algorithms-06-00371\n",
        "\n",
        "\n",
        "* Formulas valores maximo de propuestas e iteraciones\n",
        "\n",
        "  https://math.stackexchange.com/questions/1410898/worst-case-for-the-stable-marriage-problem\n",
        "\n",
        "***"
      ]
    },
    {
      "cell_type": "markdown",
      "metadata": {
        "id": "GkP7hOfEkNhH"
      },
      "source": [
        "# **Valores teoricos peor caso**\n",
        "\n",
        "Es posible demostrar que el mayor numero de propuestas realizadas durante el algoritmo Gale-Shapley es $n(n-1) + 1$ y que el mayor numero de iteraciones es $n^{2} - 2n + 2$,"
      ]
    },
    {
      "cell_type": "markdown",
      "metadata": {
        "id": "3vTBo3x9lMqy"
      },
      "source": [
        "El numero de iteraciones o dias en que al menos un hombre va a hacer una propuesta a una mujer es el indicador de nuestro interes."
      ]
    },
    {
      "cell_type": "code",
      "metadata": {
        "id": "9eS87E5VajcC"
      },
      "source": [
        "def propuestas_peor_caso_teorico(n):\n",
        "  return (n*(n-1)) +1"
      ],
      "execution_count": 38,
      "outputs": []
    },
    {
      "cell_type": "code",
      "metadata": {
        "id": "jGwSCVbudxC2"
      },
      "source": [
        "def dias_peor_caso_teorico(n):\n",
        "  return n**2 - 2*n +2"
      ],
      "execution_count": 39,
      "outputs": []
    },
    {
      "cell_type": "markdown",
      "metadata": {
        "id": "lRRcnAfYmhKx"
      },
      "source": [
        "Ejemplos:"
      ]
    },
    {
      "cell_type": "code",
      "metadata": {
        "colab": {
          "base_uri": "https://localhost:8080/"
        },
        "id": "azy7wpA5bZce",
        "outputId": "fdd70b95-2628-48af-ac3d-e8f950ed78f6"
      },
      "source": [
        "propuestas_peor_caso_teorico(4)"
      ],
      "execution_count": 40,
      "outputs": [
        {
          "output_type": "execute_result",
          "data": {
            "text/plain": [
              "13"
            ]
          },
          "metadata": {
            "tags": []
          },
          "execution_count": 40
        }
      ]
    },
    {
      "cell_type": "code",
      "metadata": {
        "colab": {
          "base_uri": "https://localhost:8080/"
        },
        "id": "EVbaRgYbd6F2",
        "outputId": "f7301ff2-97d6-4719-e1ef-82d51c1a520b"
      },
      "source": [
        "dias_peor_caso_teorico(4)"
      ],
      "execution_count": 41,
      "outputs": [
        {
          "output_type": "execute_result",
          "data": {
            "text/plain": [
              "10"
            ]
          },
          "metadata": {
            "tags": []
          },
          "execution_count": 41
        }
      ]
    },
    {
      "cell_type": "markdown",
      "metadata": {
        "id": "mPu_QrijpI2p"
      },
      "source": [
        "#**Estructura peor caso**"
      ]
    },
    {
      "cell_type": "markdown",
      "metadata": {
        "id": "8RHPYs4tpaYG"
      },
      "source": [
        "Un peor caso para el algiritmo Gale-Shapley puede obteerse asi.\n",
        "\n",
        "\n",
        "* **Listas de preferencia de los Hombres**\n",
        "\n",
        "  Matriz con diagonales ascendentes (/) donde cada fila es un dezplazamiento circular a la izquierda  de la fila anterior ignorando el ultimo elemento, y la ultima columna esta llena de valores n. La primera fila consiste en los valores de 1 a n.\n",
        "\n",
        "*  **Listas de preferencia de las Mujeres**\n",
        "\n",
        "  Matriz con diagonales ascendentes (/) donde cada fila es un dezplazamiento circular a la izquierda  de la fila anterior. La primera fila consiste en los valores de 2 a n y despues un 1."
      ]
    },
    {
      "cell_type": "markdown",
      "metadata": {
        "id": "7L4gopeguGZL"
      },
      "source": [
        "Ejemplo:\n",
        "\n",
        "Para n = 4 un peor caso puede ser el siguiente"
      ]
    },
    {
      "cell_type": "code",
      "metadata": {
        "colab": {
          "base_uri": "https://localhost:8080/"
        },
        "id": "T_wQU2mHber2",
        "outputId": "dfda25cf-cf7b-440c-e392-0c5a0b4023bc"
      },
      "source": [
        "phom = [[1,2,3,4],\n",
        "        [2,3,1,4],\n",
        "        [3,1,2,4],\n",
        "        [1,2,3,4]]\n",
        "\n",
        "pmuj = [[2,3,4,1],\n",
        "        [3,4,1,2],\n",
        "        [4,1,2,3],\n",
        "        [1,2,3,4]]\n",
        "\n",
        "\n",
        "parejas, cuenta = Gale_Shapley_match_preference_lists(4,pmuj,phom)\n",
        "print(\"Valor maximas iteraciones teorico: \",dias_peor_caso_teorico(4))\n",
        "print(\"Propuestas hechas experimento: \", cuenta)\n",
        "print(\"\\nEmparejamiento estable\")\n",
        "parejas"
      ],
      "execution_count": 42,
      "outputs": [
        {
          "output_type": "stream",
          "text": [
            "Valor maximas iteraciones teorico:  10\n",
            "Propuestas hechas experimento:  10\n",
            "\n",
            "Emparejamiento estable\n"
          ],
          "name": "stdout"
        },
        {
          "output_type": "execute_result",
          "data": {
            "text/plain": [
              "{('H1', 'M4'): (4, 1),\n",
              " ('H2', 'M1'): (3, 1),\n",
              " ('H3', 'M2'): (3, 1),\n",
              " ('H4', 'M3'): (3, 1)}"
            ]
          },
          "metadata": {
            "tags": []
          },
          "execution_count": 42
        }
      ]
    },
    {
      "cell_type": "markdown",
      "metadata": {
        "id": "H6R_TVOAucRl"
      },
      "source": [
        "# Funcion para obtener las listas de preferencia de los hombres en un peor caso "
      ]
    },
    {
      "cell_type": "code",
      "metadata": {
        "id": "JUUKpxsQdIwt"
      },
      "source": [
        "def peor_caso_hombres(n):\n",
        "  \n",
        "  #matriz = [[[0]*n]*n]\n",
        "  matriz =[]\n",
        "\n",
        "  #Construir n filas\n",
        "  for i in range(1,n+1):\n",
        "    corte1 = obtener_lista_i_a_n(i,n-1)\n",
        "    #print(corte1)\n",
        "    corte2 = obtener_lista_1_a_n(i-1)+ [n]\n",
        "    #print(corte2)\n",
        "    fila = corte1 + corte2\n",
        "    matriz.append(fila)\n",
        "\n",
        "  #matriz[1] = matriz[0][0:3]+[n]\n",
        "  return matriz"
      ],
      "execution_count": 43,
      "outputs": []
    },
    {
      "cell_type": "markdown",
      "metadata": {
        "id": "aVgR7Q9MoXYv"
      },
      "source": [
        "Ejemplo:"
      ]
    },
    {
      "cell_type": "code",
      "metadata": {
        "colab": {
          "base_uri": "https://localhost:8080/"
        },
        "id": "463SGqYZgpeX",
        "outputId": "e8e29dae-43d4-4345-9c1f-df7fd8d0f041"
      },
      "source": [
        "pc5 = peor_caso_hombres(5)\n",
        "for fila in pc5:\n",
        "    print(*fila)"
      ],
      "execution_count": 44,
      "outputs": [
        {
          "output_type": "stream",
          "text": [
            "1 2 3 4 5\n",
            "2 3 4 1 5\n",
            "3 4 1 2 5\n",
            "4 1 2 3 5\n",
            "1 2 3 4 5\n"
          ],
          "name": "stdout"
        }
      ]
    },
    {
      "cell_type": "markdown",
      "metadata": {
        "id": "KYR0LpRSuxk3"
      },
      "source": [
        "# Funcion para obtener las listas de preferencia de las mujeres en un peor caso "
      ]
    },
    {
      "cell_type": "code",
      "metadata": {
        "id": "F7SgjoZJQLPP"
      },
      "source": [
        "def peor_caso_mujeres(n):\n",
        "  \n",
        "  #matriz = [[[0]*n]*n]\n",
        "  matriz =[]\n",
        "\n",
        "  #Construir n filas\n",
        "  for i in range(1,n+1):\n",
        "    corte1 = obtener_lista_i_a_n(i+1,n)\n",
        "    #print(corte1)\n",
        "    corte2 = obtener_lista_1_a_n(i)\n",
        "    #print(corte2)\n",
        "    fila = corte1 + corte2\n",
        "    matriz.append(fila)\n",
        "\n",
        "  #matriz[1] = matriz[0][0:3]+[n]\n",
        "  \n",
        "  return matriz"
      ],
      "execution_count": 45,
      "outputs": []
    },
    {
      "cell_type": "markdown",
      "metadata": {
        "id": "C8eAWvrKobPx"
      },
      "source": [
        "Ejemplo:"
      ]
    },
    {
      "cell_type": "code",
      "metadata": {
        "id": "WyFXRjssm45L",
        "colab": {
          "base_uri": "https://localhost:8080/"
        },
        "outputId": "71b5bdb2-25cc-4615-9958-2513bbc10a85"
      },
      "source": [
        "ph1 = peor_caso_mujeres(5)\n",
        "for fila in ph1:\n",
        "    print(*fila)"
      ],
      "execution_count": 46,
      "outputs": [
        {
          "output_type": "stream",
          "text": [
            "2 3 4 5 1\n",
            "3 4 5 1 2\n",
            "4 5 1 2 3\n",
            "5 1 2 3 4\n",
            "1 2 3 4 5\n"
          ],
          "name": "stdout"
        }
      ]
    },
    {
      "cell_type": "markdown",
      "metadata": {
        "id": "zaLtn0wdwxZ-"
      },
      "source": [
        "# **Funcion para correr el algoritmo Gale-Shapley para n usando un peor caso**"
      ]
    },
    {
      "cell_type": "markdown",
      "metadata": {
        "id": "Bo7gBi8qxF0k"
      },
      "source": [
        "Esta funcion genera las listas de preferencia para hombres y mujeres correspondientes a un peor caso donde hay n hombres y n mujeres. Con estas listas de preferencia se ejecuta el algoritmo y se obtienen los emparejamientos y las iteraciones."
      ]
    },
    {
      "cell_type": "code",
      "metadata": {
        "id": "LxriQrhWQ4B-"
      },
      "source": [
        "def matching_peor_caso_Gale_Shapley(n):\n",
        "\n",
        "  MP_M = peor_caso_mujeres(n)\n",
        "  MP_H = peor_caso_hombres(n)  \n",
        "\n",
        "\n",
        "  \"\"\"\n",
        "  for fila in MP_M:\n",
        "    print(*fila)\n",
        "  print()\n",
        "\n",
        "  for fila in MP_H:\n",
        "    print(*fila)\n",
        "  print()\n",
        "  \"\"\"\n",
        "\n",
        "  parejas, cuenta = Gale_Shapley_match_preference_lists(n, MP_M, MP_H)\n",
        "  return parejas, cuenta"
      ],
      "execution_count": 47,
      "outputs": []
    },
    {
      "cell_type": "markdown",
      "metadata": {
        "id": "WqDjwENcoenf"
      },
      "source": [
        "#**Verificacion experimental**"
      ]
    },
    {
      "cell_type": "markdown",
      "metadata": {
        "id": "AXxRj1sExykp"
      },
      "source": [
        "Probamos los valores de la anterior funcion con respecto a los valores teoricos. Vemos que los resultados son correctos."
      ]
    },
    {
      "cell_type": "code",
      "metadata": {
        "colab": {
          "base_uri": "https://localhost:8080/"
        },
        "id": "mT5T9g7RSTmE",
        "outputId": "345ed532-81f1-4deb-f380-761e83aed70e"
      },
      "source": [
        "for i in range (1,10+1):\n",
        "  matches, days = matching_peor_caso_Gale_Shapley(i)\n",
        "\n",
        "  print(\"n = \", i)\n",
        "  print(\"dias-iteraciones experimento: \",days)\n",
        "  print(\"dias-iteraciones teorico:\",dias_peor_caso_teorico(i),\"\\n\")"
      ],
      "execution_count": 48,
      "outputs": [
        {
          "output_type": "stream",
          "text": [
            "n =  1\n",
            "dias-iteraciones experimento:  1\n",
            "dias-iteraciones teorico: 1 \n",
            "\n",
            "n =  2\n",
            "dias-iteraciones experimento:  2\n",
            "dias-iteraciones teorico: 2 \n",
            "\n",
            "n =  3\n",
            "dias-iteraciones experimento:  5\n",
            "dias-iteraciones teorico: 5 \n",
            "\n",
            "n =  4\n",
            "dias-iteraciones experimento:  10\n",
            "dias-iteraciones teorico: 10 \n",
            "\n",
            "n =  5\n",
            "dias-iteraciones experimento:  17\n",
            "dias-iteraciones teorico: 17 \n",
            "\n",
            "n =  6\n",
            "dias-iteraciones experimento:  26\n",
            "dias-iteraciones teorico: 26 \n",
            "\n",
            "n =  7\n",
            "dias-iteraciones experimento:  37\n",
            "dias-iteraciones teorico: 37 \n",
            "\n",
            "n =  8\n",
            "dias-iteraciones experimento:  50\n",
            "dias-iteraciones teorico: 50 \n",
            "\n",
            "n =  9\n",
            "dias-iteraciones experimento:  65\n",
            "dias-iteraciones teorico: 65 \n",
            "\n",
            "n =  10\n",
            "dias-iteraciones experimento:  82\n",
            "dias-iteraciones teorico: 82 \n",
            "\n"
          ],
          "name": "stdout"
        }
      ]
    },
    {
      "cell_type": "markdown",
      "metadata": {
        "id": "8XJJZhcyyP-T"
      },
      "source": [
        "#**Maximo numero de iteraciones para n = 4 y 40**"
      ]
    },
    {
      "cell_type": "markdown",
      "metadata": {
        "id": "F-pSiI7xdBSm"
      },
      "source": [
        "#**n = 4**"
      ]
    },
    {
      "cell_type": "code",
      "metadata": {
        "colab": {
          "base_uri": "https://localhost:8080/"
        },
        "id": "CEGTldwJSafh",
        "outputId": "382631d2-4cf2-4edb-a28a-2b2032db2b77"
      },
      "source": [
        "print(\"n = 4\\n\\n\")\n",
        "print(\"dias-iteraciones teorico:\",dias_peor_caso_teorico(4),\"\\n\")\n",
        "\n",
        "matches, days = matching_peor_caso_Gale_Shapley(4)\n",
        "print(\"dias-iteraciones experimento: \",days)\n",
        "\n",
        "print(\"\\n\\n\\n\\nListas de preferencia de los hombres\\n\")\n",
        "ch = 1\n",
        "\n",
        "MPM = peor_caso_mujeres(4)\n",
        "MPH = peor_caso_hombres(4)\n",
        "\n",
        "for fila in MPH:\n",
        "    label = 'H'+str(ch)+':   '\n",
        "    print(label,*fila)\n",
        "    ch = ch +1\n",
        "\n",
        "print(\"\\n\\nListas de preferencia de las mujeres\\n\")\n",
        "cm = 1\n",
        "for fila in MPM:\n",
        "    label = 'M'+str(cm)+':   '\n",
        "    print(label,*fila)\n",
        "    cm = cm +1\n",
        "\n",
        "print(\"\\n\\n\\n\\n\\nEmparejamiento estable y preferencia lograda de cada persona a su pareja\\n\")\n",
        "matches"
      ],
      "execution_count": 49,
      "outputs": [
        {
          "output_type": "stream",
          "text": [
            "n = 4\n",
            "\n",
            "\n",
            "dias-iteraciones teorico: 10 \n",
            "\n",
            "dias-iteraciones experimento:  10\n",
            "\n",
            "\n",
            "\n",
            "\n",
            "Listas de preferencia de los hombres\n",
            "\n",
            "H1:    1 2 3 4\n",
            "H2:    2 3 1 4\n",
            "H3:    3 1 2 4\n",
            "H4:    1 2 3 4\n",
            "\n",
            "\n",
            "Listas de preferencia de las mujeres\n",
            "\n",
            "M1:    2 3 4 1\n",
            "M2:    3 4 1 2\n",
            "M3:    4 1 2 3\n",
            "M4:    1 2 3 4\n",
            "\n",
            "\n",
            "\n",
            "\n",
            "\n",
            "Emparejamiento estable y preferencia lograda de cada persona a su pareja\n",
            "\n"
          ],
          "name": "stdout"
        },
        {
          "output_type": "execute_result",
          "data": {
            "text/plain": [
              "{('H1', 'M4'): (4, 1),\n",
              " ('H2', 'M1'): (3, 1),\n",
              " ('H3', 'M2'): (3, 1),\n",
              " ('H4', 'M3'): (3, 1)}"
            ]
          },
          "metadata": {
            "tags": []
          },
          "execution_count": 49
        }
      ]
    },
    {
      "cell_type": "markdown",
      "metadata": {
        "id": "WhqEA9kIdHZH"
      },
      "source": [
        "#**n = 40**"
      ]
    },
    {
      "cell_type": "code",
      "metadata": {
        "colab": {
          "base_uri": "https://localhost:8080/"
        },
        "id": "qYCbOOdoVUak",
        "outputId": "b7e4a729-e140-4c1c-ac2a-4e143bd23f28"
      },
      "source": [
        "print(\"n = 40\\n\\n\")\n",
        "print(\"dias-iteraciones teorico:\",dias_peor_caso_teorico(40),\"\\n\")\n",
        "\n",
        "matches, days = matching_peor_caso_Gale_Shapley(40)\n",
        "print(\"dias-iteraciones experimento: \",days)\n",
        "\n",
        "print(\"\\n\\n\\n\\nListas de preferencia de los hombres\\n\")\n",
        "ch = 1\n",
        "\n",
        "MPM = peor_caso_mujeres(40)\n",
        "MPH = peor_caso_hombres(40)\n",
        "\n",
        "for fila in MPH:\n",
        "    label = 'H'+str(ch)+':   '\n",
        "    print(label,*fila)\n",
        "    ch = ch +1\n",
        "\n",
        "print(\"\\n\\nListas de preferencia de las mujeres\\n\")\n",
        "cm = 1\n",
        "for fila in MPM:\n",
        "    label = 'M'+str(cm)+':   '\n",
        "    print(label,*fila)\n",
        "    cm = cm +1\n",
        "\n",
        "print(\"\\n\\n\\n\\n\\nEmparejamiento estable y preferencia lograda de cada persona a su pareja\\n\")\n",
        "matches"
      ],
      "execution_count": 50,
      "outputs": [
        {
          "output_type": "stream",
          "text": [
            "n = 40\n",
            "\n",
            "\n",
            "dias-iteraciones teorico: 1522 \n",
            "\n",
            "dias-iteraciones experimento:  1522\n",
            "\n",
            "\n",
            "\n",
            "\n",
            "Listas de preferencia de los hombres\n",
            "\n",
            "H1:    1 2 3 4 5 6 7 8 9 10 11 12 13 14 15 16 17 18 19 20 21 22 23 24 25 26 27 28 29 30 31 32 33 34 35 36 37 38 39 40\n",
            "H2:    2 3 4 5 6 7 8 9 10 11 12 13 14 15 16 17 18 19 20 21 22 23 24 25 26 27 28 29 30 31 32 33 34 35 36 37 38 39 1 40\n",
            "H3:    3 4 5 6 7 8 9 10 11 12 13 14 15 16 17 18 19 20 21 22 23 24 25 26 27 28 29 30 31 32 33 34 35 36 37 38 39 1 2 40\n",
            "H4:    4 5 6 7 8 9 10 11 12 13 14 15 16 17 18 19 20 21 22 23 24 25 26 27 28 29 30 31 32 33 34 35 36 37 38 39 1 2 3 40\n",
            "H5:    5 6 7 8 9 10 11 12 13 14 15 16 17 18 19 20 21 22 23 24 25 26 27 28 29 30 31 32 33 34 35 36 37 38 39 1 2 3 4 40\n",
            "H6:    6 7 8 9 10 11 12 13 14 15 16 17 18 19 20 21 22 23 24 25 26 27 28 29 30 31 32 33 34 35 36 37 38 39 1 2 3 4 5 40\n",
            "H7:    7 8 9 10 11 12 13 14 15 16 17 18 19 20 21 22 23 24 25 26 27 28 29 30 31 32 33 34 35 36 37 38 39 1 2 3 4 5 6 40\n",
            "H8:    8 9 10 11 12 13 14 15 16 17 18 19 20 21 22 23 24 25 26 27 28 29 30 31 32 33 34 35 36 37 38 39 1 2 3 4 5 6 7 40\n",
            "H9:    9 10 11 12 13 14 15 16 17 18 19 20 21 22 23 24 25 26 27 28 29 30 31 32 33 34 35 36 37 38 39 1 2 3 4 5 6 7 8 40\n",
            "H10:    10 11 12 13 14 15 16 17 18 19 20 21 22 23 24 25 26 27 28 29 30 31 32 33 34 35 36 37 38 39 1 2 3 4 5 6 7 8 9 40\n",
            "H11:    11 12 13 14 15 16 17 18 19 20 21 22 23 24 25 26 27 28 29 30 31 32 33 34 35 36 37 38 39 1 2 3 4 5 6 7 8 9 10 40\n",
            "H12:    12 13 14 15 16 17 18 19 20 21 22 23 24 25 26 27 28 29 30 31 32 33 34 35 36 37 38 39 1 2 3 4 5 6 7 8 9 10 11 40\n",
            "H13:    13 14 15 16 17 18 19 20 21 22 23 24 25 26 27 28 29 30 31 32 33 34 35 36 37 38 39 1 2 3 4 5 6 7 8 9 10 11 12 40\n",
            "H14:    14 15 16 17 18 19 20 21 22 23 24 25 26 27 28 29 30 31 32 33 34 35 36 37 38 39 1 2 3 4 5 6 7 8 9 10 11 12 13 40\n",
            "H15:    15 16 17 18 19 20 21 22 23 24 25 26 27 28 29 30 31 32 33 34 35 36 37 38 39 1 2 3 4 5 6 7 8 9 10 11 12 13 14 40\n",
            "H16:    16 17 18 19 20 21 22 23 24 25 26 27 28 29 30 31 32 33 34 35 36 37 38 39 1 2 3 4 5 6 7 8 9 10 11 12 13 14 15 40\n",
            "H17:    17 18 19 20 21 22 23 24 25 26 27 28 29 30 31 32 33 34 35 36 37 38 39 1 2 3 4 5 6 7 8 9 10 11 12 13 14 15 16 40\n",
            "H18:    18 19 20 21 22 23 24 25 26 27 28 29 30 31 32 33 34 35 36 37 38 39 1 2 3 4 5 6 7 8 9 10 11 12 13 14 15 16 17 40\n",
            "H19:    19 20 21 22 23 24 25 26 27 28 29 30 31 32 33 34 35 36 37 38 39 1 2 3 4 5 6 7 8 9 10 11 12 13 14 15 16 17 18 40\n",
            "H20:    20 21 22 23 24 25 26 27 28 29 30 31 32 33 34 35 36 37 38 39 1 2 3 4 5 6 7 8 9 10 11 12 13 14 15 16 17 18 19 40\n",
            "H21:    21 22 23 24 25 26 27 28 29 30 31 32 33 34 35 36 37 38 39 1 2 3 4 5 6 7 8 9 10 11 12 13 14 15 16 17 18 19 20 40\n",
            "H22:    22 23 24 25 26 27 28 29 30 31 32 33 34 35 36 37 38 39 1 2 3 4 5 6 7 8 9 10 11 12 13 14 15 16 17 18 19 20 21 40\n",
            "H23:    23 24 25 26 27 28 29 30 31 32 33 34 35 36 37 38 39 1 2 3 4 5 6 7 8 9 10 11 12 13 14 15 16 17 18 19 20 21 22 40\n",
            "H24:    24 25 26 27 28 29 30 31 32 33 34 35 36 37 38 39 1 2 3 4 5 6 7 8 9 10 11 12 13 14 15 16 17 18 19 20 21 22 23 40\n",
            "H25:    25 26 27 28 29 30 31 32 33 34 35 36 37 38 39 1 2 3 4 5 6 7 8 9 10 11 12 13 14 15 16 17 18 19 20 21 22 23 24 40\n",
            "H26:    26 27 28 29 30 31 32 33 34 35 36 37 38 39 1 2 3 4 5 6 7 8 9 10 11 12 13 14 15 16 17 18 19 20 21 22 23 24 25 40\n",
            "H27:    27 28 29 30 31 32 33 34 35 36 37 38 39 1 2 3 4 5 6 7 8 9 10 11 12 13 14 15 16 17 18 19 20 21 22 23 24 25 26 40\n",
            "H28:    28 29 30 31 32 33 34 35 36 37 38 39 1 2 3 4 5 6 7 8 9 10 11 12 13 14 15 16 17 18 19 20 21 22 23 24 25 26 27 40\n",
            "H29:    29 30 31 32 33 34 35 36 37 38 39 1 2 3 4 5 6 7 8 9 10 11 12 13 14 15 16 17 18 19 20 21 22 23 24 25 26 27 28 40\n",
            "H30:    30 31 32 33 34 35 36 37 38 39 1 2 3 4 5 6 7 8 9 10 11 12 13 14 15 16 17 18 19 20 21 22 23 24 25 26 27 28 29 40\n",
            "H31:    31 32 33 34 35 36 37 38 39 1 2 3 4 5 6 7 8 9 10 11 12 13 14 15 16 17 18 19 20 21 22 23 24 25 26 27 28 29 30 40\n",
            "H32:    32 33 34 35 36 37 38 39 1 2 3 4 5 6 7 8 9 10 11 12 13 14 15 16 17 18 19 20 21 22 23 24 25 26 27 28 29 30 31 40\n",
            "H33:    33 34 35 36 37 38 39 1 2 3 4 5 6 7 8 9 10 11 12 13 14 15 16 17 18 19 20 21 22 23 24 25 26 27 28 29 30 31 32 40\n",
            "H34:    34 35 36 37 38 39 1 2 3 4 5 6 7 8 9 10 11 12 13 14 15 16 17 18 19 20 21 22 23 24 25 26 27 28 29 30 31 32 33 40\n",
            "H35:    35 36 37 38 39 1 2 3 4 5 6 7 8 9 10 11 12 13 14 15 16 17 18 19 20 21 22 23 24 25 26 27 28 29 30 31 32 33 34 40\n",
            "H36:    36 37 38 39 1 2 3 4 5 6 7 8 9 10 11 12 13 14 15 16 17 18 19 20 21 22 23 24 25 26 27 28 29 30 31 32 33 34 35 40\n",
            "H37:    37 38 39 1 2 3 4 5 6 7 8 9 10 11 12 13 14 15 16 17 18 19 20 21 22 23 24 25 26 27 28 29 30 31 32 33 34 35 36 40\n",
            "H38:    38 39 1 2 3 4 5 6 7 8 9 10 11 12 13 14 15 16 17 18 19 20 21 22 23 24 25 26 27 28 29 30 31 32 33 34 35 36 37 40\n",
            "H39:    39 1 2 3 4 5 6 7 8 9 10 11 12 13 14 15 16 17 18 19 20 21 22 23 24 25 26 27 28 29 30 31 32 33 34 35 36 37 38 40\n",
            "H40:    1 2 3 4 5 6 7 8 9 10 11 12 13 14 15 16 17 18 19 20 21 22 23 24 25 26 27 28 29 30 31 32 33 34 35 36 37 38 39 40\n",
            "\n",
            "\n",
            "Listas de preferencia de las mujeres\n",
            "\n",
            "M1:    2 3 4 5 6 7 8 9 10 11 12 13 14 15 16 17 18 19 20 21 22 23 24 25 26 27 28 29 30 31 32 33 34 35 36 37 38 39 40 1\n",
            "M2:    3 4 5 6 7 8 9 10 11 12 13 14 15 16 17 18 19 20 21 22 23 24 25 26 27 28 29 30 31 32 33 34 35 36 37 38 39 40 1 2\n",
            "M3:    4 5 6 7 8 9 10 11 12 13 14 15 16 17 18 19 20 21 22 23 24 25 26 27 28 29 30 31 32 33 34 35 36 37 38 39 40 1 2 3\n",
            "M4:    5 6 7 8 9 10 11 12 13 14 15 16 17 18 19 20 21 22 23 24 25 26 27 28 29 30 31 32 33 34 35 36 37 38 39 40 1 2 3 4\n",
            "M5:    6 7 8 9 10 11 12 13 14 15 16 17 18 19 20 21 22 23 24 25 26 27 28 29 30 31 32 33 34 35 36 37 38 39 40 1 2 3 4 5\n",
            "M6:    7 8 9 10 11 12 13 14 15 16 17 18 19 20 21 22 23 24 25 26 27 28 29 30 31 32 33 34 35 36 37 38 39 40 1 2 3 4 5 6\n",
            "M7:    8 9 10 11 12 13 14 15 16 17 18 19 20 21 22 23 24 25 26 27 28 29 30 31 32 33 34 35 36 37 38 39 40 1 2 3 4 5 6 7\n",
            "M8:    9 10 11 12 13 14 15 16 17 18 19 20 21 22 23 24 25 26 27 28 29 30 31 32 33 34 35 36 37 38 39 40 1 2 3 4 5 6 7 8\n",
            "M9:    10 11 12 13 14 15 16 17 18 19 20 21 22 23 24 25 26 27 28 29 30 31 32 33 34 35 36 37 38 39 40 1 2 3 4 5 6 7 8 9\n",
            "M10:    11 12 13 14 15 16 17 18 19 20 21 22 23 24 25 26 27 28 29 30 31 32 33 34 35 36 37 38 39 40 1 2 3 4 5 6 7 8 9 10\n",
            "M11:    12 13 14 15 16 17 18 19 20 21 22 23 24 25 26 27 28 29 30 31 32 33 34 35 36 37 38 39 40 1 2 3 4 5 6 7 8 9 10 11\n",
            "M12:    13 14 15 16 17 18 19 20 21 22 23 24 25 26 27 28 29 30 31 32 33 34 35 36 37 38 39 40 1 2 3 4 5 6 7 8 9 10 11 12\n",
            "M13:    14 15 16 17 18 19 20 21 22 23 24 25 26 27 28 29 30 31 32 33 34 35 36 37 38 39 40 1 2 3 4 5 6 7 8 9 10 11 12 13\n",
            "M14:    15 16 17 18 19 20 21 22 23 24 25 26 27 28 29 30 31 32 33 34 35 36 37 38 39 40 1 2 3 4 5 6 7 8 9 10 11 12 13 14\n",
            "M15:    16 17 18 19 20 21 22 23 24 25 26 27 28 29 30 31 32 33 34 35 36 37 38 39 40 1 2 3 4 5 6 7 8 9 10 11 12 13 14 15\n",
            "M16:    17 18 19 20 21 22 23 24 25 26 27 28 29 30 31 32 33 34 35 36 37 38 39 40 1 2 3 4 5 6 7 8 9 10 11 12 13 14 15 16\n",
            "M17:    18 19 20 21 22 23 24 25 26 27 28 29 30 31 32 33 34 35 36 37 38 39 40 1 2 3 4 5 6 7 8 9 10 11 12 13 14 15 16 17\n",
            "M18:    19 20 21 22 23 24 25 26 27 28 29 30 31 32 33 34 35 36 37 38 39 40 1 2 3 4 5 6 7 8 9 10 11 12 13 14 15 16 17 18\n",
            "M19:    20 21 22 23 24 25 26 27 28 29 30 31 32 33 34 35 36 37 38 39 40 1 2 3 4 5 6 7 8 9 10 11 12 13 14 15 16 17 18 19\n",
            "M20:    21 22 23 24 25 26 27 28 29 30 31 32 33 34 35 36 37 38 39 40 1 2 3 4 5 6 7 8 9 10 11 12 13 14 15 16 17 18 19 20\n",
            "M21:    22 23 24 25 26 27 28 29 30 31 32 33 34 35 36 37 38 39 40 1 2 3 4 5 6 7 8 9 10 11 12 13 14 15 16 17 18 19 20 21\n",
            "M22:    23 24 25 26 27 28 29 30 31 32 33 34 35 36 37 38 39 40 1 2 3 4 5 6 7 8 9 10 11 12 13 14 15 16 17 18 19 20 21 22\n",
            "M23:    24 25 26 27 28 29 30 31 32 33 34 35 36 37 38 39 40 1 2 3 4 5 6 7 8 9 10 11 12 13 14 15 16 17 18 19 20 21 22 23\n",
            "M24:    25 26 27 28 29 30 31 32 33 34 35 36 37 38 39 40 1 2 3 4 5 6 7 8 9 10 11 12 13 14 15 16 17 18 19 20 21 22 23 24\n",
            "M25:    26 27 28 29 30 31 32 33 34 35 36 37 38 39 40 1 2 3 4 5 6 7 8 9 10 11 12 13 14 15 16 17 18 19 20 21 22 23 24 25\n",
            "M26:    27 28 29 30 31 32 33 34 35 36 37 38 39 40 1 2 3 4 5 6 7 8 9 10 11 12 13 14 15 16 17 18 19 20 21 22 23 24 25 26\n",
            "M27:    28 29 30 31 32 33 34 35 36 37 38 39 40 1 2 3 4 5 6 7 8 9 10 11 12 13 14 15 16 17 18 19 20 21 22 23 24 25 26 27\n",
            "M28:    29 30 31 32 33 34 35 36 37 38 39 40 1 2 3 4 5 6 7 8 9 10 11 12 13 14 15 16 17 18 19 20 21 22 23 24 25 26 27 28\n",
            "M29:    30 31 32 33 34 35 36 37 38 39 40 1 2 3 4 5 6 7 8 9 10 11 12 13 14 15 16 17 18 19 20 21 22 23 24 25 26 27 28 29\n",
            "M30:    31 32 33 34 35 36 37 38 39 40 1 2 3 4 5 6 7 8 9 10 11 12 13 14 15 16 17 18 19 20 21 22 23 24 25 26 27 28 29 30\n",
            "M31:    32 33 34 35 36 37 38 39 40 1 2 3 4 5 6 7 8 9 10 11 12 13 14 15 16 17 18 19 20 21 22 23 24 25 26 27 28 29 30 31\n",
            "M32:    33 34 35 36 37 38 39 40 1 2 3 4 5 6 7 8 9 10 11 12 13 14 15 16 17 18 19 20 21 22 23 24 25 26 27 28 29 30 31 32\n",
            "M33:    34 35 36 37 38 39 40 1 2 3 4 5 6 7 8 9 10 11 12 13 14 15 16 17 18 19 20 21 22 23 24 25 26 27 28 29 30 31 32 33\n",
            "M34:    35 36 37 38 39 40 1 2 3 4 5 6 7 8 9 10 11 12 13 14 15 16 17 18 19 20 21 22 23 24 25 26 27 28 29 30 31 32 33 34\n",
            "M35:    36 37 38 39 40 1 2 3 4 5 6 7 8 9 10 11 12 13 14 15 16 17 18 19 20 21 22 23 24 25 26 27 28 29 30 31 32 33 34 35\n",
            "M36:    37 38 39 40 1 2 3 4 5 6 7 8 9 10 11 12 13 14 15 16 17 18 19 20 21 22 23 24 25 26 27 28 29 30 31 32 33 34 35 36\n",
            "M37:    38 39 40 1 2 3 4 5 6 7 8 9 10 11 12 13 14 15 16 17 18 19 20 21 22 23 24 25 26 27 28 29 30 31 32 33 34 35 36 37\n",
            "M38:    39 40 1 2 3 4 5 6 7 8 9 10 11 12 13 14 15 16 17 18 19 20 21 22 23 24 25 26 27 28 29 30 31 32 33 34 35 36 37 38\n",
            "M39:    40 1 2 3 4 5 6 7 8 9 10 11 12 13 14 15 16 17 18 19 20 21 22 23 24 25 26 27 28 29 30 31 32 33 34 35 36 37 38 39\n",
            "M40:    1 2 3 4 5 6 7 8 9 10 11 12 13 14 15 16 17 18 19 20 21 22 23 24 25 26 27 28 29 30 31 32 33 34 35 36 37 38 39 40\n",
            "\n",
            "\n",
            "\n",
            "\n",
            "\n",
            "Emparejamiento estable y preferencia lograda de cada persona a su pareja\n",
            "\n"
          ],
          "name": "stdout"
        },
        {
          "output_type": "execute_result",
          "data": {
            "text/plain": [
              "{('H1', 'M40'): (40, 1),\n",
              " ('H10', 'M9'): (39, 1),\n",
              " ('H11', 'M10'): (39, 1),\n",
              " ('H12', 'M11'): (39, 1),\n",
              " ('H13', 'M12'): (39, 1),\n",
              " ('H14', 'M13'): (39, 1),\n",
              " ('H15', 'M14'): (39, 1),\n",
              " ('H16', 'M15'): (39, 1),\n",
              " ('H17', 'M16'): (39, 1),\n",
              " ('H18', 'M17'): (39, 1),\n",
              " ('H19', 'M18'): (39, 1),\n",
              " ('H2', 'M1'): (39, 1),\n",
              " ('H20', 'M19'): (39, 1),\n",
              " ('H21', 'M20'): (39, 1),\n",
              " ('H22', 'M21'): (39, 1),\n",
              " ('H23', 'M22'): (39, 1),\n",
              " ('H24', 'M23'): (39, 1),\n",
              " ('H25', 'M24'): (39, 1),\n",
              " ('H26', 'M25'): (39, 1),\n",
              " ('H27', 'M26'): (39, 1),\n",
              " ('H28', 'M27'): (39, 1),\n",
              " ('H29', 'M28'): (39, 1),\n",
              " ('H3', 'M2'): (39, 1),\n",
              " ('H30', 'M29'): (39, 1),\n",
              " ('H31', 'M30'): (39, 1),\n",
              " ('H32', 'M31'): (39, 1),\n",
              " ('H33', 'M32'): (39, 1),\n",
              " ('H34', 'M33'): (39, 1),\n",
              " ('H35', 'M34'): (39, 1),\n",
              " ('H36', 'M35'): (39, 1),\n",
              " ('H37', 'M36'): (39, 1),\n",
              " ('H38', 'M37'): (39, 1),\n",
              " ('H39', 'M38'): (39, 1),\n",
              " ('H4', 'M3'): (39, 1),\n",
              " ('H40', 'M39'): (39, 1),\n",
              " ('H5', 'M4'): (39, 1),\n",
              " ('H6', 'M5'): (39, 1),\n",
              " ('H7', 'M6'): (39, 1),\n",
              " ('H8', 'M7'): (39, 1),\n",
              " ('H9', 'M8'): (39, 1)}"
            ]
          },
          "metadata": {
            "tags": []
          },
          "execution_count": 50
        }
      ]
    },
    {
      "cell_type": "markdown",
      "metadata": {
        "id": "kAifDu1ZORgC"
      },
      "source": [
        "***\n",
        "#**Punto 2**\n",
        "Run the Gale-Shapley Algorithm 100 times using random permutations as preference lists for n=4 and 40. Find the minimum, maximum and average number of iterations and plot the distribution of the number of iterations.\n",
        "***"
      ]
    },
    {
      "cell_type": "markdown",
      "metadata": {
        "id": "PbfXv28wyzpJ"
      },
      "source": [
        "#**Experimentos con listas de preferencias aleatorias**"
      ]
    },
    {
      "cell_type": "markdown",
      "metadata": {
        "id": "alJoq4jF0ACX"
      },
      "source": [
        "**Funcion para obtener una lista de preferencia aleatoria**"
      ]
    },
    {
      "cell_type": "code",
      "metadata": {
        "id": "JtZ5XIAu6Se7"
      },
      "source": [
        "import numpy as np\n",
        "\n",
        "def preferencia_random(lista_n_personas):\n",
        "  return list(np.random.permutation(lista_n_personas))"
      ],
      "execution_count": 51,
      "outputs": []
    },
    {
      "cell_type": "markdown",
      "metadata": {
        "id": "Ebqp2ebW0lla"
      },
      "source": [
        "Ejemplos:"
      ]
    },
    {
      "cell_type": "code",
      "metadata": {
        "colab": {
          "base_uri": "https://localhost:8080/"
        },
        "id": "FrFfH0wX7mDI",
        "outputId": "21c883a0-8384-4756-cc2f-26220adc8038"
      },
      "source": [
        "print(preferencia_random([1, 2, 3]))"
      ],
      "execution_count": 52,
      "outputs": [
        {
          "output_type": "stream",
          "text": [
            "[2, 1, 3]\n"
          ],
          "name": "stdout"
        }
      ]
    },
    {
      "cell_type": "code",
      "metadata": {
        "colab": {
          "base_uri": "https://localhost:8080/"
        },
        "id": "8dJIaqVz8gIs",
        "outputId": "9868eb4b-04be-476a-d236-85116cd55cf9"
      },
      "source": [
        "print(preferencia_random([1, 2, 3]))"
      ],
      "execution_count": 53,
      "outputs": [
        {
          "output_type": "stream",
          "text": [
            "[1, 2, 3]\n"
          ],
          "name": "stdout"
        }
      ]
    },
    {
      "cell_type": "markdown",
      "metadata": {
        "id": "PFI4Rb5G0r5r"
      },
      "source": [
        "# **Funcion para obtener listas de preferencias aleatorias**"
      ]
    },
    {
      "cell_type": "code",
      "metadata": {
        "id": "V5T_IBIu9M1o"
      },
      "source": [
        "def caso_a_simular(n):\n",
        "  #pf = posibles_preferencias(n)\n",
        "  numeros_1_n = obtener_lista_1_a_n(n)\n",
        "\n",
        "  Matriz_preferencias_mujeres = []\n",
        "  Matriz_preferencias_hombres = []\n",
        "\n",
        "  #Para cada mujer generar una lista de preferencia aleatoria, segun alguna permutacion\n",
        "  for i in range(n):\n",
        "    Matriz_preferencias_mujeres.append(preferencia_random(numeros_1_n))\n",
        "\n",
        "\n",
        "  #Para cada hombre generar una lista de preferencia aleatoria, segun alguna permutacion\n",
        "  for i in range(n):\n",
        "    Matriz_preferencias_hombres.append(preferencia_random(numeros_1_n))\n",
        "  \n",
        "\n",
        "  return Matriz_preferencias_mujeres, Matriz_preferencias_hombres\n",
        "\n"
      ],
      "execution_count": 54,
      "outputs": []
    },
    {
      "cell_type": "markdown",
      "metadata": {
        "id": "atHw2SxY0-ke"
      },
      "source": [
        "Ejemplos:"
      ]
    },
    {
      "cell_type": "code",
      "metadata": {
        "colab": {
          "base_uri": "https://localhost:8080/"
        },
        "id": "DBzo4kAq-rPN",
        "outputId": "9cc97c7c-4970-4d6c-c229-ec17cc944f29"
      },
      "source": [
        "matM, matH = caso_a_simular(2)\n",
        "print(matM)\n",
        "print(matH)"
      ],
      "execution_count": 55,
      "outputs": [
        {
          "output_type": "stream",
          "text": [
            "[[1, 2], [1, 2]]\n",
            "[[2, 1], [1, 2]]\n"
          ],
          "name": "stdout"
        }
      ]
    },
    {
      "cell_type": "code",
      "metadata": {
        "colab": {
          "base_uri": "https://localhost:8080/"
        },
        "id": "4hYRyvxf_nWx",
        "outputId": "4e0747d6-e680-49be-e17a-e57ea70cbc34"
      },
      "source": [
        "matM, matH = caso_a_simular(2)\n",
        "print(matM)\n",
        "print(matH)"
      ],
      "execution_count": 56,
      "outputs": [
        {
          "output_type": "stream",
          "text": [
            "[[2, 1], [2, 1]]\n",
            "[[2, 1], [2, 1]]\n"
          ],
          "name": "stdout"
        }
      ]
    },
    {
      "cell_type": "markdown",
      "metadata": {
        "id": "zRSLp_A91bXj"
      },
      "source": [
        "# **Funcion para ejecutar la solucion de n emparejamientos aleatorios de tamaño n**"
      ]
    },
    {
      "cell_type": "markdown",
      "metadata": {
        "id": "6MXStfD1CPSN"
      },
      "source": [
        "Esta funcion recibe el numero de problemas a resolver y el valor n correspondiente al numero de hombres que es igual al numero de mujeres para los problemas a generar. La funcion en cada iteracion se ocupa de crear listas de preferencia aleatorias y correr el algoritmo Gale-Shapley para hacer el emparejamiento y obtener las iteraciones hechas para ese problema. Mientras se da la ejecucion se llevan 3 medidas de interes que son las iteraciones maximas, minimas y el promedio, y asi mismo en una lista de tamano n+1 se lleva la frecuencia del numero de iteraciones del algoritmo. Cuando finalizan las simulaciones se imprime  el histograma de frecuencias de las iteraciones y los resultados finales de las medidas de interes."
      ]
    },
    {
      "cell_type": "code",
      "metadata": {
        "id": "pZkNsRFkeQeZ"
      },
      "source": [
        "def simular_n_matchings(numSimulaciones,n):\n",
        "  teorico = dias_peor_caso_teorico(n)\n",
        "  ocurrencia = [0]*(teorico + 1)\n",
        "  \n",
        "  acumulador = 0\n",
        "  minimo = teorico +10_000\n",
        "  maximo = 0\n",
        "\n",
        "  for i in range(numSimulaciones):\n",
        "\n",
        "    #Obtener listas de preferencia aleatorias para todas las personas\n",
        "    MP_Msim, MP_Hsim = caso_a_simular(n)\n",
        "    #print(MP_Msim)\n",
        "    #print(MP_Hsim)\n",
        "\n",
        "    #Correr el algoritmo Gale_Shapley usando las preferencias generadas aleatoriamente\n",
        "    parejas, cuenta = Gale_Shapley_match_preference_lists(n, MP_Msim, MP_Hsim)\n",
        "\n",
        "    #Actualizar contadores\n",
        "    ocurrencia[cuenta] +=1\n",
        "    acumulador = acumulador + cuenta\n",
        "    minimo = min(cuenta, minimo)\n",
        "    maximo = max(cuenta,maximo)\n",
        "\n",
        "  promedio = acumulador/numSimulaciones\n",
        "\n",
        "\n",
        "  #Graficacion de histograma\n",
        "  plt.bar(range(0,teorico+1),  ocurrencia)\n",
        "  plt.title('Distribucion iteraciones para emparejar n hombres con n mujeres\\n')\n",
        "  plt.xlabel('Dias o iteraciones')\n",
        "  plt.ylabel('Frecuencia')\n",
        "  plt.show()\n",
        "\n",
        "  #Impresion de resultados del experimento\n",
        "  print(\"____________________________________________________\\n\")\n",
        "  print(\"n = \",n)\n",
        "  print(\"Valor teorico iteraciones maximas = \",teorico)\n",
        "  print(\"\\n\\nRESULTADOS EXPERIMENTO\")\n",
        "  print(\"   Minimo   =  \", minimo)\n",
        "  print(\"   Maximo   =  \", maximo)\n",
        "  print(\"   Promedio =  \", promedio)\n",
        "  print(\"____________________________________________________\")\n",
        "  #return minimo, maximo, promedio"
      ],
      "execution_count": 57,
      "outputs": []
    },
    {
      "cell_type": "code",
      "metadata": {
        "colab": {
          "base_uri": "https://localhost:8080/",
          "height": 504
        },
        "id": "gJ5TySSd1KPM",
        "outputId": "749f7cbc-14aa-4f2f-e34e-e8388ab489cc"
      },
      "source": [
        "simular_n_matchings(100,4)"
      ],
      "execution_count": 58,
      "outputs": [
        {
          "output_type": "display_data",
          "data": {
            "image/png": "[encoded data removed]",
            "text/plain": [
              "<Figure size 432x288 with 1 Axes>"
            ]
          },
          "metadata": {
            "tags": [],
            "needs_background": "light"
          }
        },
        {
          "output_type": "stream",
          "text": [
            "____________________________________________________\n",
            "\n",
            "n =  4\n",
            "Valor teorico iteraciones maximas =  10\n",
            "\n",
            "\n",
            "RESULTADOS EXPERIMENTO\n",
            "   Minimo   =   1\n",
            "   Maximo   =   7\n",
            "   Promedio =   3.19\n",
            "____________________________________________________\n"
          ],
          "name": "stdout"
        }
      ]
    },
    {
      "cell_type": "code",
      "metadata": {
        "colab": {
          "base_uri": "https://localhost:8080/",
          "height": 504
        },
        "id": "gRcl39TLFqX7",
        "outputId": "c85d2166-535d-493d-f726-2f665786bbfc"
      },
      "source": [
        "simular_n_matchings(100,40)"
      ],
      "execution_count": 59,
      "outputs": [
        {
          "output_type": "display_data",
          "data": {
            "image/png": "[encoded data removed]",
            "text/plain": [
              "<Figure size 432x288 with 1 Axes>"
            ]
          },
          "metadata": {
            "tags": [],
            "needs_background": "light"
          }
        },
        {
          "output_type": "stream",
          "text": [
            "____________________________________________________\n",
            "\n",
            "n =  40\n",
            "Valor teorico iteraciones maximas =  1522\n",
            "\n",
            "\n",
            "RESULTADOS EXPERIMENTO\n",
            "   Minimo   =   14\n",
            "   Maximo   =   202\n",
            "   Promedio =   58.41\n",
            "____________________________________________________\n"
          ],
          "name": "stdout"
        }
      ]
    },
    {
      "cell_type": "code",
      "metadata": {
        "id": "xKotHyYS2jAr"
      },
      "source": [
        ""
      ],
      "execution_count": 59,
      "outputs": []
    }
  ]
}