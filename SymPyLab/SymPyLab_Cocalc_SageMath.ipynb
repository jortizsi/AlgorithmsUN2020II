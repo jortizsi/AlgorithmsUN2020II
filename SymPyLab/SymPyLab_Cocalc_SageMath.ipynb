{
 "cells": [
  {
   "cell_type": "markdown",
   "metadata": {
    "collapsed": false,
    "id": "ufhpK7LMyN4R"
   },
   "source": [
    "\n",
    "#Laboratorio 5: SymPy"
   ]
  },
  {
   "cell_type": "markdown",
   "metadata": {
    "collapsed": false,
    "id": "yaIg906sxlNa"
   },
   "source": [
    "\n",
    "Grupo 31\n",
    "* Javier Alejandro Ortiz Silva.\n",
    "* Gustavo Alberto Puentes Romero\n",
    "* Cristian Daniel Ramirez Marin\n",
    "\n"
   ]
  },
  {
   "cell_type": "markdown",
   "metadata": {
    "collapsed": false,
    "id": "m_uzJxTsyXcE"
   },
   "source": [
    "Nota: Las celdas adicionadas se encuentran al final"
   ]
  },
  {
   "cell_type": "markdown",
   "metadata": {
    "collapsed": false,
    "id": "vtY1shFnMal_"
   },
   "source": [
    "# SymPyLab\n",
    "\n",
    "SymPy’s documentation\n",
    "- https://docs.sympy.org/latest/index.html\n"
   ]
  },
  {
   "cell_type": "markdown",
   "metadata": {
    "collapsed": false,
    "id": "2U0fAIf5G4rR"
   },
   "source": [
    "## SymPy’s polynomials \n",
    "- https://docs.sympy.org/latest/modules/polys/basics.html#polynomials \n",
    "\n",
    "- (x-1)(x-2)(x-3)(x-4)(x-5) = x^5 - 15 x^4  + 85 x^3 - 225 x^2 + 274 x - 120\n",
    "\n",
    "- (x^5 - 15 x^4  + 85 x^3 - 225 x^2 + 274 x - 120) / (x-1) = x^4  - 14 x^3  + 71 x^2  - 154 x + 120"
   ]
  },
  {
   "cell_type": "markdown",
   "metadata": {
    "collapsed": false,
    "id": "GSRpl42A6UXg"
   },
   "source": [
    "<img src=\"https://raw.githubusercontent.com/gjhernandezp/algorithms/master/SymPyLab/sympylabwolfram1.jpg\" /> <img src=\"https://raw.githubusercontent.com/gjhernandezp/algorithms/master/SymPyLab/sympylabwolfram3.jpg\" />\n"
   ]
  },
  {
   "cell_type": "code",
   "execution_count": 1,
   "metadata": {
    "colab": {
     "base_uri": "https://localhost:8080/",
     "height": 156
    },
    "collapsed": false,
    "id": "Fw1yPZWLMb5P",
    "outputId": "29f091b4-5774-44bb-c542-827f1b0c9340"
   },
   "outputs": [
    {
     "name": "stdout",
     "output_type": "stream",
     "text": [
      "x**4 - 14*x**3 + 71*x**2 - 154*x + 120\n",
      "0\n",
      "x**3 - 12*x**2 + 47*x - 60\n",
      "0\n",
      "x**2 - 9*x + 20\n",
      "0\n",
      "x - 5\n",
      "0\n"
     ]
    }
   ],
   "source": [
    "from sympy import Symbol\n",
    "from sympy import div\n",
    "\n",
    "x = Symbol('x')\n",
    "\n",
    "p = x**5 - 15*x**4  + 85*x**3 - 225*x**2 + 274*x - 120\n",
    "\n",
    "p, r = div(p,  x-1)\n",
    "\n",
    "print(p)\n",
    "print(r)\n",
    "\n",
    "p, r = div(p,  x-2)\n",
    "\n",
    "print(p)\n",
    "print(r)\n",
    "\n",
    "p, r = div(p,  x-3)\n",
    "\n",
    "print(p)\n",
    "print(r)\n",
    "\n",
    "p, r = div(p,  x-4)\n",
    "\n",
    "print(p)\n",
    "print(r)\n",
    "\n"
   ]
  },
  {
   "cell_type": "markdown",
   "metadata": {
    "collapsed": false,
    "id": "LrP1xT6VKZrE"
   },
   "source": [
    "## SymPy’s polynomial simple univariate polynomial factorization\n",
    "- https://docs.sympy.org/latest/modules/polys/wester.html#simple-univariate-polynomial-factorization\n",
    "- factor(x\\*\\*5 - 15\\*x\\*\\*4  + 85\\*x\\*\\*3 - 225\\*x\\*\\*2 + 274\\*x - 120)"
   ]
  },
  {
   "cell_type": "markdown",
   "metadata": {
    "collapsed": false,
    "id": "2NPChCoPLsls"
   },
   "source": [
    "<img src=\"https://raw.githubusercontent.com/gjhernandezp/algorithms/master/SymPyLab/sympylabwolfram4.jpg\" />\n"
   ]
  },
  {
   "cell_type": "code",
   "execution_count": 2,
   "metadata": {
    "colab": {
     "base_uri": "https://localhost:8080/",
     "height": 35
    },
    "collapsed": false,
    "id": "i2vHjXOIKvQu",
    "outputId": "2c0318d2-c5a1-4ab6-cff2-64661f69636e"
   },
   "outputs": [
    {
     "data": {
      "text/latex": [
       "$\\displaystyle \\left(x - 5\\right) \\left(x - 4\\right) \\left(x - 3\\right) \\left(x - 2\\right) \\left(x - 1\\right)$"
      ],
      "text/plain": [
       "(x - 5)*(x - 4)*(x - 3)*(x - 2)*(x - 1)"
      ]
     },
     "execution_count": 2,
     "metadata": {
     },
     "output_type": "execute_result"
    }
   ],
   "source": [
    "from sympy import *\n",
    "x = Symbol('x')\n",
    "factor(x**5 - 15*x**4  + 85*x**3 - 225*x**2 + 274*x - 120)"
   ]
  },
  {
   "cell_type": "markdown",
   "metadata": {
    "collapsed": false,
    "id": "xoq8A5ipMdRa"
   },
   "source": [
    "## SymPy’s solvers\n",
    "- https://docs.sympy.org/latest/tutorial/solvers.html\n",
    "- x\\*\\*5 - 15\\*x\\*\\*4  + 85\\*x\\*\\* 3 - 225\\*x\\*\\* 2 + 274\\*x - 120 = 0"
   ]
  },
  {
   "cell_type": "markdown",
   "metadata": {
    "collapsed": false,
    "id": "UpEjlqXZMk8i"
   },
   "source": [
    "<img src=\"https://raw.githubusercontent.com/gjhernandezp/algorithms/master/SymPyLab/sympylabwolfram5.jpg\" />"
   ]
  },
  {
   "cell_type": "code",
   "execution_count": 3,
   "metadata": {
    "colab": {
     "base_uri": "https://localhost:8080/",
     "height": 35
    },
    "collapsed": false,
    "id": "DLzUsS8YMlNK",
    "outputId": "db5f1871-083d-41eb-cbc8-13903028fd9e"
   },
   "outputs": [
    {
     "data": {
      "text/latex": [
       "$\\displaystyle \\left\\{1, 2, 3, 4, 5\\right\\}$"
      ],
      "text/plain": [
       "FiniteSet(1, 2, 3, 4, 5)"
      ]
     },
     "execution_count": 3,
     "metadata": {
     },
     "output_type": "execute_result"
    }
   ],
   "source": [
    "from sympy import *\n",
    "x = Symbol('x')\n",
    "solveset(Eq(x**5 - 15*x**4  + 85*x**3 - 225*x**2 + 274*x - 120, 0), x)\n"
   ]
  },
  {
   "cell_type": "code",
   "execution_count": 0,
   "metadata": {
    "collapsed": false,
    "id": "ovyOLGJ3NUmj"
   },
   "outputs": [
   ],
   "source": [
   ]
  },
  {
   "cell_type": "markdown",
   "metadata": {
    "collapsed": false,
    "id": "OtsxSwPmV3Vs"
   },
   "source": [
    "## SymPy’s Symbolic and Numercical Complex Evaluations\n",
    "- https://docs.sympy.org/latest/modules/evalf.html](https://)\n",
    "- x = x1 + I*x2,y = y1 + I*y2, z = z1 + I*z2, x*y*z"
   ]
  },
  {
   "cell_type": "markdown",
   "metadata": {
    "collapsed": false,
    "id": "XxWt-AcaZxdp"
   },
   "source": [
    "<img src=\"https://raw.githubusercontent.com/gjhernandezp/algorithms/master/SymPyLab/sympylabwolfram7.jpg\" />"
   ]
  },
  {
   "cell_type": "code",
   "execution_count": 4,
   "metadata": {
    "colab": {
     "base_uri": "https://localhost:8080/",
     "height": 124
    },
    "collapsed": false,
    "id": "ENDQbfLGV31r",
    "outputId": "5430a8de-95d1-428a-dec6-d9738c7d8632"
   },
   "outputs": [
    {
     "name": "stdout",
     "output_type": "stream",
     "text": [
      "(x1 + I*x2)*(y1 + I*y2)*(z1 + I*z2)\n",
      "x1*y1*z1 + I*x1*y1*z2 + I*x1*y2*z1 - x1*y2*z2 + I*x2*y1*z1 - x2*y1*z2 - x2*y2*z1 - I*x2*y2*z2\n",
      "x1*y1*z1 + I*x1*y1*z2 + I*x1*y2*z1 - x1*y2*z2 + I*x2*y1*z1 - x2*y1*z2 - x2*y2*z1 - I*x2*y2*z2\n",
      "x1*y1*z1 + I*x1*y1*z2 + I*x1*y2*z1 - x1*y2*z2 + I*x2*y1*z1 - x2*y1*z2 - x2*y2*z1 - I*x2*y2*z2\n",
      "w= 0.28902548222223624241 - 0.091999668350375232456*I\n"
     ]
    }
   ],
   "source": [
    "from sympy import *\n",
    "x1, x2, y1, y2, z1, z2 = symbols(\"x1 x2 y1 y2 z1 z2\", real=True)  \n",
    "x = x1 + I*x2\n",
    "y = y1 + I*y2\n",
    "z = z1 + I*z2\n",
    "\n",
    "print(x*y*z)\n",
    "print(expand(x*y*z))\n",
    "print(expand((x*y)*z))\n",
    "print(expand(x*(y*z)))\n",
    "\n",
    "w=N(1/(pi + I), 20)\n",
    "print('w=',w)"
   ]
  },
  {
   "cell_type": "markdown",
   "metadata": {
    "collapsed": false,
    "id": "34c6tlW4JXJX"
   },
   "source": [
    "## SymPy’s integrals\n",
    "- https://docs.sympy.org/latest/modules/integrals/integrals.html\n",
    "- [risk-engineering.org](https://risk-engineering.org/notebook/monte-carlo-LHS.html)"
   ]
  },
  {
   "cell_type": "markdown",
   "metadata": {
    "collapsed": false,
    "id": "Uz8j617GmnMZ"
   },
   "source": [
    "\n",
    "\n",
    "Let’s start with a simple integration problem in 1D,\n",
    "\n",
    "$$\\int_1^5 x^2 dx$$\n",
    " \n",
    "This is easy to solve analytically, and we can use the SymPy library in case you’ve forgotten how to resolve simple integrals."
   ]
  },
  {
   "cell_type": "code",
   "execution_count": 5,
   "metadata": {
    "colab": {
     "base_uri": "https://localhost:8080/",
     "height": 52
    },
    "collapsed": false,
    "id": "8pLJWumKnJTT",
    "outputId": "32068d01-9f69-4021-a508-2a0ab4f99eb1"
   },
   "outputs": [
    {
     "name": "stdout",
     "output_type": "stream",
     "text": [
      "x**3/3\n",
      "Analytical result: 41.333333333333336\n"
     ]
    }
   ],
   "source": [
    "import sympy\n",
    "# we’ll save results using different methods in this data structure, called a dictionary\n",
    "result = {}  \n",
    "x = sympy.Symbol(\"x\")\n",
    "i = sympy.integrate(x**2)\n",
    "print(i)\n",
    "result[\"analytical\"] = float(i.subs(x, 5) - i.subs(x, 1))\n",
    "print(\"Analytical result: {}\".format(result[\"analytical\"]))"
   ]
  },
  {
   "cell_type": "markdown",
   "metadata": {
    "collapsed": false,
    "id": "_kDQHJrFnMah"
   },
   "source": [
    "**Integrating with Monte Carlo** \n",
    "[risk-engineering.org](https://risk-engineering.org/notebook/monte-carlo-LHS.html) \n",
    "\n",
    "We can estimate this integral using a standard Monte Carlo method, where we use the fact that the expectation of a random variable is related to its integral\n",
    "\n",
    "$$\\mathbb{E}(f(x)) = \\int_I f(x) dx $$\n",
    "\n",
    "We will sample a large number N of points in I and calculate their average, and multiply by the range over which we are integrating."
   ]
  },
  {
   "cell_type": "code",
   "execution_count": 6,
   "metadata": {
    "colab": {
     "base_uri": "https://localhost:8080/",
     "height": 35
    },
    "collapsed": false,
    "id": "IAe87LwpFeXY",
    "outputId": "11f14724-6856-44a3-d5f8-37f1405c5e30"
   },
   "outputs": [
    {
     "name": "stdout",
     "output_type": "stream",
     "text": [
      "Standard Monte Carlo result: 41.3225569324424\n"
     ]
    }
   ],
   "source": [
    "import numpy\n",
    "N = 1_000_000\n",
    "accum = 0\n",
    "for i in range(N):\n",
    "    x = numpy.random.uniform(1, 5)\n",
    "    accum += x**2\n",
    "volume = 5 - 1\n",
    "result[\"MC\"] = volume * accum / float(N)\n",
    "print(\"Standard Monte Carlo result: {}\".format(result[\"MC\"]))"
   ]
  },
  {
   "cell_type": "markdown",
   "metadata": {
    "collapsed": false,
    "id": "Y-h16ObloBhp"
   },
   "source": [
    "- integrate(x\\*\\*2 * sin(x)\\*\\*3)\n",
    "\n",
    "<img src=\"https://raw.githubusercontent.com/gjhernandezp/algorithms/master/SymPyLab/sympylabwolfram8.jpg\" />"
   ]
  },
  {
   "cell_type": "code",
   "execution_count": 7,
   "metadata": {
    "colab": {
     "base_uri": "https://localhost:8080/",
     "height": 72
    },
    "collapsed": false,
    "id": "tOPpWf2uoI1w",
    "outputId": "eb3fb7b9-1994-4345-901c-b063ffbc0611"
   },
   "outputs": [
    {
     "name": "stdout",
     "output_type": "stream",
     "text": [
      "-x**2*sin(x)**2*cos(x) - 2*x**2*cos(x)**3/3 + 14*x*sin(x)**3/9 + 4*x*sin(x)*cos(x)**2/3 + 14*sin(x)**2*cos(x)/9 + 40*cos(x)**3/27\n",
      "-15.42978215330555\n"
     ]
    }
   ],
   "source": [
    "import sympy\n",
    "x = Symbol(\"x\")\n",
    "i = integrate(x**2 * sin(x)**3)\n",
    "print(i)\n",
    "print(float(i.subs(x, 5) - i.subs(x, 1)))"
   ]
  },
  {
   "cell_type": "code",
   "execution_count": 8,
   "metadata": {
    "colab": {
     "base_uri": "https://localhost:8080/",
     "height": 35
    },
    "collapsed": false,
    "id": "4E6DQ8b0po0I",
    "outputId": "58a6d7d9-0be0-476c-a073-7e9d7e085fd9"
   },
   "outputs": [
    {
     "name": "stdout",
     "output_type": "stream",
     "text": [
      "Standard Monte Carlo result: -15.3666534150031\n"
     ]
    }
   ],
   "source": [
    "import numpy\n",
    "N = 100_000\n",
    "accum = 0\n",
    "l =[]\n",
    "for i in range(N):\n",
    "    x = numpy.random.uniform(1, 5)\n",
    "    accum += x**2 * sin(x)**3\n",
    "volume = 5 - 1\n",
    "result[\"MC\"] = volume * accum / float(N)\n",
    "print(\"Standard Monte Carlo result: {}\".format(result[\"MC\"]))"
   ]
  },
  {
   "cell_type": "markdown",
   "metadata": {
    "collapsed": false,
    "id": "l362l5XHoILR"
   },
   "source": [
    "**A higher dimensional integral** [risk-engineering.org](https://risk-engineering.org/notebook/monte-carlo-LHS.html) \n",
    "\n",
    "\n",
    "Let us now analyze an integration problem in dimension 4, the Ishigami function. This is a well-known function in numerical optimization and stochastic analysis, because it is very highly non-linear."
   ]
  },
  {
   "cell_type": "code",
   "execution_count": 9,
   "metadata": {
    "colab": {
     "base_uri": "https://localhost:8080/"
    },
    "collapsed": false,
    "executionInfo": {
     "elapsed": 816,
     "status": "ok",
     "timestamp": 1604338712597,
     "user": {
      "displayName": "Javier Alejandro Ortiz Silva",
      "photoUrl": "https://lh3.googleusercontent.com/a-/AOh14Gj-FusDtlMqXMci8xTXaZjCLjBHkSkWEV_Rj_7A=s64",
      "userId": "01373274722354518325"
     },
     "user_tz": 300
    },
    "id": "krm2hdVoY8Tm",
    "outputId": "57e72c8e-5ee7-442c-df17-001c658d992d"
   },
   "outputs": [
    {
     "name": "stdout",
     "output_type": "stream",
     "text": [
      "Analytical result: 868.175747048395\n"
     ]
    }
   ],
   "source": [
    "import sympy\n",
    "\n",
    "x1 = sympy.Symbol(\"x1\")\n",
    "x2 = sympy.Symbol(\"x2\")\n",
    "x3 = sympy.Symbol(\"x3\")\n",
    "expr = sympy.sin(x1) + 7*sympy.sin(x2)**2 + 0.1 * x3**4 * sympy.sin(x1)\n",
    "res = sympy.integrate(expr,\n",
    "                      (x1, -sympy.pi, sympy.pi),\n",
    "                      (x2, -sympy.pi, sympy.pi),\n",
    "                      (x3, -sympy.pi, sympy.pi))\n",
    "# Note: we use float(res) to convert res from symbolic form to floating point form\n",
    "result = {} \n",
    "result[\"analytical\"] = float(res)\n",
    "print(\"Analytical result: {}\".format(result[\"analytical\"]))"
   ]
  },
  {
   "cell_type": "code",
   "execution_count": 10,
   "metadata": {
    "colab": {
     "base_uri": "https://localhost:8080/",
     "height": 35
    },
    "collapsed": false,
    "id": "GWraXqA0a0I1",
    "outputId": "83717f91-bc65-4666-f98d-43b402cdffe6"
   },
   "outputs": [
    {
     "name": "stdout",
     "output_type": "stream",
     "text": [
      "Standard Monte Carlo result: 879.955902484794\n"
     ]
    }
   ],
   "source": [
    "N = 10_000\n",
    "accum = 0\n",
    "for i in range(N):\n",
    "    xx1 = numpy.random.uniform(-numpy.pi, numpy.pi)\n",
    "    xx2 = numpy.random.uniform(-numpy.pi, numpy.pi)\n",
    "    xx3 = numpy.random.uniform(-numpy.pi, numpy.pi)\n",
    "    accum += numpy.sin(xx1) + 7*numpy.sin(xx2)**2 + 0.1 * xx3**4 * numpy.sin(xx1)\n",
    "volume = (2 * numpy.pi)**3\n",
    "result = {} \n",
    "result[\"MC\"] = volume * accum / float(N)\n",
    "print(\"Standard Monte Carlo result: {}\".format(result[\"MC\"]))"
   ]
  },
  {
   "cell_type": "code",
   "execution_count": 11,
   "metadata": {
    "collapsed": false,
    "id": "GEVLchJtbgdN"
   },
   "outputs": [
   ],
   "source": [
    "import math\n",
    "import numpy\n",
    "# adapted from https://mail.scipy.org/pipermail/scipy-user/2013-June/034744.html\n",
    "def halton(dim: int, nbpts: int):\n",
    "    h = numpy.full(nbpts * dim, numpy.nan)\n",
    "    p = numpy.full(nbpts, numpy.nan)\n",
    "    P = [2, 3, 5, 7, 11, 13, 17, 19, 23, 29, 31]\n",
    "    lognbpts = math.log(nbpts + 1)\n",
    "    for i in range(dim):\n",
    "        b = P[i]\n",
    "        n = int(math.ceil(lognbpts / math.log(b)))\n",
    "        for t in range(n):\n",
    "            p[t] = pow(b, -(t + 1))\n",
    "\n",
    "        for j in range(nbpts):\n",
    "            d = j + 1\n",
    "            sum_ = math.fmod(d, b) * p[0]\n",
    "            for t in range(1, n):\n",
    "                d = math.floor(d / b)\n",
    "                sum_ += math.fmod(d, b) * p[t]\n",
    "\n",
    "            h[j*dim + i] = sum_\n",
    "    return h.reshape(nbpts, dim)"
   ]
  },
  {
   "cell_type": "code",
   "execution_count": 12,
   "metadata": {
    "colab": {
     "base_uri": "https://localhost:8080/",
     "height": 336
    },
    "collapsed": false,
    "executionInfo": {
     "elapsed": 899,
     "status": "ok",
     "timestamp": 1604335630035,
     "user": {
      "displayName": "Javier Alejandro Ortiz Silva",
      "photoUrl": "https://lh3.googleusercontent.com/a-/AOh14Gj-FusDtlMqXMci8xTXaZjCLjBHkSkWEV_Rj_7A=s64",
      "userId": "01373274722354518325"
     },
     "user_tz": 300
    },
    "id": "icR0xmtacj7h",
    "outputId": "83b89f5f-036e-4564-fc4e-b949267ded8b"
   },
   "outputs": [
    {
     "name": "stderr",
     "output_type": "stream",
     "text": [
      "<ipython-input-12-d6f4cd360f7e>:7: MatplotlibDeprecationWarning: Adding an axes using the same arguments as a previous axes currently reuses the earlier instance.  In a future version, a new instance will always be created and returned.  Meanwhile, this warning can be suppressed, and the future behavior ensured, by passing a unique label to each axes instance.\n",
      "  plt.axes().set_aspect('equal')\n"
     ]
    },
    {
     "data": {
      "image/png": "[encoded data removed]",
      "text/plain": [
       "<Figure size 432x288 with 1 Axes>"
      ]
     },
     "execution_count": 12,
     "metadata": {
      "needs_background": "light"
     },
     "output_type": "execute_result"
    }
   ],
   "source": [
    "import matplotlib.pyplot as plt\n",
    "N = 1000\n",
    "seq = halton(2, N)\n",
    "plt.title(\"2D Halton sequence\")\n",
    "# Note: we use \"alpha=0.5\" in the scatterplot so that the plotted points are semi-transparent\n",
    "# (alpha-transparency of 0.5 out of 1), so that we can see when any points are superimposed.\n",
    "plt.axes().set_aspect('equal')\n",
    "plt.scatter(seq[:,0], seq[:,1], marker=\".\", alpha=0.5);"
   ]
  },
  {
   "cell_type": "code",
   "execution_count": 13,
   "metadata": {
    "colab": {
     "base_uri": "https://localhost:8080/",
     "height": 35
    },
    "collapsed": false,
    "id": "OPhHs-WqbMmk",
    "outputId": "3ddf3d1c-fde5-4974-e50d-228c85be1a82"
   },
   "outputs": [
    {
     "data": {
      "text/plain": [
       "'N = 10_000\\n\\nseq = halton(3, N)\\naccum = 0\\nfor i in range(N):\\n    xx1 = -numpy.pi + seq[i][0] * numpy.pi * 2\\n    xx2 = -numpy.pi + seq[i][1] * numpy.pi * 2\\n    xx3 = -numpy.pi + seq[i][2] * numpy.pi * 2\\n    accum += numpy.sin(xx1) + 7*numpy.sin(xx2)**2 + 0.1 * xx3**4 * numpy.sin(xx1)\\nvolume = (2 * numpy.pi)**3\\nresult = {} \\nresult[\"MC\"] = volume * accum / float(N)\\nprint(\"Qausi Monte Carlo Halton Sequence result: {}\".format(result[\"MC\"]))'"
      ]
     },
     "execution_count": 13,
     "metadata": {
     },
     "output_type": "execute_result"
    }
   ],
   "source": [
    "\"\"\"N = 10_000\n",
    "\n",
    "seq = halton(3, N)\n",
    "accum = 0\n",
    "for i in range(N):\n",
    "    xx1 = -numpy.pi + seq[i][0] * numpy.pi * 2\n",
    "    xx2 = -numpy.pi + seq[i][1] * numpy.pi * 2\n",
    "    xx3 = -numpy.pi + seq[i][2] * numpy.pi * 2\n",
    "    accum += numpy.sin(xx1) + 7*numpy.sin(xx2)**2 + 0.1 * xx3**4 * numpy.sin(xx1)\n",
    "volume = (2 * numpy.pi)**3\n",
    "result = {} \n",
    "result[\"MC\"] = volume * accum / float(N)\n",
    "print(\"Qausi Monte Carlo Halton Sequence result: {}\".format(result[\"MC\"]))\"\"\""
   ]
  },
  {
   "cell_type": "markdown",
   "metadata": {
    "collapsed": false,
    "id": "eaqIgmnkPNVT"
   },
   "source": [
    "## Wolfram alpha answers quastion in natural languaje\n",
    "- What is the average temperature in Bogota in September?\n",
    "\n",
    "<img src=\"https://raw.githubusercontent.com/gjhernandezp/algorithms/master/SymPyLab/sympylabwolfram6.jpg\" />"
   ]
  },
  {
   "cell_type": "markdown",
   "metadata": {
    "collapsed": false,
    "id": "jNPP9FAdykEi"
   },
   "source": [
    "# **||||||||||||||||||||||||||||||||||||||||||||||||||||||||||||||||||||||||||||||||||||||||||||||||||||||||||||||||||||||||||||||||||||||||||||||||||||||||||||**"
   ]
  },
  {
   "cell_type": "markdown",
   "metadata": {
    "collapsed": false,
    "id": "wwWJRVgnQJAs"
   },
   "source": [
    "# **||||||||||||||||||||||||||||||||||||||||||||||||||||||||||||||||||||||||||||||||||||||||||||||||||||||||||||||||||||||||||||||||||||||||||||||||||||||||||||**"
   ]
  },
  {
   "cell_type": "markdown",
   "metadata": {
    "collapsed": false,
    "id": "97tN2J4izHGV"
   },
   "source": [
    "**--------------------------------------------------------------------------------------------------------------------------------------------------------------**"
   ]
  },
  {
   "cell_type": "markdown",
   "metadata": {
    "collapsed": false,
    "id": "9JGsjcboKSbW"
   },
   "source": [
    "# Solucion Laboratorio 5 punto 1\n",
    "\n"
   ]
  },
  {
   "cell_type": "markdown",
   "metadata": {
    "collapsed": false,
    "id": "3w8vtvWyey31"
   },
   "source": [
    "1. Modify the code of SymPyLab from github to add cells and images from Wolfram Alpha for the polynomial (x-1)(x-2)(x-3)(x-4)(x-5)(x-6)(x-7)(x-8)(x-9)(x-10) and integrals of one dimensional an three dimensional functions that are product of a polynomial, log, sin, and e^. and the other cells create you own examples."
   ]
  },
  {
   "cell_type": "markdown",
   "metadata": {
    "collapsed": false,
    "id": "9voJXDFuyvUn"
   },
   "source": [
    "**--------------------------------------------------------------------------------------------------------------------------------------------------------------**"
   ]
  },
  {
   "cell_type": "markdown",
   "metadata": {
    "collapsed": false,
    "id": "2wu4WQQ9S_xl"
   },
   "source": [
    "# Parte 1: Polinomios en SymPy"
   ]
  },
  {
   "cell_type": "markdown",
   "metadata": {
    "collapsed": false,
    "id": "vDr_SVFNScXS"
   },
   "source": [
    "Ingresamos el polinomio (x-1)(x-2)(x-3)(x-4)(x-5)(x-6)(x-7)(x-8)(x-9)(x-10) en WolframAlpha"
   ]
  },
  {
   "cell_type": "markdown",
   "metadata": {
    "collapsed": false,
    "id": "xKKQIzWEPlvE"
   },
   "source": [
    "<img src=\"https://raw.githubusercontent.com/jortizsi/SymPyLab/main/1ero.jpg\"/>"
   ]
  },
  {
   "cell_type": "markdown",
   "metadata": {
    "collapsed": false,
    "id": "mgqOXVuFTPK2"
   },
   "source": [
    "Usando la fucion factor ingresamos la forma extendida del polinomio para que nos genere la forma completamente factorizada"
   ]
  },
  {
   "cell_type": "code",
   "execution_count": 14,
   "metadata": {
    "colab": {
     "base_uri": "https://localhost:8080/"
    },
    "collapsed": false,
    "executionInfo": {
     "elapsed": 1355,
     "status": "ok",
     "timestamp": 1604123118131,
     "user": {
      "displayName": "Cristian Daniel Ramirez Marin",
      "photoUrl": "https://lh3.googleusercontent.com/a-/AOh14GiaEJPcNmyGWz8dIon4SXaEXde4IToFEz-LpohxbA=s64",
      "userId": "16789559858756867717"
     },
     "user_tz": 300
    },
    "id": "pmBQLCsSLiSp",
    "outputId": "a85e56a3-93fa-4e2b-901b-4dbc932f4182"
   },
   "outputs": [
    {
     "data": {
      "text/latex": [
       "$\\displaystyle \\left(x - 10\\right) \\left(x - 9\\right) \\left(x - 8\\right) \\left(x - 7\\right) \\left(x - 6\\right) \\left(x - 5\\right) \\left(x - 4\\right) \\left(x - 3\\right) \\left(x - 2\\right) \\left(x - 1\\right)$"
      ],
      "text/plain": [
       "(x - 10)*(x - 9)*(x - 8)*(x - 7)*(x - 6)*(x - 5)*(x - 4)*(x - 3)*(x - 2)*(x - 1)"
      ]
     },
     "execution_count": 14,
     "metadata": {
     },
     "output_type": "execute_result"
    }
   ],
   "source": [
    "from sympy import *\n",
    "\n",
    "x = Symbol('x')\n",
    "factor(x**10 - 55*x**9  + 1320*x**8 - 18150*x**7 + 157773*x**6 - 902055*x**5+ 3416930*x**4 - 8409500*x**3 + 12753576*x**2 - 10628640*x + 3628800 )"
   ]
  },
  {
   "cell_type": "markdown",
   "metadata": {
    "collapsed": false,
    "id": "Lj9vDJytTvTI"
   },
   "source": [
    "Ahora usaremos la division de polinomios mediante la fucion div. Dividiremos el polinomio en su forma expandida por cada uno de sus terminos, excepto el ultimo, de la forma factorizada. El resultado sera el termino faltante (X-10). Tambien notese que con cada division el polinomio ve su grado reducido en 1."
   ]
  },
  {
   "cell_type": "code",
   "execution_count": 15,
   "metadata": {
    "colab": {
     "base_uri": "https://localhost:8080/"
    },
    "collapsed": false,
    "executionInfo": {
     "elapsed": 599,
     "status": "ok",
     "timestamp": 1604109349003,
     "user": {
      "displayName": "Javier Alejandro Ortiz Silva",
      "photoUrl": "https://lh3.googleusercontent.com/a-/AOh14Gj-FusDtlMqXMci8xTXaZjCLjBHkSkWEV_Rj_7A=s64",
      "userId": "01373274722354518325"
     },
     "user_tz": 300
    },
    "id": "R3q53Oh9MDfT",
    "outputId": "5cdfd6af-34c6-4ae1-e9b3-04d9a02e830f"
   },
   "outputs": [
    {
     "name": "stdout",
     "output_type": "stream",
     "text": [
      "------------------------\n",
      "Division sintetica\n",
      "------------------------\n",
      "\n",
      "\n",
      "\n",
      "Polinomio en forma expandida grado 10:\n",
      "      x**10 - 55*x**9  + 1320*x**8 - 18150*x**7 + 157773*x**6 - 902055*x**5+ 3416930*x**4 - 8409500*x**3 + 12753576*x**2 - 10628640*x + 3628800\n",
      "\n",
      "\n",
      "\n",
      "division por (x - 1):\n",
      "x**9 - 54*x**8 + 1266*x**7 - 16884*x**6 + 140889*x**5 - 761166*x**4 + 2655764*x**3 - 5753736*x**2 + 6999840*x - 3628800\n",
      "0\n",
      "\n",
      "\n",
      "\n",
      "division por (x - 2):\n",
      "x**8 - 52*x**7 + 1162*x**6 - 14560*x**5 + 111769*x**4 - 537628*x**3 + 1580508*x**2 - 2592720*x + 1814400\n",
      "0\n",
      "\n",
      "\n",
      "\n",
      "division por (x - 3):\n",
      "x**7 - 49*x**6 + 1015*x**5 - 11515*x**4 + 77224*x**3 - 305956*x**2 + 662640*x - 604800\n",
      "0\n",
      "\n",
      "\n",
      "\n",
      "division por (x - 4):\n",
      "x**6 - 45*x**5 + 835*x**4 - 8175*x**3 + 44524*x**2 - 127860*x + 151200\n",
      "0\n",
      "\n",
      "\n",
      "\n",
      "division por (x - 5):\n"
     ]
    },
    {
     "name": "stdout",
     "output_type": "stream",
     "text": [
      "x**5 - 40*x**4 + 635*x**3 - 5000*x**2 + 19524*x - 30240\n",
      "0\n",
      "\n",
      "\n",
      "\n",
      "division por (x - 6):\n",
      "x**4 - 34*x**3 + 431*x**2 - 2414*x + 5040\n",
      "0\n",
      "\n",
      "\n",
      "\n",
      "division por (x - 7):\n",
      "x**3 - 27*x**2 + 242*x - 720\n",
      "0\n",
      "\n",
      "\n",
      "\n",
      "division por (x - 8):\n",
      "x**2 - 19*x + 90\n",
      "0\n",
      "\n",
      "\n",
      "\n",
      "division por (x - 9):\n",
      "x - 10\n",
      "0\n"
     ]
    }
   ],
   "source": [
    "from sympy import Symbol\n",
    "from sympy import div\n",
    "\n",
    "x = Symbol('x')\n",
    "print(\"------------------------\")\n",
    "print(\"Division sintetica\")\n",
    "print(\"------------------------\\n\\n\\n\")\n",
    "\n",
    "\n",
    "\n",
    "print(\"Polinomio en forma expandida grado 10:\")\n",
    "print(\"      x**10 - 55*x**9  + 1320*x**8 - 18150*x**7 + 157773*x**6 - 902055*x**5+ 3416930*x**4 - 8409500*x**3 + 12753576*x**2 - 10628640*x + 3628800\\n\\n\\n\")\n",
    "\n",
    "\n",
    "print(\"division por (x - 1):\")\n",
    "p = x**10 - 55*x**9  + 1320*x**8 - 18150*x**7 + 157773*x**6 - 902055*x**5+ 3416930*x**4 - 8409500*x**3 + 12753576*x**2 - 10628640*x + 3628800 \n",
    "\n",
    "p, r = div(p,  x-1)\n",
    "\n",
    "print(p)\n",
    "print(r)\n",
    "\n",
    "\n",
    "print(\"\\n\\n\\ndivision por (x - 2):\")\n",
    "p, r = div(p,  x-2)\n",
    "\n",
    "print(p)\n",
    "print(r)\n",
    "\n",
    "\n",
    "print(\"\\n\\n\\ndivision por (x - 3):\")\n",
    "p, r = div(p,  x-3)\n",
    "\n",
    "print(p)\n",
    "print(r)\n",
    "\n",
    "\n",
    "print(\"\\n\\n\\ndivision por (x - 4):\")\n",
    "p, r = div(p,  x-4)\n",
    "\n",
    "print(p)\n",
    "print(r)\n",
    "\n",
    "\n",
    "print(\"\\n\\n\\ndivision por (x - 5):\")\n",
    "p, r = div(p,  x-5)\n",
    "\n",
    "print(p)\n",
    "print(r)\n",
    "\n",
    "\n",
    "print(\"\\n\\n\\ndivision por (x - 6):\")\n",
    "p, r = div(p,  x-6)\n",
    "\n",
    "print(p)\n",
    "print(r)\n",
    "\n",
    "\n",
    "print(\"\\n\\n\\ndivision por (x - 7):\")\n",
    "p, r = div(p,  x-7)\n",
    "\n",
    "print(p)\n",
    "print(r)\n",
    "\n",
    "\n",
    "\n",
    "print(\"\\n\\n\\ndivision por (x - 8):\")\n",
    "p, r = div(p,  x-8)\n",
    "\n",
    "print(p)\n",
    "print(r)\n",
    "\n",
    "\n",
    "print(\"\\n\\n\\ndivision por (x - 9):\")\n",
    "p, r = div(p,  x-9)\n",
    "\n",
    "print(p)\n",
    "print(r)"
   ]
  },
  {
   "cell_type": "markdown",
   "metadata": {
    "collapsed": false,
    "id": "leafmU0WzXAE"
   },
   "source": [
    "**--------------------------------------------------------------------------------------------------------------------------------------------------------------**"
   ]
  },
  {
   "cell_type": "markdown",
   "metadata": {
    "collapsed": false,
    "id": "BbKormi9VmXF"
   },
   "source": [
    "#Parte 2: Integrales en SymPy"
   ]
  },
  {
   "cell_type": "markdown",
   "metadata": {
    "collapsed": false,
    "id": "Yb0VCEOUbjE3"
   },
   "source": [
    "##A Integrales simples en una variable"
   ]
  },
  {
   "cell_type": "markdown",
   "metadata": {
    "collapsed": false,
    "id": "Rr_-9nlMt3h3"
   },
   "source": [
    "**Ejemplo 1**"
   ]
  },
  {
   "cell_type": "markdown",
   "metadata": {
    "collapsed": false,
    "id": "L96Pt0peX1PV"
   },
   "source": [
    "\n",
    "\n",
    "Integral de una funcion producto de polinomio, seno y exponencial.\n",
    "\n",
    "$$\\int_{-5}^5 x^2sin(x)e^x dx$$\n"
   ]
  },
  {
   "cell_type": "markdown",
   "metadata": {
    "collapsed": false,
    "id": "1JlcmpcyhkqC"
   },
   "source": [
    "<img src=\"https://raw.githubusercontent.com/jortizsi/SymPyLab/main/Integral1.png\"/>"
   ]
  },
  {
   "cell_type": "markdown",
   "metadata": {
    "collapsed": false,
    "id": "qGHUfbmEfi3s"
   },
   "source": [
    "##Solucion analitica usando el teorema fundamental del calculo"
   ]
  },
  {
   "cell_type": "code",
   "execution_count": 16,
   "metadata": {
    "colab": {
     "base_uri": "https://localhost:8080/"
    },
    "collapsed": false,
    "executionInfo": {
     "elapsed": 3146,
     "status": "ok",
     "timestamp": 1604329413350,
     "user": {
      "displayName": "Javier Alejandro Ortiz Silva",
      "photoUrl": "https://lh3.googleusercontent.com/a-/AOh14Gj-FusDtlMqXMci8xTXaZjCLjBHkSkWEV_Rj_7A=s64",
      "userId": "01373274722354518325"
     },
     "user_tz": 300
    },
    "id": "UX_ichv7Vp2x",
    "outputId": "2ca16219-0715-46c5-e439-6b80649a23e4"
   },
   "outputs": [
    {
     "name": "stdout",
     "output_type": "stream",
     "text": [
      "Antiderivada o integral indefinida\n",
      "       x**2*exp(x)*sin(x)/2 - x**2*exp(x)*cos(x)/2 + x*exp(x)*cos(x) - exp(x)*sin(x)/2 - exp(x)*cos(x)/2 \n",
      "\n",
      "\n",
      "\n",
      "Solucion analitica F(b) - F(a) donde F es la antiderivada, b limite superior y a limite inferior\n",
      "     -2044.6405105725285\n"
     ]
    }
   ],
   "source": [
    "import sympy\n",
    "# we’ll save results using different methods in this data structure, called a dictionary\n",
    "result = {}  \n",
    "x = sympy.Symbol(\"x\")\n",
    "i = sympy.integrate(x**2*sympy.sin(x) * sympy.exp(x))\n",
    "print(\"Antiderivada o integral indefinida\\n      \",i,\"\\n\\n\\n\")\n",
    "\n",
    "print(\"Solucion analitica F(b) - F(a) donde F es la antiderivada, b limite superior y a limite inferior\")\n",
    "\n",
    "result[\"analytical\"] = float(i.subs(x, 5) - i.subs(x, -5))\n",
    "\n",
    "print(\"    \",result[\"analytical\"])"
   ]
  },
  {
   "cell_type": "markdown",
   "metadata": {
    "collapsed": false,
    "id": "Nx-uHAcUi03B"
   },
   "source": [
    "##Estimacion por metodo de montecarlo"
   ]
  },
  {
   "cell_type": "code",
   "execution_count": 17,
   "metadata": {
    "colab": {
     "base_uri": "https://localhost:8080/"
    },
    "collapsed": false,
    "executionInfo": {
     "elapsed": 84445,
     "status": "ok",
     "timestamp": 1604331810942,
     "user": {
      "displayName": "Javier Alejandro Ortiz Silva",
      "photoUrl": "https://lh3.googleusercontent.com/a-/AOh14Gj-FusDtlMqXMci8xTXaZjCLjBHkSkWEV_Rj_7A=s64",
      "userId": "01373274722354518325"
     },
     "user_tz": 300
    },
    "id": "597V5IJ3cI53",
    "outputId": "c4e92c32-923a-4261-b8da-44d4cf7b2e4f"
   },
   "outputs": [
    {
     "name": "stdout",
     "output_type": "stream",
     "text": [
      "Estimacion por metodo estandar de MonteCarlo: -2074.80085674130\n"
     ]
    }
   ],
   "source": [
    "import numpy\n",
    "N = 100_000\n",
    "accum = 0\n",
    "for i in range(N):\n",
    "    x = numpy.random.uniform(-5, 5)\n",
    "    accum += x**2*sympy.sin(x) * sympy.exp(x)\n",
    "volume = 5- (-5)\n",
    "result[\"MC\"] = volume * accum / float(N)\n",
    "print(\"Estimacion por metodo estandar de MonteCarlo: {}\".format(result[\"MC\"]))"
   ]
  },
  {
   "cell_type": "markdown",
   "metadata": {
    "collapsed": false,
    "id": "JfWl-MaBuEfv"
   },
   "source": [
    "**Ejemplo 2**"
   ]
  },
  {
   "cell_type": "markdown",
   "metadata": {
    "collapsed": false,
    "id": "d_jxc4ghpA9X"
   },
   "source": [
    "\n",
    "\n",
    "Integral de una funcion producto de polinomio y logaritmo.\n",
    "$$\\int_{1}^5-x^4log_{2}{(x)} dx$$ \n"
   ]
  },
  {
   "cell_type": "markdown",
   "metadata": {
    "collapsed": false,
    "id": "AKoU8iqZpGLF"
   },
   "source": [
    "<img src=\"https://raw.githubusercontent.com/jortizsi/SymPyLab/main/Integral2Log.png\"/>"
   ]
  },
  {
   "cell_type": "markdown",
   "metadata": {
    "collapsed": false,
    "id": "Rcbq19m5pKRE"
   },
   "source": [
    "##Solucion analitica usando el teorema fundamental del calculo"
   ]
  },
  {
   "cell_type": "code",
   "execution_count": 18,
   "metadata": {
    "colab": {
     "base_uri": "https://localhost:8080/"
    },
    "collapsed": false,
    "executionInfo": {
     "elapsed": 735,
     "status": "ok",
     "timestamp": 1604333167871,
     "user": {
      "displayName": "Javier Alejandro Ortiz Silva",
      "photoUrl": "https://lh3.googleusercontent.com/a-/AOh14Gj-FusDtlMqXMci8xTXaZjCLjBHkSkWEV_Rj_7A=s64",
      "userId": "01373274722354518325"
     },
     "user_tz": 300
    },
    "id": "QppCXyGypNna",
    "outputId": "3a01a4d1-f6cf-4afb-dbfb-4ddbb790ef8d"
   },
   "outputs": [
    {
     "name": "stdout",
     "output_type": "stream",
     "text": [
      "Antiderivada o integral indefinida\n",
      "       -x**5*log(x)/(5*log(2)) + x**5/(25*log(2)) \n",
      "\n",
      "\n",
      "\n",
      "Solucion analitica F(b) - F(a) donde F es la antiderivada, b limite superior y a limite inferior\n",
      "     -1270.9258869951166\n"
     ]
    }
   ],
   "source": [
    "import sympy\n",
    "# we’ll save results using different methods in this data structure, called a dictionary\n",
    "result = {}  \n",
    "x = sympy.Symbol(\"x\")\n",
    "i = sympy.integrate(-(x**4)*sympy.log(x,2))\n",
    "\n",
    "print(\"Antiderivada o integral indefinida\\n      \",i,\"\\n\\n\\n\")\n",
    "\n",
    "print(\"Solucion analitica F(b) - F(a) donde F es la antiderivada, b limite superior y a limite inferior\")\n",
    "\n",
    "result[\"analytical\"] = float(i.subs(x, 5) - i.subs(x, 1))\n",
    "\n",
    "print(\"    \",result[\"analytical\"])"
   ]
  },
  {
   "cell_type": "markdown",
   "metadata": {
    "collapsed": false,
    "id": "fvnhC4mutkg6"
   },
   "source": [
    "##Estimacion por metodo de montecarlo"
   ]
  },
  {
   "cell_type": "code",
   "execution_count": 19,
   "metadata": {
    "colab": {
     "base_uri": "https://localhost:8080/"
    },
    "collapsed": false,
    "executionInfo": {
     "elapsed": 100308,
     "status": "ok",
     "timestamp": 1604334611473,
     "user": {
      "displayName": "Javier Alejandro Ortiz Silva",
      "photoUrl": "https://lh3.googleusercontent.com/a-/AOh14Gj-FusDtlMqXMci8xTXaZjCLjBHkSkWEV_Rj_7A=s64",
      "userId": "01373274722354518325"
     },
     "user_tz": 300
    },
    "id": "GMzKO-XmtrJN",
    "outputId": "cc7696ca-4339-4486-e216-b81b57e75c5d"
   },
   "outputs": [
    {
     "name": "stdout",
     "output_type": "stream",
     "text": [
      "Estimacion por metodo estandar de MonteCarlo: -1275.92074369459\n"
     ]
    }
   ],
   "source": [
    "import numpy\n",
    "N = 100_000\n",
    "accum = 0\n",
    "for i in range(N):\n",
    "    x = numpy.random.uniform(1, 5)\n",
    "    accum += -(x**4)*float(sympy.log(x,2))\n",
    "volume = 5- 1\n",
    "result[\"MC\"] = volume * accum / float(N)\n",
    "print(\"Estimacion por metodo estandar de MonteCarlo: {}\".format(result[\"MC\"]))"
   ]
  },
  {
   "cell_type": "markdown",
   "metadata": {
    "collapsed": false,
    "id": "pOrEb8eu2XIF"
   },
   "source": [
    "##B. Integrales triples para funciones de 3 variables"
   ]
  },
  {
   "cell_type": "markdown",
   "metadata": {
    "collapsed": false,
    "id": "8M6uQTd3l1S_"
   },
   "source": [
    "**Ejemplo 1**"
   ]
  },
  {
   "cell_type": "markdown",
   "metadata": {
    "collapsed": false,
    "id": "QDIePqCd0fgv"
   },
   "source": [
    "\n",
    "\n",
    "Integral triple de una funcion producto de seno, polinomio, exponencial y logaritmo natural\n",
    "$$\\int_{0}^2 \\int_{0}^2 \\int_{0}^2 sen(x)y^3e^{z}ln(y) dx dy dz$$ \n"
   ]
  },
  {
   "cell_type": "markdown",
   "metadata": {
    "collapsed": false,
    "id": "EQG4e62DmE_t"
   },
   "source": [
    "<img src=\"https://raw.githubusercontent.com/jortizsi/SymPyLab/main/funcion3variables1.png\"/>"
   ]
  },
  {
   "cell_type": "markdown",
   "metadata": {
    "collapsed": false,
    "id": "ENHojQCWpBGc"
   },
   "source": [
    "##Solucion analitica usando el metodo integrate de SymPy"
   ]
  },
  {
   "cell_type": "code",
   "execution_count": 20,
   "metadata": {
    "colab": {
     "base_uri": "https://localhost:8080/"
    },
    "collapsed": false,
    "executionInfo": {
     "elapsed": 1552,
     "status": "ok",
     "timestamp": 1604348222680,
     "user": {
      "displayName": "Javier Alejandro Ortiz Silva",
      "photoUrl": "https://lh3.googleusercontent.com/a-/AOh14Gj-FusDtlMqXMci8xTXaZjCLjBHkSkWEV_Rj_7A=s64",
      "userId": "01373274722354518325"
     },
     "user_tz": 300
    },
    "id": "50FoRonSkPwg",
    "outputId": "70923a27-2fcd-44ae-933f-5164ba7c084a"
   },
   "outputs": [
    {
     "name": "stdout",
     "output_type": "stream",
     "text": [
      "Solucion analitica: 16.038101950678463\n"
     ]
    }
   ],
   "source": [
    "import sympy\n",
    "sympy.init_printing()\n",
    "\n",
    "x = sympy.Symbol(\"x\")\n",
    "y = sympy.Symbol(\"y\")\n",
    "z = sympy.Symbol(\"z\")\n",
    "expr =   sympy.sin(x)*y**3*sympy.exp(z)*sympy.ln(y)\n",
    "\n",
    "res = sympy.integrate(expr,\n",
    "                      (x, 0,2),\n",
    "                      (y, 0,2),\n",
    "                      (z, 0,2))\n",
    "# Note: we use float(res) to convert res from symbolic form to floating point form\n",
    "result = {} \n",
    "result[\"analytical\"] = float(res)\n",
    "print(\"Solucion analitica: {}\".format(result[\"analytical\"]))"
   ]
  },
  {
   "cell_type": "markdown",
   "metadata": {
    "collapsed": false,
    "id": "DBjEIbt6mbrP"
   },
   "source": [
    "##Estimacion por metodo de montecarlo"
   ]
  },
  {
   "cell_type": "code",
   "execution_count": 21,
   "metadata": {
    "colab": {
     "base_uri": "https://localhost:8080/"
    },
    "collapsed": false,
    "executionInfo": {
     "elapsed": 11457,
     "status": "ok",
     "timestamp": 1604348696596,
     "user": {
      "displayName": "Javier Alejandro Ortiz Silva",
      "photoUrl": "https://lh3.googleusercontent.com/a-/AOh14Gj-FusDtlMqXMci8xTXaZjCLjBHkSkWEV_Rj_7A=s64",
      "userId": "01373274722354518325"
     },
     "user_tz": 300
    },
    "id": "hsZG6fpZlUnv",
    "outputId": "232772dd-d197-433c-a885-a6105c7dc75b"
   },
   "outputs": [
    {
     "name": "stdout",
     "output_type": "stream",
     "text": [
      "Estimacion por metodo estandar de MonteCarlo: 16.11611503905742\n"
     ]
    }
   ],
   "source": [
    "import numpy\n",
    "N = 1_000_000\n",
    "accum = 0\n",
    "for i in range(N):\n",
    "    x = numpy.random.uniform(0,2)\n",
    "    y = numpy.random.uniform(0,2)\n",
    "    z = numpy.random.uniform(0,2)\n",
    "    accum += numpy.sin(x)*y**3*numpy.exp(z)*numpy.log(y)\n",
    "volume = 8\n",
    "result = {} \n",
    "result[\"MC\"] = volume * accum / float(N)\n",
    "print(\"Estimacion por metodo estandar de MonteCarlo: {}\".format(result[\"MC\"]))"
   ]
  },
  {
   "cell_type": "markdown",
   "metadata": {
    "collapsed": false,
    "id": "0RP2JqtUr3yQ"
   },
   "source": [
    "**Ejemplo 2**"
   ]
  },
  {
   "cell_type": "markdown",
   "metadata": {
    "collapsed": false,
    "id": "92udMxPE1JRC"
   },
   "source": [
    "\n",
    "\n",
    "Integral triple de una funcion producto de polinomio, seno cuadrado, exponencial negativo y logaritmo base dos\n",
    "$$\\int_{0}^2 \\int_{0}^2 \\int_{0}^2 sen(x)y^3e^{z}ln(y) dx dy dz$$ \n"
   ]
  },
  {
   "cell_type": "markdown",
   "metadata": {
    "collapsed": false,
    "id": "P2QTyNtfwosr"
   },
   "source": [
    "<img src=\"https://raw.githubusercontent.com/jortizsi/SymPyLab/main/funcion3variables2.png\"/>"
   ]
  },
  {
   "cell_type": "markdown",
   "metadata": {
    "collapsed": false,
    "id": "9jCgVuO6vb8p"
   },
   "source": [
    "##Solucion analitica usando el metodo integrate de SymPy"
   ]
  },
  {
   "cell_type": "code",
   "execution_count": 22,
   "metadata": {
    "colab": {
     "base_uri": "https://localhost:8080/"
    },
    "collapsed": false,
    "executionInfo": {
     "elapsed": 802,
     "status": "ok",
     "timestamp": 1604350071008,
     "user": {
      "displayName": "Javier Alejandro Ortiz Silva",
      "photoUrl": "https://lh3.googleusercontent.com/a-/AOh14Gj-FusDtlMqXMci8xTXaZjCLjBHkSkWEV_Rj_7A=s64",
      "userId": "01373274722354518325"
     },
     "user_tz": 300
    },
    "id": "kw11jqT7qyOJ",
    "outputId": "248e3d62-b59b-42e2-a170-9c3cf3350737"
   },
   "outputs": [
    {
     "name": "stdout",
     "output_type": "stream",
     "text": [
      "Solucion analitica: 3099.5165072370155\n"
     ]
    }
   ],
   "source": [
    "import sympy\n",
    "sympy.init_printing()\n",
    "\n",
    "x = sympy.Symbol(\"x\")\n",
    "y = sympy.Symbol(\"y\")\n",
    "z = sympy.Symbol(\"z\")\n",
    "expr =   (x**2)*((sympy.sin(y))**2)*sympy.exp(-z)*sympy.log(x,2)\n",
    "res = sympy.integrate(expr,\n",
    "                      (x, 0,5),\n",
    "                      (y, -1,4),\n",
    "                      (z, -3,2))\n",
    "# Note: we use float(res) to convert res from symbolic form to floating point form\n",
    "result = {} \n",
    "result[\"analytical\"] = float(res)\n",
    "print(\"Solucion analitica: {}\".format(result[\"analytical\"]))"
   ]
  },
  {
   "cell_type": "markdown",
   "metadata": {
    "collapsed": false,
    "id": "P1_wDW7zvf09"
   },
   "source": [
    "##Estimacion por metodo de montecarlo"
   ]
  },
  {
   "cell_type": "code",
   "execution_count": 1,
   "metadata": {
    "colab": {
     "base_uri": "https://localhost:8080/"
    },
    "collapsed": false,
    "executionInfo": {
     "elapsed": 103917,
     "status": "ok",
     "timestamp": 1604350756355,
     "user": {
      "displayName": "Javier Alejandro Ortiz Silva",
      "photoUrl": "https://lh3.googleusercontent.com/a-/AOh14Gj-FusDtlMqXMci8xTXaZjCLjBHkSkWEV_Rj_7A=s64",
      "userId": "01373274722354518325"
     },
     "user_tz": 300
    },
    "id": "kVhKDn-arJW4",
    "outputId": "f8b0041f-844b-4142-fa13-d01574264cd0"
   },
   "outputs": [
   ],
   "source": [
    "import numpy\n",
    "\n",
    "N = 10_000_000\n",
    "accum = 0\n",
    "for i in range(N):\n",
    "    x = numpy.random.uniform(0,5)\n",
    "    y = numpy.random.uniform(-1,4)\n",
    "    z = numpy.random.uniform(-3,2)\n",
    "    accum += (x**2)*((numpy.sin(y))**2)*numpy.exp(-z)*numpy.math.log2(x)\n",
    "volume = 125\n",
    "result = {} \n",
    "result[\"MC\"] = volume * accum / float(N)\n",
    "print(\"Estimacion por metodo estandar de MonteCarlo: {}\".format(result[\"MC\"]))"
   ]
  },
  {
   "cell_type": "code",
   "execution_count": 0,
   "metadata": {
    "collapsed": false
   },
   "outputs": [
   ],
   "source": [
   ]
  }
 ],
 "metadata": {
  "colab": {
   "collapsed_sections": [
   ],
   "name": "SymPyLab_Colab.ipynb",
   "provenance": [
   ]
  },
  "kernelspec": {
   "display_name": "SageMath 9.2",
   "language": "sagemath",
   "metadata": {
    "cocalc": {
     "description": "Open-source mathematical software system",
     "priority": 10,
     "url": "https://www.sagemath.org/"
    }
   },
   "name": "sage-9.2"
  },
  "language_info": {
   "codemirror_mode": {
    "name": "ipython",
    "version": 3
   },
   "file_extension": ".py",
   "mimetype": "text/x-python",
   "name": "python",
   "nbconvert_exporter": "python",
   "pygments_lexer": "ipython3",
   "version": "3.8.5"
  }
 },
 "nbformat": 4,
 "nbformat_minor": 4
}